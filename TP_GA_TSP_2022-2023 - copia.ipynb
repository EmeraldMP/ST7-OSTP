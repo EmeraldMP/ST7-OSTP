{
 "cells": [
  {
   "cell_type": "markdown",
   "metadata": {},
   "source": [
    "\n",
    "\n",
    "# <font color=blue><div align=\"center\">Metaheuristics -- Practical Work </div></font>"
   ]
  },
  {
   "cell_type": "markdown",
   "metadata": {},
   "source": [
    "# 1. Introduction"
   ]
  },
  {
   "cell_type": "markdown",
   "metadata": {},
   "source": [
    "## 1.1. Recalls about metaheuristics\n",
    "\n",
    "**Definition of metaheuristics**\n",
    "\n",
    "<div style=\"text-align: justify\"> \n",
    "According to the website of Metaheuristics Network,\n",
    "\"<i>A metaheuristic is a set of concepts that can be used to define heuristic methods that can be applied to a wide set of different problems. In other words, a metaheuristic can be seen as a general algorithmic framework which can be applied to different optimization problems with relatively few modifications to make them adapted to a specific problem.</i>\"\n",
    "</div>\n",
    "\n",
    "<div style=\"text-align: justify\"> \n",
    "In operations research, metaheuristics are often used in the context of NP-hard optimization problems. While exact algorithms would fail to find the optimal solution to such optimization problems as their complexity is too large, (well-designed) metaheuristics are able to find <i>good-quality solutions</i>. As the definition above explains it, metaheuristics are generic approaches that can then be adapted to solve given optimization problems.\n",
    "</div>"
   ]
  },
  {
   "cell_type": "markdown",
   "metadata": {},
   "source": [
    "**Classification of metaheuristics**\n",
    "\n",
    "<div style=\"text-align: justify\"> \n",
    "There are a wide variety of metaheuristics and a number of properties with respect to which to classify them, namely: local search vs global search; single-solution vs population-based; nature-inspired and metaphor-based metaheuristics; etc. <br>\n",
    "(See the following picture corresponding to the Euler diagram of the different classifications of metaheuristics).\n",
    "</div>\n",
    "<img src=\"Figures/metaheuristics_classification.png\" width=\"500\" height=\"500\" />"
   ]
  },
  {
   "cell_type": "markdown",
   "metadata": {},
   "source": [
    "## 1.2. Objective of this practical work"
   ]
  },
  {
   "cell_type": "markdown",
   "metadata": {},
   "source": [
    "<div style=\"text-align: justify\"> \n",
    "The objective of this practical work is to implement and apply one kind of metaheuristic, a <i>Genetic Algorithm (GA)</i>, on a specific optimization problem, the <i>Traveling Salesman Problem (TSP)</i>.\n",
    "</div>"
   ]
  },
  {
   "cell_type": "markdown",
   "metadata": {},
   "source": [
    "## 1.3. Recalls about the TSP\n",
    "\n",
    "**Description of the TSP**\n",
    "\n",
    "<div style=\"text-align: justify\"> \n",
    "The TSP can be described as follows: given a set of cities and the distances between each pair of cities, the Travelling Salesman Problem consists in finding the shortest route that visits each city and returns to the origin city.\n",
    "</div>\n",
    "\n",
    "<div style=\"text-align: justify\"> \n",
    "The following picture is an illustration of a feasible route on an instance of 50 cities.\n",
    "</div>\n",
    "<img src=\"Figures/TSP_plot.png\" width=\"400\" height=\"500\" />\n",
    "\n",
    "**TSP constraints**\n",
    "\n",
    "There are *two essential constraints* to keep in mind:\n",
    "1. each city must be visited *exactly one time*;\n",
    "2. the route must *start and end* at the same city.\n",
    "\n",
    "So the total distance of the route must be calculated accordingly."
   ]
  },
  {
   "cell_type": "markdown",
   "metadata": {},
   "source": [
    "## 1.4. Description of the GA approach\n",
    "\n",
    "#### Quick overview about GA\n",
    "\n",
    "<div style=\"text-align: justify\"> \n",
    "Genetic Algorithms are fascinating approaches for solving optimization and search problems. Very briefly, a GA is a kind of metaheuristic inspired by the process of natural selection that belongs to the larger class of <i>Evolutionary Algorithms (EA)</i>. GA is commonly used to generate high-quality solutions to optimization and search problems by relying on biologically inspired operators such as crossover, mutation and selection.\n",
    "</div>\n",
    "\n",
    "(A summary about GA can be found [here](https://towardsdatascience.com/introduction-to-optimization-with-genetic-algorithm-2f5001d9964b))."
   ]
  },
  {
   "cell_type": "markdown",
   "metadata": {},
   "source": [
    "#### Terminology about GA in the context of the TSP\n",
    "\n",
    "Let’s start with a few definitions rephrased in the context of the TSP:\n",
    "- a *gene*: a city, represented as (x, y) coordinates;\n",
    "- an *individual* (or a chromosome): a single route satisfying the two constraints above;\n",
    "- a *population*: a collection of individuals, here a collection of routes;\n",
    "- a *generation*: the *fixed-sized* population at a time step ;\n",
    "- the *fitness score* of an individual: a score that quantifies how good each route is, which is here correlated to how short the total distance is;\n",
    "- the *elites*: the best individuals of the population, based on their respective fitness score;\n",
    "- the *parents* of a *child*: the two routes that were combined to get the new route;\n",
    "- a *mating pool*: a collection of parents;\n",
    "- the *breeding* process: a process combining parents to get a child;\n",
    "- the *mutation* process: a process introducing random variations in a population;\n",
    "- the *elitism* principle: a principle according to which best individuals are automatically carried into the next generation."
   ]
  },
  {
   "cell_type": "markdown",
   "metadata": {},
   "source": [
    "#### Main steps of the implemented GA\n",
    "\n",
    "The GA that we are going to implement proceeds in the following steps:\n",
    "1. create an initial population of individuals as the first generation;\n",
    "2. compute the fitness over the generation in order to rank the individuals;\n",
    "3. select the best individuals to form the group of elites;\n",
    "4. create the group formed by new individuals as follows\n",
    "    1. select a mating pool;\n",
    "    2. breed parents of the mating pool to get new individuals and form a large group of children;\n",
    "    3. apply random mutations to the children;\n",
    "    4. compute the fitness over the children in order to rank them;\n",
    "    5. select the best children to form the group of best children in order to complement the group of elites;\n",
    "5. merge the groups of elites and best-children to form a new generation;\n",
    "6. repeat steps 2-5 with the new generation until reaching a stopping criterion;\n",
    "7. select the best individuals of the last generation.\n",
    "\n",
    "<img src=\"Figures/GA_steps.png\" width=\"800\" height=\"800\" />"
   ]
  },
  {
   "cell_type": "markdown",
   "metadata": {},
   "source": [
    "**Note 1:** we choose to design a GA with generations of the *same fixed size*.\n",
    "\n",
    "**Note 2:** through this practical work, the ways that the different steps are implemented (fitness definition, mating pool selection, breeding and mutation processes, etc.) are just *modelisation choices*; you are free to change them and choose to implement additional or other strategies to improve your GA."
   ]
  },
  {
   "cell_type": "markdown",
   "metadata": {},
   "source": [
    "# 2. Preliminary work\n",
    "\n",
    "Before getting into the implementation of the GA, we need to prepare some basic functions that will be used in the implementation of the main steps. **You will not have much to do in this part**.\n",
    "\n",
    "**Note:** if any of the following packages is not installed on your machine, please run the code line `!pip3 install packageName` (or `!pip install packageName`) in a code cell to install it. "
   ]
  },
  {
   "cell_type": "code",
   "execution_count": 1,
   "metadata": {},
   "outputs": [],
   "source": [
    "import numpy as np\n",
    "import random\n",
    "import csv\n",
    "import time\n",
    "import matplotlib.pyplot as plt\n",
    "from pprint import pprint\n",
    "import copy"
   ]
  },
  {
   "cell_type": "markdown",
   "metadata": {},
   "source": [
    "## 2.1. About the cities\n",
    "\n",
    "A `city` will be simply implemented as a couple `(x, y)` corresponding to its (integer) coordinates.\n",
    "\n",
    "For instance,"
   ]
  },
  {
   "cell_type": "code",
   "execution_count": 2,
   "metadata": {},
   "outputs": [],
   "source": [
    "city0 = (2, 3)"
   ]
  },
  {
   "cell_type": "markdown",
   "metadata": {},
   "source": [
    "A basic operation will need to do is to compute the distance between two cities.\n",
    "\n",
    "The function `computeDistanceBetweenCities(city1, city2)` computes the Euclidean norm between the coordinates of `city1` and `city2`."
   ]
  },
  {
   "cell_type": "code",
   "execution_count": 3,
   "metadata": {},
   "outputs": [],
   "source": [
    "def computeDistanceBetweenCities(city1, city2):\n",
    "    return np.linalg.norm(np.array(city2) - np.array(city1), ord = 2)"
   ]
  },
  {
   "cell_type": "markdown",
   "metadata": {},
   "source": [
    "For instance,"
   ]
  },
  {
   "cell_type": "code",
   "execution_count": 4,
   "metadata": {},
   "outputs": [
    {
     "name": "stdout",
     "output_type": "stream",
     "text": [
      "5.0\n"
     ]
    }
   ],
   "source": [
    "city1 = (0, 0)\n",
    "city2 = (3, 4)\n",
    "print(computeDistanceBetweenCities(city1, city2))"
   ]
  },
  {
   "cell_type": "markdown",
   "metadata": {},
   "source": [
    "## 2.2. About TSP instances\n",
    "\n",
    "### 2.2.1. About random TSP instances\n",
    "\n",
    "A TSP `instance` will be implemented as a list of cities.\n",
    "\n",
    "In order to create random TSP instances, we implement the function `createRandomInstance(nbCities, length)` which creates an `instance` of `nbCities` setting their coordinates randomly in $\\{ 0, ...,$ `length` $\\} \\times \\{ 0, ...,$ `length` $\\}$."
   ]
  },
  {
   "cell_type": "code",
   "execution_count": 5,
   "metadata": {},
   "outputs": [],
   "source": [
    "def createRandomInstance(nbCities, length = 200):\n",
    "    instance = []\n",
    "    for i in range(0, nbCities):\n",
    "        instance.append((int(random.random()*(length + 1)),\n",
    "                         int(random.random()*(length + 1))))\n",
    "    return instance"
   ]
  },
  {
   "cell_type": "markdown",
   "metadata": {},
   "source": [
    "For instance,"
   ]
  },
  {
   "cell_type": "code",
   "execution_count": 6,
   "metadata": {},
   "outputs": [
    {
     "name": "stdout",
     "output_type": "stream",
     "text": [
      "[(16, 29), (150, 88), (162, 151), (34, 198), (156, 0), (32, 180), (126, 177), (67, 3), (81, 200), (154, 65)]\n"
     ]
    }
   ],
   "source": [
    "nbCities = 10\n",
    "instance = createRandomInstance(nbCities)\n",
    "print(instance)"
   ]
  },
  {
   "cell_type": "markdown",
   "metadata": {},
   "source": [
    "### 2.3.2. About fixed TSP instances\n",
    "\n",
    "In order to compare the results of your GA with other students, we need to work on common instances. Several data sets of TSP instances are given as .csv files.\n",
    "\n",
    "The function `loadFixedInstance(fileName)` returns the TSP `instance` stored in the file `fileName`.\n",
    "\n",
    "**Note:** the .csv files must be a directory Instances located in the same directory as your Jupyter file."
   ]
  },
  {
   "cell_type": "code",
   "execution_count": 7,
   "metadata": {},
   "outputs": [],
   "source": [
    "def loadFixedInstance(fileName):\n",
    "    folderName = \"Instances/\"\n",
    "    if not (\".csv\" in fileName):\n",
    "        fileName += \".csv\"\n",
    "    if not (folderName in fileName):\n",
    "        fileName = folderName + fileName\n",
    "    with open(fileName) as file:\n",
    "        lines = csv.reader(file)\n",
    "        instance = []\n",
    "        for line in lines:\n",
    "            instance.append((int(line[0]), int(line[1])))\n",
    "    return instance"
   ]
  },
  {
   "cell_type": "markdown",
   "metadata": {},
   "source": [
    "For instance,"
   ]
  },
  {
   "cell_type": "code",
   "execution_count": 8,
   "metadata": {},
   "outputs": [
    {
     "name": "stdout",
     "output_type": "stream",
     "text": [
      "[(0, 35), (73, 93), (121, 149), (68, 187), (196, 130), (103, 137), (163, 196), (116, 25), (139, 181), (50, 123)]\n"
     ]
    }
   ],
   "source": [
    "fileName = \"TSPInstance10.csv\"\n",
    "exampleInstance = loadFixedInstance(fileName)\n",
    "print(exampleInstance)"
   ]
  },
  {
   "cell_type": "markdown",
   "metadata": {},
   "source": [
    "# 3. Implementation of the GA's main steps\n",
    "\n",
    "Now, we can start implementing the GA. We will follow the main steps presented in the Introduction. **You will have work to do in this part!**\n",
    "\n",
    "> Implementation instructions will be presented this way. Code to implement will be notified with comment lines `# To be completed - Begin` and `# To be completed - End`. *Do not overwrite* variables whose names start with `example`; there are here to check your code."
   ]
  },
  {
   "cell_type": "markdown",
   "metadata": {},
   "source": [
    "## 3.1. Step 1 - Create an initial population of individuals\n",
    "\n",
    "### 3.1.1. Create random individuals\n",
    "\n",
    "First, we need a function to create various random feasible individuals, *i.e.* a route that satisfies the constraints 1 and 2.\n",
    "\n",
    "> Implement a function `createRandomIndividual(instance)` which takes as input a TSP `instance` and returns a random feasible `individual`. The returned `individual` is a list of cities, like the instance but here representing a route. To create such a route, this function adds into the route each city of the instance in a random order; in other words, the function computes a random permutation of the list of cities which form the instance."
   ]
  },
  {
   "cell_type": "code",
   "execution_count": 9,
   "metadata": {},
   "outputs": [],
   "source": [
    "\n",
    "def generate_instance(NW=2, NJ=9, ):\n",
    "\n",
    "    I = dict()\n",
    "\n",
    "    for w in range(NW):\n",
    "        I[\"h\" + str(w)] = dict()\n",
    "        I[\"h\" + str(w)][\"pos\"] = (random.randint(0, 100), random.randint(0, 100))\n",
    "        I[\"h\" + str(w)][\"alpha\"] = random.randint(60*6, 60*8)\n",
    "        I[\"h\" + str(w)][\"beta\"] = random.randint(60*16, 60*20)\n",
    "        I[\"h\" + str(w)][\"done\"] = None\n",
    "\n",
    "    for j in range(NJ):\n",
    "        I[\"j\" + str(j)] = dict()\n",
    "        I[\"j\" + str(j)][\"pos\"] = (random.randint(0, 100), random.randint(0, 100))\n",
    "        begin = random.randint(60*7, 60*19)\n",
    "        duration = random.randint(30, 60*1.5)\n",
    "        end = begin + duration + random.randint(30, duration)\n",
    "        I[\"j\" + str(j)][\"begin\"] = begin\n",
    "        I[\"j\" + str(j)][\"end\"] = end\n",
    "        I[\"j\" + str(j)][\"duration\"] = duration\n",
    "        I[\"j\" + str(j)][\"done\"] = None\n",
    "        \n",
    "    matrix_dist = dict()\n",
    "    for key1, value1 in I.items():\n",
    "        for key2, value2 in I.items():\n",
    "            matrix_dist[(key1, key2)] = abs(value1[\"pos\"][0] - value2[\"pos\"][0]) + abs(value1[\"pos\"][1] - value2[\"pos\"][1])\n",
    "    return I, matrix_dist"
   ]
  },
  {
   "cell_type": "code",
   "execution_count": 10,
   "metadata": {
    "scrolled": true
   },
   "outputs": [
    {
     "name": "stdout",
     "output_type": "stream",
     "text": [
      "{'h0': {'alpha': 417, 'beta': 1103, 'done': None, 'pos': (59, 29)},\n",
      " 'h1': {'alpha': 459, 'beta': 1127, 'done': None, 'pos': (94, 14)},\n",
      " 'j0': {'begin': 950,\n",
      "        'done': None,\n",
      "        'duration': 76,\n",
      "        'end': 1080,\n",
      "        'pos': (19, 52)},\n",
      " 'j1': {'begin': 981,\n",
      "        'done': None,\n",
      "        'duration': 76,\n",
      "        'end': 1114,\n",
      "        'pos': (24, 97)},\n",
      " 'j2': {'begin': 881,\n",
      "        'done': None,\n",
      "        'duration': 69,\n",
      "        'end': 1018,\n",
      "        'pos': (31, 45)},\n",
      " 'j3': {'begin': 592,\n",
      "        'done': None,\n",
      "        'duration': 79,\n",
      "        'end': 749,\n",
      "        'pos': (20, 91)},\n",
      " 'j4': {'begin': 668,\n",
      "        'done': None,\n",
      "        'duration': 89,\n",
      "        'end': 799,\n",
      "        'pos': (89, 35)},\n",
      " 'j5': {'begin': 754, 'done': None, 'duration': 86, 'end': 876, 'pos': (0, 4)},\n",
      " 'j6': {'begin': 518,\n",
      "        'done': None,\n",
      "        'duration': 38,\n",
      "        'end': 593,\n",
      "        'pos': (21, 76)},\n",
      " 'j7': {'begin': 950,\n",
      "        'done': None,\n",
      "        'duration': 82,\n",
      "        'end': 1088,\n",
      "        'pos': (39, 77)},\n",
      " 'j8': {'begin': 975,\n",
      "        'done': None,\n",
      "        'duration': 61,\n",
      "        'end': 1074,\n",
      "        'pos': (52, 12)}}\n"
     ]
    }
   ],
   "source": [
    "dict_I, matrix_dist = generate_instance(NW=2, NJ=9, )\n",
    "pprint(dict_I)"
   ]
  },
  {
   "cell_type": "code",
   "execution_count": 11,
   "metadata": {},
   "outputs": [
    {
     "name": "stdout",
     "output_type": "stream",
     "text": [
      "{'pos': (59, 29), 'alpha': 417, 'beta': 1103, 'done': None}\n"
     ]
    }
   ],
   "source": [
    "a = dict_I.get('h0')\n",
    "print(a)"
   ]
  },
  {
   "cell_type": "code",
   "execution_count": 12,
   "metadata": {},
   "outputs": [
    {
     "name": "stdout",
     "output_type": "stream",
     "text": [
      "{('h0', 'h0'): 0,\n",
      " ('h0', 'h1'): 50,\n",
      " ('h0', 'j0'): 63,\n",
      " ('h0', 'j1'): 103,\n",
      " ('h0', 'j2'): 44,\n",
      " ('h0', 'j3'): 101,\n",
      " ('h0', 'j4'): 36,\n",
      " ('h0', 'j5'): 84,\n",
      " ('h0', 'j6'): 85,\n",
      " ('h0', 'j7'): 68,\n",
      " ('h0', 'j8'): 24,\n",
      " ('h1', 'h0'): 50,\n",
      " ('h1', 'h1'): 0,\n",
      " ('h1', 'j0'): 113,\n",
      " ('h1', 'j1'): 153,\n",
      " ('h1', 'j2'): 94,\n",
      " ('h1', 'j3'): 151,\n",
      " ('h1', 'j4'): 26,\n",
      " ('h1', 'j5'): 104,\n",
      " ('h1', 'j6'): 135,\n",
      " ('h1', 'j7'): 118,\n",
      " ('h1', 'j8'): 44,\n",
      " ('j0', 'h0'): 63,\n",
      " ('j0', 'h1'): 113,\n",
      " ('j0', 'j0'): 0,\n",
      " ('j0', 'j1'): 50,\n",
      " ('j0', 'j2'): 19,\n",
      " ('j0', 'j3'): 40,\n",
      " ('j0', 'j4'): 87,\n",
      " ('j0', 'j5'): 67,\n",
      " ('j0', 'j6'): 26,\n",
      " ('j0', 'j7'): 45,\n",
      " ('j0', 'j8'): 73,\n",
      " ('j1', 'h0'): 103,\n",
      " ('j1', 'h1'): 153,\n",
      " ('j1', 'j0'): 50,\n",
      " ('j1', 'j1'): 0,\n",
      " ('j1', 'j2'): 59,\n",
      " ('j1', 'j3'): 10,\n",
      " ('j1', 'j4'): 127,\n",
      " ('j1', 'j5'): 117,\n",
      " ('j1', 'j6'): 24,\n",
      " ('j1', 'j7'): 35,\n",
      " ('j1', 'j8'): 113,\n",
      " ('j2', 'h0'): 44,\n",
      " ('j2', 'h1'): 94,\n",
      " ('j2', 'j0'): 19,\n",
      " ('j2', 'j1'): 59,\n",
      " ('j2', 'j2'): 0,\n",
      " ('j2', 'j3'): 57,\n",
      " ('j2', 'j4'): 68,\n",
      " ('j2', 'j5'): 72,\n",
      " ('j2', 'j6'): 41,\n",
      " ('j2', 'j7'): 40,\n",
      " ('j2', 'j8'): 54,\n",
      " ('j3', 'h0'): 101,\n",
      " ('j3', 'h1'): 151,\n",
      " ('j3', 'j0'): 40,\n",
      " ('j3', 'j1'): 10,\n",
      " ('j3', 'j2'): 57,\n",
      " ('j3', 'j3'): 0,\n",
      " ('j3', 'j4'): 125,\n",
      " ('j3', 'j5'): 107,\n",
      " ('j3', 'j6'): 16,\n",
      " ('j3', 'j7'): 33,\n",
      " ('j3', 'j8'): 111,\n",
      " ('j4', 'h0'): 36,\n",
      " ('j4', 'h1'): 26,\n",
      " ('j4', 'j0'): 87,\n",
      " ('j4', 'j1'): 127,\n",
      " ('j4', 'j2'): 68,\n",
      " ('j4', 'j3'): 125,\n",
      " ('j4', 'j4'): 0,\n",
      " ('j4', 'j5'): 120,\n",
      " ('j4', 'j6'): 109,\n",
      " ('j4', 'j7'): 92,\n",
      " ('j4', 'j8'): 60,\n",
      " ('j5', 'h0'): 84,\n",
      " ('j5', 'h1'): 104,\n",
      " ('j5', 'j0'): 67,\n",
      " ('j5', 'j1'): 117,\n",
      " ('j5', 'j2'): 72,\n",
      " ('j5', 'j3'): 107,\n",
      " ('j5', 'j4'): 120,\n",
      " ('j5', 'j5'): 0,\n",
      " ('j5', 'j6'): 93,\n",
      " ('j5', 'j7'): 112,\n",
      " ('j5', 'j8'): 60,\n",
      " ('j6', 'h0'): 85,\n",
      " ('j6', 'h1'): 135,\n",
      " ('j6', 'j0'): 26,\n",
      " ('j6', 'j1'): 24,\n",
      " ('j6', 'j2'): 41,\n",
      " ('j6', 'j3'): 16,\n",
      " ('j6', 'j4'): 109,\n",
      " ('j6', 'j5'): 93,\n",
      " ('j6', 'j6'): 0,\n",
      " ('j6', 'j7'): 19,\n",
      " ('j6', 'j8'): 95,\n",
      " ('j7', 'h0'): 68,\n",
      " ('j7', 'h1'): 118,\n",
      " ('j7', 'j0'): 45,\n",
      " ('j7', 'j1'): 35,\n",
      " ('j7', 'j2'): 40,\n",
      " ('j7', 'j3'): 33,\n",
      " ('j7', 'j4'): 92,\n",
      " ('j7', 'j5'): 112,\n",
      " ('j7', 'j6'): 19,\n",
      " ('j7', 'j7'): 0,\n",
      " ('j7', 'j8'): 78,\n",
      " ('j8', 'h0'): 24,\n",
      " ('j8', 'h1'): 44,\n",
      " ('j8', 'j0'): 73,\n",
      " ('j8', 'j1'): 113,\n",
      " ('j8', 'j2'): 54,\n",
      " ('j8', 'j3'): 111,\n",
      " ('j8', 'j4'): 60,\n",
      " ('j8', 'j5'): 60,\n",
      " ('j8', 'j6'): 95,\n",
      " ('j8', 'j7'): 78,\n",
      " ('j8', 'j8'): 0}\n"
     ]
    }
   ],
   "source": [
    "pprint(matrix_dist)"
   ]
  },
  {
   "cell_type": "code",
   "execution_count": 13,
   "metadata": {},
   "outputs": [
    {
     "data": {
      "text/plain": [
       "[7, 9, 6, 2, 5, 4, 8, 3, 1, 0]"
      ]
     },
     "execution_count": 13,
     "metadata": {},
     "output_type": "execute_result"
    }
   ],
   "source": [
    "random_list = random.sample(range(10), 10)\n",
    "random_list"
   ]
  },
  {
   "cell_type": "markdown",
   "metadata": {},
   "source": [
    "# heuristica: \n",
    "\n",
    "estaba pensado en hacer como algunos razonamientos lógicos para podar el problema, por ejemplo, decir que nunca jamas dos nodos podrán estar dentro del mimo trabajador, también darle una cierta preferencia a elegir nodos cercanos para ir de un lugar al otro"
   ]
  },
  {
   "cell_type": "code",
   "execution_count": 14,
   "metadata": {},
   "outputs": [],
   "source": [
    "def w_do_job_j_after_i(dict_I, w, j, i, travel, not_available_jobs):\n",
    "    if j in not_available_jobs:\n",
    "        return False, None, None\n",
    "    # Get the worker's data\n",
    "    dictI = copy.deepcopy(dict_I)\n",
    "    worker_key = f\"h{w}\"\n",
    "    worker_data = dictI.get(worker_key)\n",
    "\n",
    "    # Get the job's data\n",
    "    job_key = f\"j{j}\"\n",
    "    #print('job_key',job_key)\n",
    "    job_data = dictI.get(job_key)\n",
    "    #print('job_data',job_data)\n",
    "    \n",
    "    # Get the node_i's data\n",
    "    #print('i',i)\n",
    "    #print('travel[i]', travel[i])\n",
    "    i_data = dictI.get(travel[i])\n",
    "    #print('i_data',i_data)\n",
    "    \n",
    "    \n",
    "    job_data_aux = copy.deepcopy(job_data)\n",
    "    job_data_aux = copy.deepcopy(job_data)\n",
    "\n",
    "    # Calculate the time it takes to get from the worker's position to the job's position\n",
    "    \n",
    "    #travel_time = abs(i_data[\"pos\"][0] - job_data[\"pos\"][0]) + abs(i_data[\"pos\"][1] - job_data[\"pos\"][1])\n",
    "    travel_time = matrix_dist[(travel[i], job_key)]\n",
    "\n",
    "    primer_a_contar = 0\n",
    "    \n",
    "    nodos_a_donear = dict()\n",
    "    nodos_a_donear[job_key] = copy.deepcopy(job_data)\n",
    "    \n",
    "    if 'h' in travel[i]:\n",
    "        # Check if the worker can do the job\n",
    "        T = max(worker_data[\"alpha\"] + travel_time, job_data[\"begin\"]) + job_data[\"duration\"]\n",
    "        if job_data[\"end\"] < T:\n",
    "            return False, None, None\n",
    "        else:\n",
    "            primer_a_contar = 1\n",
    "            #last_T = T\n",
    "            #print(job_data)\n",
    "    else:\n",
    "        # Check if the worker can do the job\n",
    "        T = max(i_data[\"end\"] + travel_time, job_data[\"begin\"]) + job_data[\"duration\"]\n",
    "        if job_data[\"end\"] < T:\n",
    "            return False, None, None\n",
    "        else:\n",
    "            primer_a_contar = 1\n",
    "            #last_T = T\n",
    "          #  #print(job_data)\n",
    "    \n",
    "    nodo_precedente = job_key\n",
    "    inicializacion = True\n",
    "    for node in travel[i + primer_a_contar:]:\n",
    "        #print('node',node)\n",
    "        #print('nodo_precedente',nodo_precedente)\n",
    "        node_data = I.get(node)\n",
    "        nodos_a_donear[node] = copy.deepcopy(node_data)\n",
    "        nodo_precedente_data = I.get(nodo_precedente)\n",
    "        nodos_a_donear[nodo_precedente] = copy.deepcopy(nodo_precedente_data)\n",
    "        nodos_a_donear[nodo_precedente]['done'] = T\n",
    "\n",
    "            #print(\"ya pasó una iteracion\")\n",
    "        #print('node_data',node_data)\n",
    "        #print('nodo_precedente_data',nodo_precedente_data)\n",
    "        #travel_time = abs(node_data[\"pos\"][0] - nodo_precedente_data[\"pos\"][0]) + abs(node_data[\"pos\"][1] - nodo_precedente_data[\"pos\"][1])\n",
    "        travel_time = matrix_dist[(node, nodo_precedente)]\n",
    "        if 'h' in node:\n",
    "            #print(\"aaaaaaaa\", nodo_precedente, nodos_a_donear[nodo_precedente][\"done\"])\n",
    "            #print('nodos_a_donear[nodo_precedente]', nodos_a_donear[nodo_precedente])\n",
    "            T = nodos_a_donear[nodo_precedente][\"done\"] + travel_time\n",
    "            if node_data[\"beta\"] < T:\n",
    "                #print('pas possible 1:', node_data[\"beta\"], T)\n",
    "                return False, None, None\n",
    "        else:\n",
    "            T = max(nodos_a_donear[nodo_precedente][\"done\"] + travel_time, node_data[\"begin\"]) + node_data[\"duration\"]\n",
    "            if node_data[\"end\"] < T:\n",
    "                #print('pas possible 1:', node_data[\"end\"], T)\n",
    "                return False, None, None\n",
    "        \n",
    "        nodos_a_donear[node][\"done\"] = T\n",
    "        #print('nodos_a_donear[node][done]', nodos_a_donear[node][\"done\"])\n",
    "        nodo_precedente = node\n",
    "        #print(\"bbbbbbbbbb\", nodo_precedente, nodos_a_donear[nodo_precedente][\"done\"])\n",
    "        nodo_precedente_data = node_data\n",
    "    for key, value in nodos_a_donear.items():\n",
    "        #print(\"key: \", key, \" | value: \", value)\n",
    "        dictI[key]['done'] = value['done']\n",
    "    travel.insert(i+1, f\"j{j}\")\n",
    "    \n",
    "    return True, travel, dictI"
   ]
  },
  {
   "cell_type": "code",
   "execution_count": 15,
   "metadata": {},
   "outputs": [],
   "source": [
    "def createRandomIndividual(dict_I,NW, NJ):\n",
    "    dictI = copy.deepcopy(dict_I)\n",
    "    sol = dict()\n",
    "    not_available_jobs = set()\n",
    "    random_list_w = random.sample(range(NW), NW)\n",
    "    random_list_j = random.sample(range(NJ), NJ)\n",
    "    for w in random_list_w:\n",
    "        travel = ['h'+str(w), 'h'+str(w)]\n",
    "        i = 0\n",
    "        for j in random_list_j:\n",
    "            if j not in not_available_jobs:\n",
    "                w_can_do_job_j, sol_w, dictI0 = w_do_job_j_after_i(dictI, w, j, i, travel, not_available_jobs)\n",
    "                if w_can_do_job_j:\n",
    "                    not_available_jobs.add(j)\n",
    "                    travel = sol_w\n",
    "                    dictI = dictI0\n",
    "                    #print('------')\n",
    "        sol['w'+str(w)] = travel\n",
    "    return sol, not_available_jobs, dictI"
   ]
  },
  {
   "cell_type": "code",
   "execution_count": 16,
   "metadata": {
    "scrolled": true
   },
   "outputs": [],
   "source": [
    "I, matrix_dist = generate_instance(2, 9)\n",
    "sol, not_available_jobs, dictI  = createRandomIndividual(dict_I, 2, 9)"
   ]
  },
  {
   "cell_type": "code",
   "execution_count": 17,
   "metadata": {},
   "outputs": [
    {
     "data": {
      "text/plain": [
       "{'w1': ['h1', 'j6', 'j4', 'h1'], 'w0': ['h0', 'j1', 'h0']}"
      ]
     },
     "execution_count": 17,
     "metadata": {},
     "output_type": "execute_result"
    }
   ],
   "source": [
    "sol"
   ]
  },
  {
   "cell_type": "code",
   "execution_count": 18,
   "metadata": {},
   "outputs": [
    {
     "data": {
      "text/plain": [
       "{1, 4, 6}"
      ]
     },
     "execution_count": 18,
     "metadata": {},
     "output_type": "execute_result"
    }
   ],
   "source": [
    "not_available_jobs"
   ]
  },
  {
   "cell_type": "code",
   "execution_count": 19,
   "metadata": {},
   "outputs": [
    {
     "data": {
      "text/plain": [
       "['h0', 'j1', 'h0']"
      ]
     },
     "execution_count": 19,
     "metadata": {},
     "output_type": "execute_result"
    }
   ],
   "source": [
    "sol['w0']"
   ]
  },
  {
   "cell_type": "code",
   "execution_count": 21,
   "metadata": {
    "scrolled": true
   },
   "outputs": [],
   "source": [
    "#I"
   ]
  },
  {
   "cell_type": "code",
   "execution_count": 22,
   "metadata": {
    "scrolled": true
   },
   "outputs": [
    {
     "name": "stdout",
     "output_type": "stream",
     "text": [
      "{'h0': {'alpha': 417, 'beta': 1103, 'done': 1090, 'pos': (59, 29)},\n",
      " 'h1': {'alpha': 459, 'beta': 1127, 'done': 880, 'pos': (94, 14)},\n",
      " 'j0': {'begin': 950,\n",
      "        'done': None,\n",
      "        'duration': 76,\n",
      "        'end': 1080,\n",
      "        'pos': (19, 52)},\n",
      " 'j1': {'begin': 981,\n",
      "        'done': 1057,\n",
      "        'duration': 76,\n",
      "        'end': 1114,\n",
      "        'pos': (24, 97)},\n",
      " 'j2': {'begin': 881,\n",
      "        'done': None,\n",
      "        'duration': 69,\n",
      "        'end': 1018,\n",
      "        'pos': (31, 45)},\n",
      " 'j3': {'begin': 592,\n",
      "        'done': None,\n",
      "        'duration': 79,\n",
      "        'end': 749,\n",
      "        'pos': (20, 91)},\n",
      " 'j4': {'begin': 668, 'done': 813, 'duration': 89, 'end': 799, 'pos': (89, 35)},\n",
      " 'j5': {'begin': 754, 'done': None, 'duration': 86, 'end': 876, 'pos': (0, 4)},\n",
      " 'j6': {'begin': 518, 'done': 556, 'duration': 38, 'end': 593, 'pos': (21, 76)},\n",
      " 'j7': {'begin': 950,\n",
      "        'done': None,\n",
      "        'duration': 82,\n",
      "        'end': 1088,\n",
      "        'pos': (39, 77)},\n",
      " 'j8': {'begin': 975,\n",
      "        'done': None,\n",
      "        'duration': 61,\n",
      "        'end': 1074,\n",
      "        'pos': (52, 12)}}\n"
     ]
    }
   ],
   "source": [
    "pprint(dictI)"
   ]
  },
  {
   "cell_type": "markdown",
   "metadata": {},
   "source": [
    "### 3.2.2. Create a random population"
   ]
  },
  {
   "cell_type": "markdown",
   "metadata": {},
   "source": [
    "The previous function `createRandomIndividual(instance)` creates *only one individual*, but the GA needs *a full population*. Let's implement a function for that.\n",
    "\n",
    "> Implement a function `createInitialPopulation(populationSize, instance)`, which takes as inputs the size of the population `populationSize` and a TSP `instance`, which create an initial population.\n",
    "\n",
    "**Note 1:** this function is only use to create the initial population; subsequent generations of the population will be produced through breeding and mutation as well as elitism.\n",
    "\n",
    "**Note 2:** the variable `populationSize` will be a hyper-parameter of the GA final function called `runGeneticAlgorithm(...)` that you, as an user of the algorithm, will set to a value that seems good to you."
   ]
  },
  {
   "cell_type": "code",
   "execution_count": 23,
   "metadata": {},
   "outputs": [],
   "source": [
    "def createInitialPopulation(dict_I,NW, NJ, populationSize):\n",
    "    population = []\n",
    "    # To be completed - Begin\n",
    "    for i in range(populationSize):\n",
    "        sol, not_available_jobs, dictI  = createRandomIndividual(dict_I, 2, 9)\n",
    "        instance = {\n",
    "            'sol': sol,\n",
    "            'not_available_jobs': not_available_jobs,\n",
    "            'dictI': dictI\n",
    "        }\n",
    "        population.append(instance)\n",
    "    # To be completed - End\n",
    "    return population"
   ]
  },
  {
   "cell_type": "code",
   "execution_count": 28,
   "metadata": {},
   "outputs": [
    {
     "name": "stdout",
     "output_type": "stream",
     "text": [
      "i:  1\n",
      "{'dictI': {'h0': {'alpha': 417, 'beta': 1103, 'done': 880, 'pos': (59, 29)},\n",
      "           'h1': {'alpha': 459, 'beta': 1127, 'done': 880, 'pos': (94, 14)},\n",
      "           'j0': {'begin': 950,\n",
      "                  'done': None,\n",
      "                  'duration': 76,\n",
      "                  'end': 1080,\n",
      "                  'pos': (19, 52)},\n",
      "           'j1': {'begin': 981,\n",
      "                  'done': None,\n",
      "                  'duration': 76,\n",
      "                  'end': 1114,\n",
      "                  'pos': (24, 97)},\n",
      "           'j2': {'begin': 881,\n",
      "                  'done': None,\n",
      "                  'duration': 69,\n",
      "                  'end': 1018,\n",
      "                  'pos': (31, 45)},\n",
      "           'j3': {'begin': 592,\n",
      "                  'done': None,\n",
      "                  'duration': 79,\n",
      "                  'end': 749,\n",
      "                  'pos': (20, 91)},\n",
      "           'j4': {'begin': 668,\n",
      "                  'done': 813,\n",
      "                  'duration': 89,\n",
      "                  'end': 799,\n",
      "                  'pos': (89, 35)},\n",
      "           'j5': {'begin': 754,\n",
      "                  'done': 840,\n",
      "                  'duration': 86,\n",
      "                  'end': 876,\n",
      "                  'pos': (0, 4)},\n",
      "           'j6': {'begin': 518,\n",
      "                  'done': 556,\n",
      "                  'duration': 38,\n",
      "                  'end': 593,\n",
      "                  'pos': (21, 76)},\n",
      "           'j7': {'begin': 950,\n",
      "                  'done': None,\n",
      "                  'duration': 82,\n",
      "                  'end': 1088,\n",
      "                  'pos': (39, 77)},\n",
      "           'j8': {'begin': 975,\n",
      "                  'done': None,\n",
      "                  'duration': 61,\n",
      "                  'end': 1074,\n",
      "                  'pos': (52, 12)}},\n",
      " 'not_available_jobs': {4, 5, 6},\n",
      " 'sol': {'w0': ['h0', 'j5', 'h0'], 'w1': ['h1', 'j6', 'j4', 'h1']}}\n",
      "\n",
      "i:  1\n",
      "{'dictI': {'h0': {'alpha': 417, 'beta': 1103, 'done': 1131, 'pos': (59, 29)},\n",
      "           'h1': {'alpha': 459, 'beta': 1127, 'done': 832, 'pos': (94, 14)},\n",
      "           'j0': {'begin': 950,\n",
      "                  'done': 1026,\n",
      "                  'duration': 76,\n",
      "                  'end': 1080,\n",
      "                  'pos': (19, 52)},\n",
      "           'j1': {'begin': 981,\n",
      "                  'done': None,\n",
      "                  'duration': 76,\n",
      "                  'end': 1114,\n",
      "                  'pos': (24, 97)},\n",
      "           'j2': {'begin': 881,\n",
      "                  'done': None,\n",
      "                  'duration': 69,\n",
      "                  'end': 1018,\n",
      "                  'pos': (31, 45)},\n",
      "           'j3': {'begin': 592,\n",
      "                  'done': None,\n",
      "                  'duration': 79,\n",
      "                  'end': 749,\n",
      "                  'pos': (20, 91)},\n",
      "           'j4': {'begin': 668,\n",
      "                  'done': None,\n",
      "                  'duration': 89,\n",
      "                  'end': 799,\n",
      "                  'pos': (89, 35)},\n",
      "           'j5': {'begin': 754,\n",
      "                  'done': None,\n",
      "                  'duration': 86,\n",
      "                  'end': 876,\n",
      "                  'pos': (0, 4)},\n",
      "           'j6': {'begin': 518,\n",
      "                  'done': 556,\n",
      "                  'duration': 38,\n",
      "                  'end': 593,\n",
      "                  'pos': (21, 76)},\n",
      "           'j7': {'begin': 950,\n",
      "                  'done': None,\n",
      "                  'duration': 82,\n",
      "                  'end': 1088,\n",
      "                  'pos': (39, 77)},\n",
      "           'j8': {'begin': 975,\n",
      "                  'done': 770,\n",
      "                  'duration': 61,\n",
      "                  'end': 1074,\n",
      "                  'pos': (52, 12)}},\n",
      " 'not_available_jobs': {0, 8, 6},\n",
      " 'sol': {'w0': ['h0', 'j0', 'h0'], 'w1': ['h1', 'j6', 'j8', 'h1']}}\n",
      "\n",
      "i:  1\n",
      "{'dictI': {'h0': {'alpha': 417, 'beta': 1103, 'done': 780, 'pos': (59, 29)},\n",
      "           'h1': {'alpha': 459, 'beta': 1127, 'done': 824, 'pos': (94, 14)},\n",
      "           'j0': {'begin': 950,\n",
      "                  'done': None,\n",
      "                  'duration': 76,\n",
      "                  'end': 1080,\n",
      "                  'pos': (19, 52)},\n",
      "           'j1': {'begin': 981,\n",
      "                  'done': 747,\n",
      "                  'duration': 76,\n",
      "                  'end': 1114,\n",
      "                  'pos': (24, 97)},\n",
      "           'j2': {'begin': 881,\n",
      "                  'done': None,\n",
      "                  'duration': 69,\n",
      "                  'end': 1018,\n",
      "                  'pos': (31, 45)},\n",
      "           'j3': {'begin': 592,\n",
      "                  'done': None,\n",
      "                  'duration': 79,\n",
      "                  'end': 749,\n",
      "                  'pos': (20, 91)},\n",
      "           'j4': {'begin': 668,\n",
      "                  'done': 757,\n",
      "                  'duration': 89,\n",
      "                  'end': 799,\n",
      "                  'pos': (89, 35)},\n",
      "           'j5': {'begin': 754,\n",
      "                  'done': None,\n",
      "                  'duration': 86,\n",
      "                  'end': 876,\n",
      "                  'pos': (0, 4)},\n",
      "           'j6': {'begin': 518,\n",
      "                  'done': 556,\n",
      "                  'duration': 38,\n",
      "                  'end': 593,\n",
      "                  'pos': (21, 76)},\n",
      "           'j7': {'begin': 950,\n",
      "                  'done': None,\n",
      "                  'duration': 82,\n",
      "                  'end': 1088,\n",
      "                  'pos': (39, 77)},\n",
      "           'j8': {'begin': 975,\n",
      "                  'done': None,\n",
      "                  'duration': 61,\n",
      "                  'end': 1074,\n",
      "                  'pos': (52, 12)}},\n",
      " 'not_available_jobs': {1, 4, 6},\n",
      " 'sol': {'w0': ['h0', 'j6', 'j1', 'h0'], 'w1': ['h1', 'j4', 'h1']}}\n",
      "\n",
      "i:  1\n",
      "{'dictI': {'h0': {'alpha': 417, 'beta': 1103, 'done': 842, 'pos': (59, 29)},\n",
      "           'h1': {'alpha': 459, 'beta': 1127, 'done': 880, 'pos': (94, 14)},\n",
      "           'j0': {'begin': 950,\n",
      "                  'done': None,\n",
      "                  'duration': 76,\n",
      "                  'end': 1080,\n",
      "                  'pos': (19, 52)},\n",
      "           'j1': {'begin': 981,\n",
      "                  'done': None,\n",
      "                  'duration': 76,\n",
      "                  'end': 1114,\n",
      "                  'pos': (24, 97)},\n",
      "           'j2': {'begin': 881,\n",
      "                  'done': None,\n",
      "                  'duration': 69,\n",
      "                  'end': 1018,\n",
      "                  'pos': (31, 45)},\n",
      "           'j3': {'begin': 592,\n",
      "                  'done': 671,\n",
      "                  'duration': 79,\n",
      "                  'end': 749,\n",
      "                  'pos': (20, 91)},\n",
      "           'j4': {'begin': 668,\n",
      "                  'done': 813,\n",
      "                  'duration': 89,\n",
      "                  'end': 799,\n",
      "                  'pos': (89, 35)},\n",
      "           'j5': {'begin': 754,\n",
      "                  'done': None,\n",
      "                  'duration': 86,\n",
      "                  'end': 876,\n",
      "                  'pos': (0, 4)},\n",
      "           'j6': {'begin': 518,\n",
      "                  'done': 556,\n",
      "                  'duration': 38,\n",
      "                  'end': 593,\n",
      "                  'pos': (21, 76)},\n",
      "           'j7': {'begin': 950,\n",
      "                  'done': None,\n",
      "                  'duration': 82,\n",
      "                  'end': 1088,\n",
      "                  'pos': (39, 77)},\n",
      "           'j8': {'begin': 975,\n",
      "                  'done': 770,\n",
      "                  'duration': 61,\n",
      "                  'end': 1074,\n",
      "                  'pos': (52, 12)}},\n",
      " 'not_available_jobs': {8, 3, 4, 6},\n",
      " 'sol': {'w0': ['h0', 'j3', 'j8', 'h0'], 'w1': ['h1', 'j6', 'j4', 'h1']}}\n",
      "\n",
      "i:  1\n",
      "{'dictI': {'h0': {'alpha': 417, 'beta': 1103, 'done': 842, 'pos': (59, 29)},\n",
      "           'h1': {'alpha': 459, 'beta': 1127, 'done': 874, 'pos': (94, 14)},\n",
      "           'j0': {'begin': 950,\n",
      "                  'done': None,\n",
      "                  'duration': 76,\n",
      "                  'end': 1080,\n",
      "                  'pos': (19, 52)},\n",
      "           'j1': {'begin': 981,\n",
      "                  'done': None,\n",
      "                  'duration': 76,\n",
      "                  'end': 1114,\n",
      "                  'pos': (24, 97)},\n",
      "           'j2': {'begin': 881,\n",
      "                  'done': None,\n",
      "                  'duration': 69,\n",
      "                  'end': 1018,\n",
      "                  'pos': (31, 45)},\n",
      "           'j3': {'begin': 592,\n",
      "                  'done': None,\n",
      "                  'duration': 79,\n",
      "                  'end': 749,\n",
      "                  'pos': (20, 91)},\n",
      "           'j4': {'begin': 668,\n",
      "                  'done': None,\n",
      "                  'duration': 89,\n",
      "                  'end': 799,\n",
      "                  'pos': (89, 35)},\n",
      "           'j5': {'begin': 754,\n",
      "                  'done': 840,\n",
      "                  'duration': 86,\n",
      "                  'end': 876,\n",
      "                  'pos': (0, 4)},\n",
      "           'j6': {'begin': 518,\n",
      "                  'done': 556,\n",
      "                  'duration': 38,\n",
      "                  'end': 593,\n",
      "                  'pos': (21, 76)},\n",
      "           'j7': {'begin': 950,\n",
      "                  'done': None,\n",
      "                  'duration': 82,\n",
      "                  'end': 1088,\n",
      "                  'pos': (39, 77)},\n",
      "           'j8': {'begin': 975,\n",
      "                  'done': 770,\n",
      "                  'duration': 61,\n",
      "                  'end': 1074,\n",
      "                  'pos': (52, 12)}},\n",
      " 'not_available_jobs': {8, 5, 6},\n",
      " 'sol': {'w0': ['h0', 'j6', 'j8', 'h0'], 'w1': ['h1', 'j5', 'h1']}}\n",
      "\n",
      "i:  1\n",
      "{'dictI': {'h0': {'alpha': 417, 'beta': 1103, 'done': 780, 'pos': (59, 29)},\n",
      "           'h1': {'alpha': 459, 'beta': 1127, 'done': 1121, 'pos': (94, 14)},\n",
      "           'j0': {'begin': 950,\n",
      "                  'done': 1026,\n",
      "                  'duration': 76,\n",
      "                  'end': 1080,\n",
      "                  'pos': (19, 52)},\n",
      "           'j1': {'begin': 981,\n",
      "                  'done': 747,\n",
      "                  'duration': 76,\n",
      "                  'end': 1114,\n",
      "                  'pos': (24, 97)},\n",
      "           'j2': {'begin': 881,\n",
      "                  'done': None,\n",
      "                  'duration': 69,\n",
      "                  'end': 1018,\n",
      "                  'pos': (31, 45)},\n",
      "           'j3': {'begin': 592,\n",
      "                  'done': None,\n",
      "                  'duration': 79,\n",
      "                  'end': 749,\n",
      "                  'pos': (20, 91)},\n",
      "           'j4': {'begin': 668,\n",
      "                  'done': None,\n",
      "                  'duration': 89,\n",
      "                  'end': 799,\n",
      "                  'pos': (89, 35)},\n",
      "           'j5': {'begin': 754,\n",
      "                  'done': None,\n",
      "                  'duration': 86,\n",
      "                  'end': 876,\n",
      "                  'pos': (0, 4)},\n",
      "           'j6': {'begin': 518,\n",
      "                  'done': 556,\n",
      "                  'duration': 38,\n",
      "                  'end': 593,\n",
      "                  'pos': (21, 76)},\n",
      "           'j7': {'begin': 950,\n",
      "                  'done': None,\n",
      "                  'duration': 82,\n",
      "                  'end': 1088,\n",
      "                  'pos': (39, 77)},\n",
      "           'j8': {'begin': 975,\n",
      "                  'done': None,\n",
      "                  'duration': 61,\n",
      "                  'end': 1074,\n",
      "                  'pos': (52, 12)}},\n",
      " 'not_available_jobs': {0, 1, 6},\n",
      " 'sol': {'w0': ['h0', 'j6', 'j1', 'h0'], 'w1': ['h1', 'j0', 'h1']}}\n",
      "\n",
      "i:  1\n",
      "{'dictI': {'h0': {'alpha': 417, 'beta': 1103, 'done': 1131, 'pos': (59, 29)},\n",
      "           'h1': {'alpha': 459, 'beta': 1127, 'done': 1076, 'pos': (94, 14)},\n",
      "           'j0': {'begin': 950,\n",
      "                  'done': 1026,\n",
      "                  'duration': 76,\n",
      "                  'end': 1080,\n",
      "                  'pos': (19, 52)},\n",
      "           'j1': {'begin': 981,\n",
      "                  'done': None,\n",
      "                  'duration': 76,\n",
      "                  'end': 1114,\n",
      "                  'pos': (24, 97)},\n",
      "           'j2': {'begin': 881,\n",
      "                  'done': 950,\n",
      "                  'duration': 69,\n",
      "                  'end': 1018,\n",
      "                  'pos': (31, 45)},\n",
      "           'j3': {'begin': 592,\n",
      "                  'done': None,\n",
      "                  'duration': 79,\n",
      "                  'end': 749,\n",
      "                  'pos': (20, 91)},\n",
      "           'j4': {'begin': 668,\n",
      "                  'done': None,\n",
      "                  'duration': 89,\n",
      "                  'end': 799,\n",
      "                  'pos': (89, 35)},\n",
      "           'j5': {'begin': 754,\n",
      "                  'done': None,\n",
      "                  'duration': 86,\n",
      "                  'end': 876,\n",
      "                  'pos': (0, 4)},\n",
      "           'j6': {'begin': 518,\n",
      "                  'done': None,\n",
      "                  'duration': 38,\n",
      "                  'end': 593,\n",
      "                  'pos': (21, 76)},\n",
      "           'j7': {'begin': 950,\n",
      "                  'done': None,\n",
      "                  'duration': 82,\n",
      "                  'end': 1088,\n",
      "                  'pos': (39, 77)},\n",
      "           'j8': {'begin': 975,\n",
      "                  'done': None,\n",
      "                  'duration': 61,\n",
      "                  'end': 1074,\n",
      "                  'pos': (52, 12)}},\n",
      " 'not_available_jobs': {0, 2},\n",
      " 'sol': {'w0': ['h0', 'j0', 'h0'], 'w1': ['h1', 'j2', 'h1']}}\n",
      "\n",
      "i:  1\n",
      "{'dictI': {'h0': {'alpha': 417, 'beta': 1103, 'done': 842, 'pos': (59, 29)},\n",
      "           'h1': {'alpha': 459, 'beta': 1127, 'done': 874, 'pos': (94, 14)},\n",
      "           'j0': {'begin': 950,\n",
      "                  'done': None,\n",
      "                  'duration': 76,\n",
      "                  'end': 1080,\n",
      "                  'pos': (19, 52)},\n",
      "           'j1': {'begin': 981,\n",
      "                  'done': None,\n",
      "                  'duration': 76,\n",
      "                  'end': 1114,\n",
      "                  'pos': (24, 97)},\n",
      "           'j2': {'begin': 881,\n",
      "                  'done': None,\n",
      "                  'duration': 69,\n",
      "                  'end': 1018,\n",
      "                  'pos': (31, 45)},\n",
      "           'j3': {'begin': 592,\n",
      "                  'done': 671,\n",
      "                  'duration': 79,\n",
      "                  'end': 749,\n",
      "                  'pos': (20, 91)},\n",
      "           'j4': {'begin': 668,\n",
      "                  'done': None,\n",
      "                  'duration': 89,\n",
      "                  'end': 799,\n",
      "                  'pos': (89, 35)},\n",
      "           'j5': {'begin': 754,\n",
      "                  'done': 840,\n",
      "                  'duration': 86,\n",
      "                  'end': 876,\n",
      "                  'pos': (0, 4)},\n",
      "           'j6': {'begin': 518,\n",
      "                  'done': None,\n",
      "                  'duration': 38,\n",
      "                  'end': 593,\n",
      "                  'pos': (21, 76)},\n",
      "           'j7': {'begin': 950,\n",
      "                  'done': None,\n",
      "                  'duration': 82,\n",
      "                  'end': 1088,\n",
      "                  'pos': (39, 77)},\n",
      "           'j8': {'begin': 975,\n",
      "                  'done': 770,\n",
      "                  'duration': 61,\n",
      "                  'end': 1074,\n",
      "                  'pos': (52, 12)}},\n",
      " 'not_available_jobs': {8, 3, 5},\n",
      " 'sol': {'w0': ['h0', 'j3', 'j8', 'h0'], 'w1': ['h1', 'j5', 'h1']}}\n",
      "\n",
      "i:  1\n",
      "{'dictI': {'h0': {'alpha': 417, 'beta': 1103, 'done': 893, 'pos': (59, 29)},\n",
      "           'h1': {'alpha': 459, 'beta': 1127, 'done': 832, 'pos': (94, 14)},\n",
      "           'j0': {'begin': 950,\n",
      "                  'done': None,\n",
      "                  'duration': 76,\n",
      "                  'end': 1080,\n",
      "                  'pos': (19, 52)},\n",
      "           'j1': {'begin': 981,\n",
      "                  'done': None,\n",
      "                  'duration': 76,\n",
      "                  'end': 1114,\n",
      "                  'pos': (24, 97)},\n",
      "           'j2': {'begin': 881,\n",
      "                  'done': None,\n",
      "                  'duration': 69,\n",
      "                  'end': 1018,\n",
      "                  'pos': (31, 45)},\n",
      "           'j3': {'begin': 592,\n",
      "                  'done': 671,\n",
      "                  'duration': 79,\n",
      "                  'end': 749,\n",
      "                  'pos': (20, 91)},\n",
      "           'j4': {'begin': 668,\n",
      "                  'done': None,\n",
      "                  'duration': 89,\n",
      "                  'end': 799,\n",
      "                  'pos': (89, 35)},\n",
      "           'j5': {'begin': 754,\n",
      "                  'done': None,\n",
      "                  'duration': 86,\n",
      "                  'end': 876,\n",
      "                  'pos': (0, 4)},\n",
      "           'j6': {'begin': 518,\n",
      "                  'done': 556,\n",
      "                  'duration': 38,\n",
      "                  'end': 593,\n",
      "                  'pos': (21, 76)},\n",
      "           'j7': {'begin': 950,\n",
      "                  'done': 873,\n",
      "                  'duration': 82,\n",
      "                  'end': 1088,\n",
      "                  'pos': (39, 77)},\n",
      "           'j8': {'begin': 975,\n",
      "                  'done': 770,\n",
      "                  'duration': 61,\n",
      "                  'end': 1074,\n",
      "                  'pos': (52, 12)}},\n",
      " 'not_available_jobs': {8, 3, 6, 7},\n",
      " 'sol': {'w0': ['h0', 'j6', 'j7', 'h0'], 'w1': ['h1', 'j3', 'j8', 'h1']}}\n",
      "\n",
      "i:  1\n",
      "{'dictI': {'h0': {'alpha': 417, 'beta': 1103, 'done': 1082, 'pos': (59, 29)},\n",
      "           'h1': {'alpha': 459, 'beta': 1127, 'done': 832, 'pos': (94, 14)},\n",
      "           'j0': {'begin': 950,\n",
      "                  'done': None,\n",
      "                  'duration': 76,\n",
      "                  'end': 1080,\n",
      "                  'pos': (19, 52)},\n",
      "           'j1': {'begin': 981,\n",
      "                  'done': None,\n",
      "                  'duration': 76,\n",
      "                  'end': 1114,\n",
      "                  'pos': (24, 97)},\n",
      "           'j2': {'begin': 881,\n",
      "                  'done': 950,\n",
      "                  'duration': 69,\n",
      "                  'end': 1018,\n",
      "                  'pos': (31, 45)},\n",
      "           'j3': {'begin': 592,\n",
      "                  'done': 671,\n",
      "                  'duration': 79,\n",
      "                  'end': 749,\n",
      "                  'pos': (20, 91)},\n",
      "           'j4': {'begin': 668,\n",
      "                  'done': None,\n",
      "                  'duration': 89,\n",
      "                  'end': 799,\n",
      "                  'pos': (89, 35)},\n",
      "           'j5': {'begin': 754,\n",
      "                  'done': None,\n",
      "                  'duration': 86,\n",
      "                  'end': 876,\n",
      "                  'pos': (0, 4)},\n",
      "           'j6': {'begin': 518,\n",
      "                  'done': None,\n",
      "                  'duration': 38,\n",
      "                  'end': 593,\n",
      "                  'pos': (21, 76)},\n",
      "           'j7': {'begin': 950,\n",
      "                  'done': None,\n",
      "                  'duration': 82,\n",
      "                  'end': 1088,\n",
      "                  'pos': (39, 77)},\n",
      "           'j8': {'begin': 975,\n",
      "                  'done': 770,\n",
      "                  'duration': 61,\n",
      "                  'end': 1074,\n",
      "                  'pos': (52, 12)}},\n",
      " 'not_available_jobs': {8, 2, 3},\n",
      " 'sol': {'w0': ['h0', 'j2', 'h0'], 'w1': ['h1', 'j3', 'j8', 'h1']}}\n",
      "\n"
     ]
    }
   ],
   "source": [
    "i = 0\n",
    "for individual in createInitialPopulation(dict_I, 2, 9, 10):\n",
    "    i += 1\n",
    "    print('i: ', 1)\n",
    "    pprint(individual)\n",
    "    print()"
   ]
  },
  {
   "cell_type": "code",
   "execution_count": null,
   "metadata": {},
   "outputs": [],
   "source": []
  },
  {
   "cell_type": "markdown",
   "metadata": {},
   "source": [
    "## 3.2. Step 2 - Compute the fitness over the population in order to rank individuals\n",
    "\n",
    "\n",
    "### 3.2.1. Compute the fitness score of an individual\n",
    "\n",
    "Usually in GA, the larger the indivual's fitness score, the better. We propose to define the fitness score of an individual as the *inverse of its total distance* - an individual being a route. Thus, the larger the fitness score, the shortest the total distance, which is what we are looking for.\n",
    "\n",
    "> Implement a function `computeTotalDistance(route)` which takes a `route` (*i.e.* an individual) and returns the total distance of the route.\n",
    "\n",
    "**Note:** do not forget that the route is a *loop* according to the constraint 2 of the problem."
   ]
  },
  {
   "cell_type": "code",
   "execution_count": 29,
   "metadata": {},
   "outputs": [],
   "source": [
    "def computeFitnessScore(dict_I, individual):\n",
    "    fitnessScore = 0\n",
    "    for job_done in individual['not_available_jobs']:\n",
    "        fitnessScore += dict_I['j'+str(job_done)]['duration']\n",
    "    return fitnessScore"
   ]
  },
  {
   "cell_type": "markdown",
   "metadata": {},
   "source": [
    "For instance, with the previous `exampleIndividual`, you should get a fitness score of about 0.00085."
   ]
  },
  {
   "cell_type": "code",
   "execution_count": 32,
   "metadata": {},
   "outputs": [
    {
     "name": "stdout",
     "output_type": "stream",
     "text": [
      "189\n"
     ]
    }
   ],
   "source": [
    "for individual in createInitialPopulation(dict_I, 2, 9, 1):\n",
    "    print(computeFitnessScore(dict_I, individual))"
   ]
  },
  {
   "cell_type": "markdown",
   "metadata": {},
   "source": [
    "### 3.2.2. Compute ranking data about the population\n",
    "\n",
    "Now, that we are able to score an individual, we can rank a population of individuals by ordering them by decreasing order of fitness scores. Actually, it will be useful for later to store the fitness score of each individual. Thus, instead of sorting the individuals, we propose to compute two lists: a first list `rankedPopulationIndices` which contains the indices of individuals of the population ordered by decreasing order of corresponding fitness scores; a second list `rankedPopulationFitnessScores` which contains the values of fitness scores by decreasing order.\n",
    "\n",
    "> Implement a function `computeRankingData(population)` which takes a `population` as an input and returns the pair of lists `(rankedPopulationIndices, rankedPopulationFitnessScores)`.\n",
    "\n",
    "**Note:** this function computing the ranking data can be apply to *any population*; it can be use to rank an entire generation of individuals as well as a large list of children like in step 4."
   ]
  },
  {
   "cell_type": "code",
   "execution_count": 36,
   "metadata": {},
   "outputs": [],
   "source": [
    "def computeRankingData(population):\n",
    "    rankedPopulationIndices, rankedPopulationFitnessScores = [], []\n",
    "    # To be completed - Begin\n",
    "    list_aux = list()\n",
    "    for i in range(len(population)):\n",
    "        list_aux.append((i, computeFitnessScore(dict_I, population[i])))\n",
    "    list_aux = sorted(list_aux, key=lambda x: x[1], reverse = True)\n",
    "    for i in list_aux:\n",
    "        rankedPopulationIndices.append(i[0])\n",
    "        rankedPopulationFitnessScores.append(i[1])\n",
    "    # To be completed - End\n",
    "    rankingData = rankedPopulationIndices, rankedPopulationFitnessScores\n",
    "    return rankingData"
   ]
  },
  {
   "cell_type": "code",
   "execution_count": 37,
   "metadata": {
    "scrolled": true
   },
   "outputs": [
    {
     "name": "stdout",
     "output_type": "stream",
     "text": [
      "[4, 8, 5, 6, 3, 7, 9, 0, 2, 1]\n",
      "[288, 254, 206, 203, 196, 193, 193, 162, 127, 107]\n"
     ]
    }
   ],
   "source": [
    "population = createInitialPopulation(dict_I, 2, 9, 10)\n",
    "testRankingData = computeRankingData(population)\n",
    "testRankedPopulationIndices = testRankingData[0]\n",
    "testRankedPopulationFitnessScores = testRankingData[1]\n",
    "print(testRankedPopulationIndices)\n",
    "print(testRankedPopulationFitnessScores)"
   ]
  },
  {
   "cell_type": "markdown",
   "metadata": {},
   "source": [
    "## 3.3. Step 3 - Select the best individuals to form the group of elites"
   ]
  },
  {
   "cell_type": "markdown",
   "metadata": {},
   "source": [
    "We propose that the GA integrates some elitism principle: the best individuals of the a given generation are carried over the next one. This group is so-called the group of *elites*. As we can get the ranking data of any population, we can now implement a function which selects the `nbBestIndividuals` best individuals of a population (where `nbBestIndividuals` is a non-negative integer).\n",
    "\n",
    "> Implement a function `selectBestIndividuals(population, rankedPopulationIndices, nbBestIndividuals)` which returns the `nbBestIndividuals` best individuals of a given `population`, given the list of ranking indices `rankedPopulationIndices`.\n",
    "\n",
    "**Note 1:** here again, this best-selection function can be apply to any population; it can be used to extract the best individuals of an entire generation of individuals as well as a large list of children like in step 4.\n",
    "\n",
    "**Note 2:** the size of the group of elites will be a hyper-parameter `nbElites` of the GA final function called `runGeneticAlgorithm(...)`."
   ]
  },
  {
   "cell_type": "code",
   "execution_count": 40,
   "metadata": {},
   "outputs": [],
   "source": [
    "def selectBestIndividuals(population, rankedPopulationIndices, nbBestIndividuals):\n",
    "    bestIndividuals = []\n",
    "    # To be completed - Begin\n",
    "    for i in range(nbBestIndividuals):\n",
    "        bestIndividuals.append(population[rankedPopulationIndices[i]])\n",
    "    # To be completed - End\n",
    "    return bestIndividuals"
   ]
  },
  {
   "cell_type": "code",
   "execution_count": 43,
   "metadata": {},
   "outputs": [
    {
     "name": "stdout",
     "output_type": "stream",
     "text": [
      "{'sol': {'w1': ['h1', 'j6', 'j3', 'h1'], 'w0': ['h0', 'j4', 'j7', 'h0']}, 'not_available_jobs': {3, 4, 6, 7}, 'dictI': {'h0': {'pos': (59, 29), 'alpha': 417, 'beta': 1103, 'done': 933}, 'h1': {'pos': (94, 14), 'alpha': 459, 'beta': 1127, 'done': 852}, 'j0': {'pos': (19, 52), 'begin': 950, 'end': 1080, 'duration': 76, 'done': None}, 'j1': {'pos': (24, 97), 'begin': 981, 'end': 1114, 'duration': 76, 'done': None}, 'j2': {'pos': (31, 45), 'begin': 881, 'end': 1018, 'duration': 69, 'done': None}, 'j3': {'pos': (20, 91), 'begin': 592, 'end': 749, 'duration': 79, 'done': 769}, 'j4': {'pos': (89, 35), 'begin': 668, 'end': 799, 'duration': 89, 'done': 757}, 'j5': {'pos': (0, 4), 'begin': 754, 'end': 876, 'duration': 86, 'done': None}, 'j6': {'pos': (21, 76), 'begin': 518, 'end': 593, 'duration': 38, 'done': 556}, 'j7': {'pos': (39, 77), 'begin': 950, 'end': 1088, 'duration': 82, 'done': 913}, 'j8': {'pos': (52, 12), 'begin': 975, 'end': 1074, 'duration': 61, 'done': None}}}\n",
      "{'sol': {'w0': ['h0', 'j6', 'j1', 'h0'], 'w1': ['h1', 'j3', 'j8', 'h1']}, 'not_available_jobs': {8, 1, 3, 6}, 'dictI': {'h0': {'pos': (59, 29), 'alpha': 417, 'beta': 1103, 'done': 780}, 'h1': {'pos': (94, 14), 'alpha': 459, 'beta': 1127, 'done': 832}, 'j0': {'pos': (19, 52), 'begin': 950, 'end': 1080, 'duration': 76, 'done': None}, 'j1': {'pos': (24, 97), 'begin': 981, 'end': 1114, 'duration': 76, 'done': 747}, 'j2': {'pos': (31, 45), 'begin': 881, 'end': 1018, 'duration': 69, 'done': None}, 'j3': {'pos': (20, 91), 'begin': 592, 'end': 749, 'duration': 79, 'done': 671}, 'j4': {'pos': (89, 35), 'begin': 668, 'end': 799, 'duration': 89, 'done': None}, 'j5': {'pos': (0, 4), 'begin': 754, 'end': 876, 'duration': 86, 'done': None}, 'j6': {'pos': (21, 76), 'begin': 518, 'end': 593, 'duration': 38, 'done': 556}, 'j7': {'pos': (39, 77), 'begin': 950, 'end': 1088, 'duration': 82, 'done': None}, 'j8': {'pos': (52, 12), 'begin': 975, 'end': 1074, 'duration': 61, 'done': 770}}}\n"
     ]
    }
   ],
   "source": [
    "for elite in selectBestIndividuals(population, testRankedPopulationIndices, 2):\n",
    "    print(elite)"
   ]
  },
  {
   "cell_type": "markdown",
   "metadata": {},
   "source": [
    "## 3.4. Step 4 - Create the group formed by new individuals as follows"
   ]
  },
  {
   "cell_type": "markdown",
   "metadata": {},
   "source": [
    "<div style=\"text-align: justify\"> \n",
    "    In parallel to the direct transfer of few  <i>elites</i> to the next <i>generation</i> of individuals according to elitism, the GA must create new individuals, so-called <i>children</i>, by breeding individuals, so-called <i>parents</i>, in order to complete the next generation. The generation of these <i>children</i> goes by several substeps: selecting a <i>mating pool</i>, bredding <i>parents</i> to get <i>children</i>, mutate <i>children</i> and select the best ones. Usually, the size of <i>mating pool</i> is smaller than the size of a  <i>generation</i> and the size of the collection of <i>children</i> before selection is larger than the size of a  <i>generation</i>.\n",
    "</div>\n",
    "\n",
    "### 3.4.1. Step 4.A - Select a mating pool\n",
    "\n",
    "<div style=\"text-align: justify\"> \n",
    "    In order to produce <i>children</i>, we must define a <i>mating pool</i> that is to say a collection of <i>parents</i> by selecting some individuals of the current <i>generation</i>. There are various way to form such a <i>mating pool</i>. Generally, the selection uses some randomness while giving more chances to best individuals to be selected as parents. Randomness is beneficial as it maintains diversity among the individuals. Taking into account the quality of the individuals is also beneficial as they are likely to produce together <i>children</i> of good quality.\n",
    "</div>\n",
    "\n",
    "<div style=\"text-align: justify\"> \n",
    "Two common approaches for selecting the <i>mating pool</i> are the <i>fitness proportionate selection (a.k.a. “roulette wheel selection”)</i> or the <i>tournament selection</i>.\n",
    "</div><br></br>\n",
    "    1. In the fitness proportionate selection, the relative fitness of each individual of the population is used to assign a probability of selection; in other words, each individual is associated with a probability of being selected that corresponds to the ratio of its fitness by the total fitness of the population, such that a non-uniform probability distribution is defined over the individuals of the population; the individuals with larger fitness values are more likely to be selected.\n",
    "    <br></br><br></br>\n",
    "    2. In the tournament selection, a fixed number of individuals are randomly selected among the population and the one with the highest fitness values in the selected group is added to the mating pool; these steps are repeated a certain amount of times to choose the other parents.\n",
    "\n",
    "We propose to use the fitness proportionate selection (a.k.a. “roulette wheel selection”).\n",
    "\n",
    "> Implement the function `selectMatingPool(population, rankedPopulationIndices, rankedPopulationFitnessScores, nbParents)`, which takes as inputs a `population`, its corresponding ranking data and the number of parents `nbParents`, and which returns a list of individuals as a mating pool.\n",
    "\n",
    "**Note 1:** we do not care if an individual is selected several times during the process.\n",
    "\n",
    "**Note 2:** the variable `nbParents` will be a hyper-parameter of the GA final function called `runGeneticAlgorithm(...)`."
   ]
  },
  {
   "cell_type": "code",
   "execution_count": 47,
   "metadata": {},
   "outputs": [],
   "source": [
    "def selectMatingPool(population, rankedPopulationIndices, rankedPopulationFitnessScores, nbParents):\n",
    "    \n",
    "    matingPool = []\n",
    "    \n",
    "    # Prepare the roulette wheel\n",
    "    # (i.e. compute the cumulative ratios of fitness scores over the population)\n",
    "    # To be completed - Start\n",
    "    ratio_Scores = list()\n",
    "    sum_Scores = sum(rankedPopulationFitnessScores)\n",
    "    for i in rankedPopulationFitnessScores:\n",
    "        ratio_Scores.append(i / sum_Scores)\n",
    "    # To be completed - End\n",
    "    \n",
    "    # Play the roulette wheel several times to form the mating pool\n",
    "    # (i.e repeat picking an individual according to the random distribution of the fitness score ratios)\n",
    "    # To be completed - Start\n",
    "    #print(\"HERE THE PROBLEM 2: \", len(population), len(ratio_Scores))\n",
    "    try:\n",
    "        matingPool = random.choices(population, weights=ratio_Scores, k=nbParents)\n",
    "    except:\n",
    "        print('population: ', population)\n",
    "        print('rankedPopulationFitnessScores: ', rankedPopulationFitnessScores)\n",
    "        print('rankedPopulationIndices: ', rankedPopulationIndices)\n",
    "        print('population[rankedPopulationIndices[0]]: ', population[rankedPopulationIndices[0]])\n",
    "        print('ratio_Scores: ', ratio_Scores)\n",
    "    # To be completed - End\n",
    "    \n",
    "    return matingPool"
   ]
  },
  {
   "cell_type": "code",
   "execution_count": 50,
   "metadata": {},
   "outputs": [
    {
     "name": "stdout",
     "output_type": "stream",
     "text": [
      "{'sol': {'w0': ['h0', 'j6', 'j3', 'h0'], 'w1': ['h1', 'j0', 'h1']}, 'not_available_jobs': {0, 3, 6}, 'dictI': {'h0': {'pos': (59, 29), 'alpha': 417, 'beta': 1103, 'done': 862}, 'h1': {'pos': (94, 14), 'alpha': 459, 'beta': 1127, 'done': 1121}, 'j0': {'pos': (19, 52), 'begin': 950, 'end': 1080, 'duration': 76, 'done': 1026}, 'j1': {'pos': (24, 97), 'begin': 981, 'end': 1114, 'duration': 76, 'done': None}, 'j2': {'pos': (31, 45), 'begin': 881, 'end': 1018, 'duration': 69, 'done': None}, 'j3': {'pos': (20, 91), 'begin': 592, 'end': 749, 'duration': 79, 'done': 769}, 'j4': {'pos': (89, 35), 'begin': 668, 'end': 799, 'duration': 89, 'done': None}, 'j5': {'pos': (0, 4), 'begin': 754, 'end': 876, 'duration': 86, 'done': None}, 'j6': {'pos': (21, 76), 'begin': 518, 'end': 593, 'duration': 38, 'done': 556}, 'j7': {'pos': (39, 77), 'begin': 950, 'end': 1088, 'duration': 82, 'done': None}, 'j8': {'pos': (52, 12), 'begin': 975, 'end': 1074, 'duration': 61, 'done': None}}}\n",
      "{'sol': {'w1': ['h1', 'j6', 'j3', 'h1'], 'w0': ['h0', 'j4', 'j7', 'h0']}, 'not_available_jobs': {3, 4, 6, 7}, 'dictI': {'h0': {'pos': (59, 29), 'alpha': 417, 'beta': 1103, 'done': 933}, 'h1': {'pos': (94, 14), 'alpha': 459, 'beta': 1127, 'done': 852}, 'j0': {'pos': (19, 52), 'begin': 950, 'end': 1080, 'duration': 76, 'done': None}, 'j1': {'pos': (24, 97), 'begin': 981, 'end': 1114, 'duration': 76, 'done': None}, 'j2': {'pos': (31, 45), 'begin': 881, 'end': 1018, 'duration': 69, 'done': None}, 'j3': {'pos': (20, 91), 'begin': 592, 'end': 749, 'duration': 79, 'done': 769}, 'j4': {'pos': (89, 35), 'begin': 668, 'end': 799, 'duration': 89, 'done': 757}, 'j5': {'pos': (0, 4), 'begin': 754, 'end': 876, 'duration': 86, 'done': None}, 'j6': {'pos': (21, 76), 'begin': 518, 'end': 593, 'duration': 38, 'done': 556}, 'j7': {'pos': (39, 77), 'begin': 950, 'end': 1088, 'duration': 82, 'done': 913}, 'j8': {'pos': (52, 12), 'begin': 975, 'end': 1074, 'duration': 61, 'done': None}}}\n"
     ]
    }
   ],
   "source": [
    "for parent in selectMatingPool(population, testRankedPopulationIndices, \n",
    "                               testRankedPopulationFitnessScores, 2):\n",
    "    print(parent)"
   ]
  },
  {
   "cell_type": "markdown",
   "metadata": {},
   "source": [
    "### 3.4.2. Step 4.B -  Breed parents of the mating pool to get new individuals and form a large group of children\n",
    "\n",
    "<div style=\"text-align: justify\"> \n",
    "Now that the mating pool can be created, children can be produced by breeding parents of the mating pool, via a process called <i>crossover</i>. The chosen <i>crossover</i> process must guarantee that the child produced by breeding two feasible parents is also feasible. We propose to use a special <i>crossover</i> process called <i>ordered crossover</i> as it ensures such feasibility transfer. Of course, other crossover could be designed.\n",
    "</div>\n",
    "\n",
    "#### Breed two parents\n",
    "<div style=\"text-align: justify\"> \n",
    "Before breeding the entire mating pool, let's start with two parents. Given two parents, that can be seen as two lists of <i>genes</i> of the same length, the <i>ordered crossover</i> process selects a random continuous portion of the first parent; it transfers this portion into the child by setting it at the exact same position in its list of <i>genes</i>; it then fills the remainders of the child's list, that are located at the left and at the right of the fixed portion, with <i>genes</i> from the second parent, in the order in which they appear in its list, without duplicating any genes that would already be in the fixed portion inherited from the first parent, and by jumping over the fixed portion. The following picture illustrates such an <i>ordered crossover</i>, where offspring is a synonym of child.\n",
    "</div>\n",
    "\n",
    "<img src=\"Figures/ordered_crossover.jpeg\" width=\"300\" height=\"300\" />\n",
    "\n",
    "> Implement a function `breedParents(parent1, parent2)` which produces a `child` from given `parent1` and `parent2` by applying the order ordered crossover process."
   ]
  },
  {
   "cell_type": "code",
   "execution_count": 54,
   "metadata": {},
   "outputs": [
    {
     "data": {
      "text/plain": [
       "3"
      ]
     },
     "execution_count": 54,
     "metadata": {},
     "output_type": "execute_result"
    }
   ],
   "source": [
    "random.randint(0, 8)"
   ]
  },
  {
   "cell_type": "markdown",
   "metadata": {},
   "source": [
    "aca se puede ser así:\n",
    "\n",
    "parent1 = {\n",
    "    'w0': ['h0', 'j1', 'j2', 'j3', 'j4', 'h0'],\n",
    "    'w1': ['h1', 'j5', 'j6', 'j7', 'j8', 'h1'],\n",
    "}\n",
    "parent2 = {\n",
    "    'w0': ['h0', 'j1', 'j3', 'j5', 'j7', 'h0'],\n",
    "    'w1': ['h1', 'j2', 'j4', 'j6', 'j8', 'h1'],\n",
    "}\n",
    "\n",
    "-> chequeando factibildad obviamente: robarle dos seguidos a parent 1 w0, mezclarlo con parent 2 w0 y lo q sobra dejarlo igual.\n",
    "\n",
    "child = {\n",
    "    'w0': ['h0', 'j1', 'j2', 'j5', 'j7', 'h0'],\n",
    "    'w1': ['h1', 'j3', 'j4', 'j6', 'j8', 'h1'],\n",
    "}"
   ]
  },
  {
   "cell_type": "code",
   "execution_count": null,
   "metadata": {},
   "outputs": [],
   "source": []
  },
  {
   "cell_type": "code",
   "execution_count": 65,
   "metadata": {},
   "outputs": [],
   "source": [
    "def crossover(parent1, parent2):\n",
    "    # Inicializar el cromosoma hijo\n",
    "    child = {}\n",
    "\n",
    "    # Recorrer cada trabajo en el cromosoma padre\n",
    "    for work in parent1:\n",
    "        # Generar un punto de cruce aleatorio\n",
    "        crossover_point = random.randint(1, len(parent1[work]) - 1)\n",
    "\n",
    "        # Combinar las tareas de los padres en el hijo, evitando repeticiones\n",
    "        child[work] = parent1[work][:crossover_point] + [task for task in parent2[work][crossover_point:] if task not in parent1[work]]\n",
    "\n",
    "    return child\n",
    "\n"
   ]
  },
  {
   "cell_type": "code",
   "execution_count": 68,
   "metadata": {},
   "outputs": [],
   "source": [
    "def crossovers(parent1, parent2):\n",
    "    # Inicializar el cromosoma hijo\n",
    "    child = {}\n",
    "\n",
    "    # Recorrer cada trabajo en el cromosoma padre\n",
    "    for work in parent1:\n",
    "        # Generar un punto de cruce aleatorio\n",
    "        crossover_point = random.randint(1, len(parent1[work]) - 1)\n",
    "\n",
    "        # Combinar las tareas de los padres en el hijo, evitando repetir elementos\n",
    "        child[work] = []\n",
    "        assigned_items = set()\n",
    "        for item in parent1[work][:crossover_point] + parent2[work][crossover_point:]:\n",
    "            if item not in assigned_items:\n",
    "                child[work].append(item)\n",
    "                assigned_items.add(item)\n",
    "\n",
    "    return child\n"
   ]
  },
  {
   "cell_type": "code",
   "execution_count": 69,
   "metadata": {},
   "outputs": [],
   "source": [
    "parent1 = {\n",
    "    'w0': ['h0', 'j1', 'j2', 'j3', 'j4', 'h0'],\n",
    "    'w1': ['h1', 'j5', 'j6', 'j7', 'j8', 'h1'],\n",
    "}\n",
    "parent2 = {\n",
    "    'w0': ['h0', 'j1', 'j3', 'j5', 'j7', 'h0'],\n",
    "    'w1': ['h1', 'j2', 'j4', 'j6', 'j8', 'h1'],\n",
    "}"
   ]
  },
  {
   "cell_type": "code",
   "execution_count": 70,
   "metadata": {},
   "outputs": [
    {
     "data": {
      "text/plain": [
       "{'w0': ['h0', 'j1', 'j3', 'j5', 'j7'], 'w1': ['h1', 'j5', 'j6', 'j8']}"
      ]
     },
     "execution_count": 70,
     "metadata": {},
     "output_type": "execute_result"
    }
   ],
   "source": [
    "child = crossovers(parent1, parent2)\n",
    "child"
   ]
  },
  {
   "cell_type": "code",
   "execution_count": 92,
   "metadata": {},
   "outputs": [
    {
     "data": {
      "image/png": "[encoded data removed]",
      "text/plain": [
       "<Figure size 640x480 with 1 Axes>"
      ]
     },
     "metadata": {},
     "output_type": "display_data"
    }
   ],
   "source": [
    "import matplotlib.pyplot as plt\n",
    "\n",
    "# Define the list of points with their coordinates and time windows\n",
    "points = [\n",
    "    {'id': 1, 'x': 0, 'y': 0, 'start_time': 0, 'end_time': 1},\n",
    "    {'id': 2, 'x': 3, 'y': 1, 'start_time': 0, 'end_time': 2},\n",
    "    {'id': 3, 'x': 2, 'y': 2.5, 'start_time': 3, 'end_time': 4},\n",
    "    {'id': 4, 'x': 1, 'y': 3, 'start_time': 6, 'end_time': 8},\n",
    "    {'id': 5, 'x': 0, 'y': 0, 'start_time': 8, 'end_time': 9},\n",
    "]\n",
    "\n",
    "# Define the order in which the points are visited by the vehicle\n",
    "route = [1, 2, 3, 4, 5]\n",
    "\n",
    "# Create a scatter plot of the points\n",
    "fig, ax = plt.subplots()\n",
    "ax.scatter([p['x'] for p in points], [p['y'] for p in points])\n",
    "\n",
    "# Add a bar for each point that shows the time window\n",
    "for p in points:\n",
    "    ax.barh(p['y'], 10, left=1+p['x'], height=0.05, color='red', alpha=0.1)\n",
    "    ax.barh(p['y'], p['end_time'] - p['start_time'], left=1+p['x'] + p['start_time'], height=0.05, color='green')\n",
    "\n",
    "\n",
    "# Connect the points in the order they are visited by the vehicle\n",
    "route_x = [points[route[i]-1]['x'] for i in range(len(route))]\n",
    "route_y = [points[route[i]-1]['y'] for i in range(len(route))]\n",
    "ax.plot(route_x, route_y, '-o')\n",
    "\n",
    "# Add a label for the route\n",
    "route_time = sum([points[route[i]-1]['end_time'] for i in range(len(route))])\n",
    "ax.set_title(f\"Route Time: {route_time}\")\n",
    "\n",
    "plt.show()\n"
   ]
  },
  {
   "cell_type": "code",
   "execution_count": null,
   "metadata": {},
   "outputs": [],
   "source": []
  },
  {
   "cell_type": "code",
   "execution_count": 32,
   "metadata": {},
   "outputs": [],
   "source": [
    "def breedParents(parent1, parent2):\n",
    "    child = []\n",
    "    # To be completed - Begin\n",
    "    random1 = random.randint(0, len(parent1)-2)\n",
    "    random2 = random.randint(random1+1, len(parent1)-1)\n",
    "    parent1_gen = parent1[random1 : random2]\n",
    "    #print(\"le set: \", parent1_gen)\n",
    "    i = 0\n",
    "    j = 0\n",
    "    while i <= len(parent2)-1:\n",
    "        if parent2[i] not in parent1_gen:\n",
    "            child.append(parent2[i])\n",
    "            j += 1\n",
    "            if j == random1: \n",
    "                i += 1\n",
    "                break\n",
    "        i += 1\n",
    "    #print('child1: ', child) \n",
    "    child += parent1_gen\n",
    "    #print('child2: ', child) \n",
    "    #if random2 < len(parent1):\n",
    "    j = random2\n",
    "    while i <= len(parent2)-1:\n",
    "        if parent2[i] not in parent1_gen:\n",
    "            child.append(parent2[i])\n",
    "            j += 1\n",
    "            if j == len(parent1)+1: break\n",
    "        i += 1\n",
    "    #print('child3: ', child) \n",
    "    # To be completed - End\n",
    "    return child"
   ]
  },
  {
   "cell_type": "markdown",
   "metadata": {},
   "source": [
    "Here is an example of a child obtained by breeding the two first parents of previous `exampleMatingPool` using the function `breedParents(parent1, parent2)`."
   ]
  },
  {
   "cell_type": "code",
   "execution_count": 33,
   "metadata": {},
   "outputs": [
    {
     "name": "stdout",
     "output_type": "stream",
     "text": [
      "[(103, 137), (139, 181), (163, 196), (50, 123), (68, 187), (121, 149), (0, 35), (116, 25), (73, 93), (196, 130)]\n",
      "[(73, 93), (50, 123), (139, 181), (163, 196), (116, 25), (196, 130), (0, 35), (103, 137), (68, 187), (121, 149)]\n",
      "[(73, 93), (139, 181), (163, 196), (50, 123), (68, 187), (121, 149), (116, 25), (196, 130), (0, 35), (103, 137)]\n"
     ]
    }
   ],
   "source": [
    "exampleParent1 = exampleMatingPool[0]\n",
    "exampleParent2 = exampleMatingPool[-1]\n",
    "exampleChild = [(73, 93), (139, 181), (163, 196), (50, 123), (68, 187), \n",
    "                (121, 149), (116, 25), (196, 130), (0, 35), (103, 137)]\n",
    "print(exampleParent1)\n",
    "print(exampleParent2)\n",
    "print(exampleChild)"
   ]
  },
  {
   "cell_type": "markdown",
   "metadata": {},
   "source": [
    "> Test your function.\n",
    "\n",
    "**Note:** due to randomness, you may have a different child."
   ]
  },
  {
   "cell_type": "code",
   "execution_count": 34,
   "metadata": {},
   "outputs": [
    {
     "name": "stdout",
     "output_type": "stream",
     "text": [
      "[(103, 137), (139, 181), (163, 196), (50, 123), (68, 187), (121, 149), (0, 35), (116, 25), (73, 93), (196, 130)]\n",
      "[(73, 93), (50, 123), (139, 181), (163, 196), (116, 25), (196, 130), (0, 35), (103, 137), (68, 187), (121, 149)]\n",
      "[(139, 181), (196, 130), (163, 196), (50, 123), (68, 187), (121, 149), (0, 35), (116, 25), (73, 93), (103, 137)]\n"
     ]
    }
   ],
   "source": [
    "print(exampleParent1)\n",
    "print(exampleParent2)\n",
    "print(breedParents(exampleParent1, exampleParent2))"
   ]
  },
  {
   "cell_type": "markdown",
   "metadata": {},
   "source": [
    "#### Breed mating pool\n",
    "\n",
    "Now we can generalize the breeding process to the entire mating pool, by breeding random pairs of parents of the mating pool.\n",
    "\n",
    "> Implement a function `breedMatingPool(matingPool, nbChildren)` which returns a list of `nbChildren` childrens applying by applying the ordered crossover process over random pairs of parents from `matingPool`.\n",
    "\n",
    "**Note:** the breeding process is used to produce a large collection of children, larger than the size a generation, as then a selection of the best children is applied; the variable `nbChildren` will be a hyper-parameter of the GA final function called `runGeneticAlgorithm(...)`."
   ]
  },
  {
   "cell_type": "code",
   "execution_count": 98,
   "metadata": {},
   "outputs": [],
   "source": [
    "def breedMatingPool(matingPool, nbChildren):\n",
    "    children = []\n",
    "    # To be completed - Start\n",
    "    for i in range(nbChildren):\n",
    "        parent1 = random.choice(matingPool)\n",
    "        while True:\n",
    "            parent2 = random.choice(matingPool)\n",
    "            if parent2 != parent1: break\n",
    "        children.append(breedParents(parent1, parent2))\n",
    "    # To be completed - End\n",
    "    return children"
   ]
  },
  {
   "cell_type": "markdown",
   "metadata": {},
   "source": [
    "Here is an example of a list of 10 children obtained by breeding the previous `exampleMatingPool` using the function `breedMatingPool(matingPool, nbChildren)`."
   ]
  },
  {
   "cell_type": "code",
   "execution_count": 36,
   "metadata": {},
   "outputs": [],
   "source": [
    "exampleChildren = [\n",
    "    [(0, 35), (103, 137), (116, 25), (68, 187), (196, 130), (50, 123), (163, 196), (121, 149), (139, 181), (73, 93)], \n",
    "    [(73, 93), (103, 137), (0, 35), (50, 123), (139, 181), (121, 149), (163, 196), (116, 25), (196, 130), (68, 187)], \n",
    "    [(103, 137), (139, 181), (116, 25), (68, 187), (196, 130), (50, 123), (163, 196), (121, 149), (0, 35), (73, 93)], \n",
    "    [(73, 93), (103, 137), (50, 123), (139, 181), (121, 149), (163, 196), (0, 35), (116, 25), (68, 187), (196, 130)],\n",
    "    [(73, 93), (50, 123), (139, 181), (163, 196), (116, 25), (196, 130), (103, 137), (0, 35), (121, 149), (68, 187)],\n",
    "    [(73, 93), (50, 123), (139, 181), (196, 130), (0, 35), (121, 149), (163, 196), (116, 25), (68, 187), (103, 137)],\n",
    "    [(103, 137), (139, 181), (163, 196), (50, 123), (68, 187), (121, 149), (0, 35), (116, 25), (73, 93), (196, 130)],\n",
    "    [(73, 93), (139, 181), (163, 196), (50, 123), (68, 187), (121, 149), (0, 35), (103, 137), (116, 25), (196, 130)],\n",
    "    [(103, 137), (116, 25), (196, 130), (50, 123), (73, 93), (0, 35), (139, 181), (121, 149), (163, 196), (68, 187)],\n",
    "    [(163, 196), (103, 137), (0, 35), (50, 123), (139, 181), (68, 187), (121, 149), (116, 25), (73, 93), (196, 130)]]"
   ]
  },
  {
   "cell_type": "markdown",
   "metadata": {},
   "source": [
    "> Test your function.\n",
    "\n",
    "**Note:** due to randomness, you are likely to have different children."
   ]
  },
  {
   "cell_type": "code",
   "execution_count": 37,
   "metadata": {},
   "outputs": [
    {
     "name": "stdout",
     "output_type": "stream",
     "text": [
      "[(73, 93), (50, 123), (139, 181), (116, 25), (196, 130), (0, 35), (163, 196), (121, 149), (103, 137), (68, 187)]\n",
      "[(103, 137), (139, 181), (163, 196), (50, 123), (121, 149), (0, 35), (116, 25), (73, 93), (68, 187), (196, 130)]\n",
      "[(103, 137), (139, 181), (163, 196), (50, 123), (121, 149), (116, 25), (73, 93), (68, 187), (0, 35), (196, 130)]\n",
      "[(103, 137), (139, 181), (0, 35), (50, 123), (163, 196), (68, 187), (121, 149), (116, 25), (73, 93), (196, 130)]\n",
      "[(68, 187), (50, 123), (121, 149), (163, 196), (116, 25), (196, 130), (0, 35), (103, 137), (139, 181), (73, 93)]\n",
      "[(103, 137), (139, 181), (163, 196), (50, 123), (121, 149), (0, 35), (116, 25), (68, 187), (73, 93), (196, 130)]\n",
      "[(103, 137), (116, 25), (68, 187), (50, 123), (163, 196), (196, 130), (0, 35), (121, 149), (139, 181), (73, 93)]\n",
      "[(73, 93), (50, 123), (163, 196), (116, 25), (196, 130), (0, 35), (103, 137), (68, 187), (121, 149), (139, 181)]\n",
      "[(103, 137), (0, 35), (50, 123), (139, 181), (121, 149), (163, 196), (116, 25), (68, 187), (73, 93), (196, 130)]\n",
      "[(50, 123), (139, 181), (163, 196), (116, 25), (196, 130), (0, 35), (103, 137), (68, 187), (73, 93), (121, 149)]\n"
     ]
    }
   ],
   "source": [
    "for child in breedMatingPool(exampleMatingPool, 10):\n",
    "    print(child)"
   ]
  },
  {
   "cell_type": "markdown",
   "metadata": {},
   "source": [
    "### 3.4.3. Step 4.C - Apply random mutations to the children\n",
    "\n",
    "The mutation process serves an important function in GA, as it helps to avoid fast convergence to a local optimum by introducing new individuals allowing to explore other parts of the solution space. There are various generic mutation processes. Again, what is important is to guarantee that the chosen or designed mutation process guarantee the feasibility of the mutated individual. We propose to use a *swap mutation*.\n",
    "\n",
    "#### Mutate an individual\n",
    "\n",
    "Let's start with the mutation of a single individual. In the swap mutation process, given an individual, each gene of its collection has a small probability, say $p \\in [0, 1]$ to be swapped with another random gene; in other words, the number of swaps follows a binomial distribution. Therefore, the higher $p$ is, the more the individual is altered.\n",
    "\n",
    "> Implement a function `mutateIndividual(individual, mutationRate)` which applies the swap mutation process on the `individual`, each of its genes having a small probability `mutationRate` to be swapped.\n",
    "\n",
    "**Note 1:** the `mutationRate` is usually set to a low value like 0.01 to 0.1 as we do not want to alter too much the individual; it will be a hyper-parameter of the GA final function called `runGeneticAlgorithm(...)`.\n",
    "\n",
    "**Note 2:** depending on the way you code your function, more specifically if you copy the individual and depending on the way you copy (shallow copy or deep copy) it before applying mutation, you may alter the individual itself or a copy of it; it does not matter here as we choose not to save the non-mutated individuals, but it would have mattered otherwise; shallow copies are relevant to save memory and time, deep copies are relevant to prevent unwanted interactions between variables."
   ]
  },
  {
   "cell_type": "code",
   "execution_count": 38,
   "metadata": {},
   "outputs": [],
   "source": [
    "def mutateIndividual(individual, mutationRate):\n",
    "    # To be completed - Start\n",
    "    length = len(individual)\n",
    "    for i in range(length-2):\n",
    "        if random.random() <= mutationRate:\n",
    "            swaped_i = random.randint(i, length-1)\n",
    "            original = individual[i]\n",
    "            individual[i] = individual[swaped_i]\n",
    "            individual[swaped_i] = original\n",
    "    # To be completed - End\n",
    "    return individual\n"
   ]
  },
  {
   "cell_type": "markdown",
   "metadata": {},
   "source": [
    "Here is an example of a mutated individual obtained using the function `mutateIndividual(individual, mutationRate)` on the previous `exampleChild` with a `mutationRate` of 0.5 (so pretty high but it reveals obviously the effect of the mutation swaps)."
   ]
  },
  {
   "cell_type": "code",
   "execution_count": 39,
   "metadata": {
    "scrolled": true
   },
   "outputs": [
    {
     "name": "stdout",
     "output_type": "stream",
     "text": [
      "[(73, 93), (139, 181), (163, 196), (50, 123), (68, 187), (121, 149), (116, 25), (196, 130), (0, 35), (103, 137)]\n",
      "[(73, 93), (0, 35), (116, 25), (196, 130), (68, 187), (163, 196), (139, 181), (50, 123), (121, 149), (103, 137)]\n"
     ]
    }
   ],
   "source": [
    "exampleMutatedChild = [(73, 93), (0, 35), (116, 25), (196, 130), (68, 187), \n",
    "                       (163, 196), (139, 181), (50, 123), (121, 149), (103, 137)]\n",
    "print(exampleChild)\n",
    "print(exampleMutatedChild)"
   ]
  },
  {
   "cell_type": "markdown",
   "metadata": {},
   "source": [
    "> Test your function. Note the effect of `mutationRate`.\n",
    "\n",
    "**Note 1:** due to randomness, you are likely to have a different mutated child\n",
    "\n",
    "**Note 2:** note the use of the built-in list method .copy() to apply a deep copy."
   ]
  },
  {
   "cell_type": "code",
   "execution_count": 40,
   "metadata": {},
   "outputs": [
    {
     "name": "stdout",
     "output_type": "stream",
     "text": [
      "[(73, 93), (139, 181), (163, 196), (50, 123), (68, 187), (121, 149), (116, 25), (196, 130), (0, 35), (103, 137)]\n",
      "[(73, 93), (139, 181), (163, 196), (50, 123), (68, 187), (121, 149), (116, 25), (196, 130), (0, 35), (103, 137)]\n"
     ]
    }
   ],
   "source": [
    "print(exampleChild)\n",
    "print(mutateIndividual(exampleChild.copy(), 0.1))"
   ]
  },
  {
   "cell_type": "markdown",
   "metadata": {},
   "source": [
    "#### Mutate a population\n",
    "\n",
    "Now we can generalize the mutation process to the entire population, by applying the mutation to each individuals.\n",
    "\n",
    "> Implement a function `mutatePopulation(population, mutationRate)` which applies the mutation to all the individual of the `population` with same `mutationRate`."
   ]
  },
  {
   "cell_type": "code",
   "execution_count": 41,
   "metadata": {},
   "outputs": [],
   "source": [
    "def mutatePopulation(population, mutationRate):\n",
    "    # To be completed - Start\n",
    "    population_aux = list()\n",
    "    for individual in population:\n",
    "        population_aux.append(mutateIndividual(individual.copy(), mutationRate))\n",
    "    population = population_aux\n",
    "    # To be completed - End\n",
    "    return population"
   ]
  },
  {
   "cell_type": "markdown",
   "metadata": {},
   "source": [
    "Here is an example of mutated children returned by the function `mutatePopulation(population, mutationRate)` on the previous `exampleChildren` with a `mutationRate` of 0.5 (again pretty high)."
   ]
  },
  {
   "cell_type": "code",
   "execution_count": 42,
   "metadata": {},
   "outputs": [],
   "source": [
    "exampleMutatedChildren = [\n",
    "    [(163, 196), (103, 137), (73, 93), (68, 187), (196, 130), (50, 123), (139, 181), (0, 35), (121, 149), (116, 25)], \n",
    "    [(103, 137), (73, 93), (163, 196), (139, 181), (68, 187), (196, 130), (0, 35), (50, 123), (121, 149), (116, 25)], \n",
    "    [(0, 35), (196, 130), (163, 196), (68, 187), (116, 25), (50, 123), (139, 181), (121, 149), (73, 93), (103, 137)], \n",
    "    [(116, 25), (163, 196), (50, 123), (139, 181), (121, 149), (103, 137), (0, 35), (73, 93), (68, 187), (196, 130)], \n",
    "    [(73, 93), (50, 123), (0, 35), (139, 181), (68, 187), (163, 196), (103, 137), (121, 149), (196, 130), (116, 25)], \n",
    "    [(116, 25), (50, 123), (0, 35), (196, 130), (68, 187), (121, 149), (139, 181), (163, 196), (73, 93), (103, 137)], \n",
    "    [(50, 123), (196, 130), (73, 93), (0, 35), (68, 187), (121, 149), (103, 137), (116, 25), (163, 196), (139, 181)], \n",
    "    [(73, 93), (121, 149), (163, 196), (0, 35), (50, 123), (139, 181), (103, 137), (116, 25), (68, 187), (196, 130)], \n",
    "    [(196, 130), (121, 149), (139, 181), (103, 137), (73, 93), (0, 35), (116, 25), (50, 123), (163, 196), (68, 187)],\n",
    "    [(163, 196), (116, 25), (0, 35), (50, 123), (139, 181), (68, 187), (121, 149), (73, 93), (103, 137), (196, 130)]]"
   ]
  },
  {
   "cell_type": "markdown",
   "metadata": {},
   "source": [
    "> Test your function. Note the effect of `mutationRate`.\n",
    "\n",
    "**Note 1:** due to randomness, you are likely to have different mutated children.\n",
    "\n",
    "**Note 2:** again, note the use of the built-in list method .copy() to apply a deep copy."
   ]
  },
  {
   "cell_type": "code",
   "execution_count": 43,
   "metadata": {},
   "outputs": [
    {
     "name": "stdout",
     "output_type": "stream",
     "text": [
      "[(0, 35), (103, 137), (116, 25), (68, 187), (196, 130), (50, 123), (163, 196), (121, 149), (139, 181), (73, 93)]\n",
      "[(73, 93), (103, 137), (0, 35), (50, 123), (139, 181), (121, 149), (163, 196), (116, 25), (196, 130), (68, 187)]\n",
      "[(103, 137), (139, 181), (116, 25), (68, 187), (196, 130), (50, 123), (163, 196), (121, 149), (0, 35), (73, 93)]\n",
      "[(73, 93), (103, 137), (50, 123), (139, 181), (121, 149), (163, 196), (0, 35), (116, 25), (68, 187), (196, 130)]\n",
      "[(73, 93), (50, 123), (139, 181), (163, 196), (116, 25), (196, 130), (103, 137), (0, 35), (121, 149), (68, 187)]\n",
      "[(73, 93), (50, 123), (139, 181), (196, 130), (0, 35), (121, 149), (163, 196), (116, 25), (68, 187), (103, 137)]\n",
      "[(103, 137), (139, 181), (163, 196), (50, 123), (68, 187), (121, 149), (0, 35), (116, 25), (73, 93), (196, 130)]\n",
      "[(73, 93), (139, 181), (163, 196), (50, 123), (68, 187), (121, 149), (0, 35), (103, 137), (116, 25), (196, 130)]\n",
      "[(103, 137), (116, 25), (196, 130), (50, 123), (73, 93), (0, 35), (139, 181), (121, 149), (163, 196), (68, 187)]\n",
      "[(163, 196), (103, 137), (0, 35), (50, 123), (139, 181), (68, 187), (121, 149), (116, 25), (73, 93), (196, 130)]\n",
      "\n",
      "[(0, 35), (103, 137), (121, 149), (68, 187), (196, 130), (50, 123), (163, 196), (116, 25), (139, 181), (73, 93)]\n",
      "[(73, 93), (103, 137), (0, 35), (50, 123), (139, 181), (121, 149), (163, 196), (116, 25), (196, 130), (68, 187)]\n",
      "[(103, 137), (139, 181), (196, 130), (68, 187), (116, 25), (50, 123), (163, 196), (121, 149), (0, 35), (73, 93)]\n",
      "[(73, 93), (103, 137), (50, 123), (139, 181), (121, 149), (163, 196), (0, 35), (116, 25), (68, 187), (196, 130)]\n",
      "[(73, 93), (50, 123), (139, 181), (163, 196), (116, 25), (196, 130), (103, 137), (0, 35), (121, 149), (68, 187)]\n",
      "[(73, 93), (50, 123), (139, 181), (196, 130), (0, 35), (121, 149), (163, 196), (116, 25), (68, 187), (103, 137)]\n",
      "[(103, 137), (139, 181), (163, 196), (50, 123), (68, 187), (121, 149), (0, 35), (116, 25), (73, 93), (196, 130)]\n",
      "[(73, 93), (196, 130), (163, 196), (50, 123), (68, 187), (103, 137), (0, 35), (116, 25), (121, 149), (139, 181)]\n",
      "[(103, 137), (116, 25), (196, 130), (50, 123), (73, 93), (0, 35), (139, 181), (121, 149), (163, 196), (68, 187)]\n",
      "[(163, 196), (103, 137), (0, 35), (73, 93), (139, 181), (68, 187), (121, 149), (116, 25), (50, 123), (196, 130)]\n"
     ]
    }
   ],
   "source": [
    "for child in exampleChildren:\n",
    "    print(child)\n",
    "print()\n",
    "for mutatedChild in mutatePopulation([individual.copy() for individual in exampleChildren], 0.1):\n",
    "    print(mutatedChild)"
   ]
  },
  {
   "cell_type": "markdown",
   "metadata": {},
   "source": [
    "###  3.4.4. Step 4.D - Compute the fitness over the children in order to rank them\n",
    "\n",
    "Now that we can have a collection of mutated children, we can rank them. Actually, we do not need to implement any new function for that as we have already implemented the generic function `computeRankingData(population)`."
   ]
  },
  {
   "cell_type": "markdown",
   "metadata": {},
   "source": [
    "### 3.4.5. Step 4.E - Select the best children to form the group of best children\n",
    "\n",
    "Finally, we can select the *right number* of best children using the computed ranking data. Two comments. First, here again we do not need to implement any new function for selecting as we have already implemented the generic function `selectBestIndividuals(population, rankedPopulationIndices, nbBestIndividuals)`. Second, the *right number* is given by the difference between the fixed size of any generation and the size of the group of elites (selected at step 3)."
   ]
  },
  {
   "cell_type": "markdown",
   "metadata": {},
   "source": [
    "## 3.5. Step 5 - Merge the groups of elites and best-children to form a new generation\n",
    "\n",
    "After executing steps 3 and 4, we obtain respectively the group of elites and the group of best-children, whose sizes are complementary. This step consists simply in merging the two groups to form the new generation.\n",
    "\n",
    "> Implement a function `mergePopulation(population1, population2)` which returns the population formed by merging `population1` and `population2`.\n",
    "\n",
    "**Note:** this function is quite simple..."
   ]
  },
  {
   "cell_type": "code",
   "execution_count": 44,
   "metadata": {},
   "outputs": [],
   "source": [
    "def mergePopulation(population1, population2):\n",
    "    newPopulation = []\n",
    "    # To be completed - Start\n",
    "    newPopulation += population1 + population2\n",
    "    # To be completed - End\n",
    "    return newPopulation"
   ]
  },
  {
   "cell_type": "markdown",
   "metadata": {},
   "source": [
    "## 3.6. Step 6 - Repeat steps 2-5 with the new generation until reaching a stopping criterion\n",
    "\n",
    "We are almost there. Let's pull steps 2 to 5 together as we are going to repeat them several times before finally saving the best individual at the end of the entire process.\n",
    "\n",
    "> Implement a function `produceNewGeneration(generation, nbElites, nbParents, nbChildren, mutationRate)` which takes as inputs a `generation` of individuals and returns a new one. First, it applies the step 3 of elitism by creating a group of `nbElites`. Second, it applies step 4 to create a complementary group of children, by breeding `nbParents` parents to form a large collection of `nbChildren` children before mutating them (using the `mutationRate`) and selecting the best of them. Then, it merges elites and best children according to step 5.\n",
    "\n",
    "**Note:** do not forget that we assumed the generations have the same fixed size."
   ]
  },
  {
   "cell_type": "code",
   "execution_count": 99,
   "metadata": {},
   "outputs": [],
   "source": [
    "def produceNewGeneration(generation, nbElites, nbParents, nbChildren, mutationRate):\n",
    "    newGeneration = []\n",
    "    nbIndividualsPerGeneration = len(generation)\n",
    "    # To be completed - Start\n",
    "    #print('size :', len(generation))\n",
    "    population = generation\n",
    "    nbBestIndividuals = nbElites\n",
    "    \n",
    "    # elite\n",
    "    rankedPopulationIndices, rankedPopulationFitnessScores = computeRankingData(population)\n",
    "    \n",
    "    elite = selectBestIndividuals(population, rankedPopulationIndices, nbBestIndividuals)\n",
    "    #print(\"HERE THE PROBLEM:\")\n",
    "    matingPool = selectMatingPool(population, rankedPopulationIndices, rankedPopulationFitnessScores, nbParents)\n",
    "    \n",
    "    # childrens\n",
    "    childrens = breedMatingPool(matingPool, nbChildren)\n",
    "    \n",
    "    #mutated_population = mutatePopulation(childrens, mutationRate)\n",
    "    mutated_population = childrens\n",
    "    \n",
    "    rankedmutated_PopulationIndices, rankedmutated_PopulationFitnessScores = computeRankingData(mutated_population)\n",
    "    \n",
    "    nbChildrens = len(population) - nbElites\n",
    "    final_childrens = selectBestIndividuals(mutated_population, rankedmutated_PopulationIndices, nbChildrens)\n",
    "    \n",
    "    # merge\n",
    "    newGeneration = mergePopulation(elite, mutated_population)\n",
    "    # to be completed - End\n",
    "    return newGeneration"
   ]
  },
  {
   "cell_type": "markdown",
   "metadata": {},
   "source": [
    "## 3.7. Step 7 - Select the best individual of the last generation\n",
    "\n",
    "Finally the function `runGeneticAlgorithm(instance, generationSize, nbElites, nbParents, nbChildren, mutationRate, nbGenerations, maximumSolvingTimeInSeconds, timeCriterion)` runs the GA on the `instance`. \n",
    "\n",
    "The inputs `generationSize`, `nbElites`, `nbParents`, `nbChildren`, `mutationRate` are hyper-parameters that we must set and that are then used through the different steps 1-6 of the GA. \n",
    "\n",
    "We propose to break the loop of step 6 when reaching a criterion on the number of generations `nbGenerations` or the maximum solving time `maximumSolvingTimeInSeconds`. We can switch to first criterion or the latter by setting the boolean `timeCriterion` respectively to `False` or `True`.\n",
    "\n",
    "The function returns a triplet: the best route `bestIndividual`, its fitness score `bestFitnessScore` and a list of the fitness scores of the best individuals over the generations `bestFitnessScoresEvolution`."
   ]
  },
  {
   "cell_type": "code",
   "execution_count": 100,
   "metadata": {},
   "outputs": [],
   "source": [
    "def runGeneticAlgorithm(instance, \n",
    "                        generationSize, nbElites, nbParents, nbChildren, mutationRate, \n",
    "                        nbGenerations = 100, maximumSolvingTimeInSeconds = 60, timeCriterion = True):\n",
    "    \n",
    "    # Initialize stopping criterion data\n",
    "    criterionSatisfaction = True\n",
    "    nbGenerationsDone = 0\n",
    "    startTime = 0\n",
    "    \n",
    "    # Check criterion satisfaction\n",
    "    def checkCriterionSatisfaction():\n",
    "        if timeCriterion:\n",
    "            return (time.time() - startTime) < maximumSolvingTimeInSeconds\n",
    "        else:\n",
    "            return nbGenerationsDone < nbGenerations\n",
    "    \n",
    "    # Create initial population\n",
    "    generation = createInitialPopulation(generationSize, instance)\n",
    "    \n",
    "    # Repeat producing generation until reaching the stopping criterion\n",
    "    startTime = time.time()\n",
    "    bestFitnessScoresEvolution = []\n",
    "    #while checkCriterionSatisfaction():\n",
    "    i = 0\n",
    "    while i <= nbGenerations:\n",
    "        i += 1\n",
    "        print(i, end=\" \")\n",
    "        generation = produceNewGeneration(generation, nbElites, nbParents, nbChildren, mutationRate)\n",
    "        bestIndividual = generation[0]\n",
    "        bestFitnessScoresEvolution.append(computeFitnessScore(bestIndividual))\n",
    "        nbGenerationsDone += 1\n",
    "    rankedGenerationIndices, rankedGenerationFitnessScores = computeRankingData(generation)\n",
    "    bestIndividual = generation[rankedGenerationIndices[0]]\n",
    "    bestFitnessScore = computeFitnessScore(bestIndividual)\n",
    "    bestFitnessScoresEvolution.append(bestFitnessScore)\n",
    "    \n",
    "    return bestIndividual, bestFitnessScore, bestFitnessScoresEvolution"
   ]
  },
  {
   "cell_type": "markdown",
   "metadata": {},
   "source": [
    "# 4. Functions for displaying results\n",
    "\n",
    "The function `plotEvolution(bestDistancesEvolution)` and `plotRoute(route)` are two simple functions for displaying the results obtained with the GA.\n",
    "\n",
    "**Note:** the input of `plotEvolution(bestDistancesEvolution)` is a list of distances of the best individuals over the generations `bestDistancesEvolution` which can be obtained by inverting the fitness scores."
   ]
  },
  {
   "cell_type": "code",
   "execution_count": 101,
   "metadata": {},
   "outputs": [],
   "source": [
    "def plotEvolution(bestDistancesEvolution):\n",
    "    plt.plot(bestDistancesEvolution)\n",
    "    plt.ylabel('total distance')\n",
    "    plt.xlabel('generation index')\n",
    "    plt.show()"
   ]
  },
  {
   "cell_type": "code",
   "execution_count": 102,
   "metadata": {},
   "outputs": [],
   "source": [
    "def plotRoute(route):\n",
    "    xs = [city[0] for city in route] + [route[0][0]]\n",
    "    ys = [city[1] for city in route] + [route[0][1]]\n",
    "    plt.plot(xs, ys, 'o-')\n",
    "    plt.ylabel('x')\n",
    "    plt.xlabel('y')\n",
    "    plt.show()"
   ]
  },
  {
   "cell_type": "markdown",
   "metadata": {},
   "source": [
    "# 5. Numerical experiments\n",
    "\n",
    "> Run the GA over the instances. Try different sets of parameters. You could also try to improve your function to make them faster. Or you could even try to change the structure of the GA. Fill the table of the best results with yours to compare with others' ones."
   ]
  },
  {
   "cell_type": "code",
   "execution_count": 103,
   "metadata": {},
   "outputs": [],
   "source": [
    "fileName = \"TSPInstance50.csv\"\n",
    "instance = loadFixedInstance(fileName)"
   ]
  },
  {
   "cell_type": "code",
   "execution_count": 107,
   "metadata": {
    "scrolled": false
   },
   "outputs": [
    {
     "name": "stdout",
     "output_type": "stream",
     "text": [
      "1 2 3 4 5 6 7 8 9 10 11 12 13 14 15 16 17 18 19 20 21 22 23 24 25 26 27 28 29 30 31 32 33 34 35 36 37 38 39 40 41 42 43 44 45 46 47 48 49 50 51 52 53 54 55 56 57 58 59 60 61 62 63 64 65 66 67 68 69 70 71 72 73 74 75 76 77 78 79 80 81 82 83 84 85 86 87 88 89 90 91 92 93 94 95 96 97 98 99 100 101 102 103 104 105 106 107 108 109 110 111 112 113 114 115 116 117 118 119 120 121 122 123 124 125 126 127 128 129 130 131 132 133 134 135 136 137 138 139 140 141 142 143 144 145 146 147 148 149 150 151 152 153 154 155 156 157 158 159 160 161 162 163 164 165 166 167 168 169 170 171 172 173 174 175 176 177 178 179 180 181 182 183 184 185 186 187 188 189 190 191 192 193 194 195 196 197 198 199 200 201 202 203 204 205 206 207 208 209 210 211 212 213 214 215 216 217 218 219 220 221 222 223 224 225 226 227 228 229 230 231 232 233 234 235 236 237 238 239 240 241 242 243 244 245 246 247 248 249 250 251 252 253 254 255 256 257 258 259 260 261 262 263 264 265 266 267 268 269 270 271 272 273 274 275 276 277 278 279 280 281 282 283 284 285 286 287 288 289 290 291 292 293 294 295 296 297 298 299 300 301 302 303 304 305 306 307 308 309 310 311 312 313 314 315 316 317 318 319 320 321 322 323 324 325 326 327 328 329 330 331 332 333 334 335 336 337 338 339 340 341 342 343 344 345 346 347 348 349 350 351 352 353 354 355 356 357 358 359 360 361 362 363 364 365 366 367 368 369 370 371 372 373 374 375 376 377 378 379 380 381 382 383 384 385 386 387 388 389 390 391 392 393 394 395 396 397 398 399 400 401 402 403 404 405 406 407 408 409 410 411 412 413 414 415 416 417 418 419 420 421 422 423 424 425 426 427 428 429 430 431 432 433 434 435 436 437 438 439 440 441 442 443 444 445 446 447 448 449 450 451 452 453 454 455 456 457 458 459 460 461 462 463 464 465 466 467 468 469 470 471 472 473 474 475 476 477 478 479 480 481 482 483 484 485 486 487 488 489 490 491 492 493 494 495 496 497 498 499 500 501 502 503 504 505 506 507 508 509 510 511 512 513 514 515 516 517 518 519 520 521 522 523 524 525 526 527 528 529 530 531 532 533 534 535 536 537 538 539 540 541 542 543 544 545 546 547 548 549 550 551 552 553 554 555 556 557 558 559 560 561 562 563 564 565 566 567 568 569 570 571 572 573 574 575 576 577 578 579 580 581 582 583 584 585 586 587 588 589 590 591 592 593 594 595 596 597 598 599 600 601 602 603 604 605 606 607 608 609 610 611 612 613 614 615 616 617 618 619 620 621 622 623 624 625 626 627 628 629 630 631 632 633 634 635 636 637 638 639 640 641 642 643 644 645 646 647 648 649 650 651 652 653 654 655 656 657 658 659 660 661 662 663 664 665 666 667 668 669 670 671 672 673 674 675 676 677 678 679 680 681 682 683 684 685 686 687 688 689 690 691 692 693 694 695 696 697 698 699 700 701 702 703 704 705 706 707 708 709 710 711 712 713 714 715 716 717 718 719 720 721 722 723 724 725 726 727 728 729 730 731 732 733 734 735 736 737 738 739 740 741 742 743 744 745 746 747 748 749 750 751 752 753 754 755 756 757 758 759 760 761 762 763 764 765 766 767 768 769 770 771 772 773 774 775 776 777 778 779 780 781 782 783 784 785 786 787 788 789 790 791 792 793 794 795 796 797 798 799 800 801 802 803 804 805 806 807 808 809 810 811 812 813 814 815 816 817 818 819 820 821 822 823 824 825 826 827 828 829 830 831 832 833 834 835 836 837 838 839 840 841 842 843 844 845 846 847 848 849 850 851 852 853 854 855 856 857 858 859 860 861 862 863 864 865 866 867 868 869 870 871 872 873 874 875 876 877 878 879 880 881 882 883 884 885 886 887 888 889 890 891 892 893 894 895 896 897 898 899 900 901 902 903 904 905 906 907 908 909 910 911 912 913 914 915 916 917 918 919 920 921 922 923 924 925 926 927 928 929 930 931 932 933 934 935 936 937 938 939 940 941 942 943 944 945 946 947 948 949 950 951 952 953 954 955 956 957 958 959 960 961 962 963 964 965 966 967 968 969 970 971 972 973 974 975 976 977 978 979 980 981 982 983 984 985 986 987 988 989 990 991 992 993 994 995 996 997 998 999 1000 1001 1002 1003 1004 1005 1006 1007 1008 1009 1010 1011 1012 1013 1014 1015 1016 1017 1018 1019 1020 1021 1022 1023 1024 1025 1026 1027 1028 1029 1030 1031 1032 1033 1034 1035 1036 1037 1038 1039 1040 1041 1042 1043 1044 1045 1046 1047 1048 1049 1050 1051 1052 1053 1054 1055 1056 1057 1058 1059 1060 1061 1062 1063 1064 1065 1066 1067 1068 1069 1070 1071 1072 1073 1074 1075 1076 1077 1078 1079 1080 1081 1082 1083 1084 1085 1086 1087 1088 1089 1090 1091 1092 1093 1094 1095 1096 1097 1098 1099 1100 1101 1102 1103 1104 1105 1106 1107 1108 1109 1110 1111 1112 1113 1114 1115 1116 1117 1118 1119 1120 1121 1122 1123 1124 1125 1126 1127 1128 1129 1130 1131 1132 1133 1134 1135 1136 1137 1138 1139 1140 1141 1142 1143 1144 1145 1146 1147 1148 1149 1150 1151 1152 1153 1154 1155 1156 1157 1158 1159 1160 1161 1162 1163 1164 1165 1166 1167 1168 1169 1170 1171 1172 1173 1174 1175 1176 1177 1178 1179 1180 1181 1182 1183 1184 1185 1186 1187 1188 1189 1190 1191 1192 1193 1194 1195 1196 1197 1198 1199 1200 1201 1202 1203 1204 1205 1206 1207 1208 1209 1210 1211 1212 1213 1214 1215 1216 1217 1218 1219 1220 1221 1222 1223 1224 1225 1226 1227 1228 1229 1230 1231 1232 1233 1234 1235 1236 1237 1238 1239 1240 1241 1242 1243 1244 1245 1246 1247 1248 1249 1250 1251 1252 1253 1254 1255 1256 1257 1258 1259 1260 1261 1262 1263 1264 1265 1266 1267 1268 1269 1270 1271 1272 1273 1274 1275 1276 1277 1278 1279 1280 1281 1282 1283 1284 1285 1286 1287 1288 1289 1290 1291 1292 1293 1294 1295 1296 1297 1298 1299 1300 1301 1302 1303 1304 1305 1306 1307 1308 1309 1310 1311 1312 1313 1314 1315 1316 1317 1318 1319 1320 1321 1322 1323 1324 1325 1326 1327 1328 1329 1330 1331 1332 1333 1334 1335 1336 1337 1338 1339 1340 1341 1342 1343 1344 1345 1346 1347 1348 1349 1350 1351 1352 1353 1354 1355 1356 1357 1358 1359 1360 1361 1362 1363 1364 1365 1366 1367 1368 1369 1370 1371 1372 1373 1374 1375 1376 1377 1378 1379 1380 1381 1382 1383 1384 1385 1386 1387 1388 1389 1390 1391 1392 1393 1394 1395 1396 1397 1398 1399 1400 1401 1402 1403 1404 1405 1406 1407 1408 1409 1410 1411 1412 1413 1414 1415 1416 1417 1418 1419 1420 1421 1422 1423 1424 1425 1426 1427 1428 1429 1430 1431 1432 1433 1434 1435 1436 1437 1438 1439 1440 1441 1442 1443 1444 1445 1446 1447 1448 1449 1450 1451 1452 1453 1454 1455 1456 1457 1458 1459 1460 1461 1462 1463 1464 1465 1466 1467 1468 1469 1470 1471 1472 1473 1474 1475 1476 1477 1478 1479 1480 1481 1482 1483 1484 1485 1486 1487 1488 1489 1490 1491 1492 1493 1494 1495 1496 1497 1498 1499 1500 1501 1502 1503 1504 1505 1506 1507 1508 1509 1510 1511 1512 1513 1514 1515 1516 1517 1518 1519 1520 1521 1522 1523 1524 1525 1526 1527 1528 1529 1530 1531 1532 1533 1534 1535 1536 1537 1538 1539 1540 1541 1542 1543 1544 1545 1546 1547 1548 1549 1550 1551 1552 1553 1554 1555 1556 1557 1558 1559 1560 1561 1562 1563 1564 1565 1566 1567 1568 1569 1570 1571 1572 1573 1574 1575 1576 1577 1578 1579 1580 1581 1582 1583 1584 1585 1586 1587 1588 1589 1590 1591 1592 1593 1594 1595 1596 1597 1598 1599 1600 1601 1602 1603 1604 1605 1606 1607 1608 1609 1610 1611 1612 1613 1614 1615 1616 1617 1618 1619 1620 1621 1622 1623 1624 1625 1626 1627 1628 1629 1630 1631 1632 1633 1634 1635 1636 1637 1638 1639 1640 1641 1642 1643 1644 1645 1646 1647 1648 1649 1650 1651 1652 1653 1654 1655 1656 1657 1658 1659 1660 1661 1662 1663 1664 1665 1666 1667 1668 1669 1670 1671 1672 1673 1674 1675 1676 1677 1678 1679 1680 1681 1682 1683 1684 1685 1686 1687 1688 1689 1690 1691 1692 1693 1694 1695 1696 1697 1698 1699 1700 1701 1702 1703 1704 1705 1706 1707 1708 1709 1710 1711 1712 1713 1714 1715 1716 1717 1718 1719 1720 1721 1722 1723 1724 1725 1726 1727 1728 1729 1730 1731 1732 1733 1734 1735 1736 1737 1738 1739 1740 1741 1742 1743 1744 1745 1746 1747 1748 1749 1750 1751 1752 1753 1754 1755 1756 1757 1758 1759 1760 1761 1762 1763 1764 1765 1766 1767 1768 1769 1770 1771 1772 1773 1774 1775 1776 1777 1778 1779 1780 1781 1782 1783 1784 1785 1786 1787 1788 1789 1790 1791 1792 1793 1794 1795 1796 1797 1798 1799 1800 1801 1802 1803 1804 1805 1806 1807 1808 1809 1810 1811 1812 1813 1814 1815 1816 1817 1818 1819 1820 1821 1822 1823 1824 1825 1826 1827 1828 1829 1830 1831 1832 1833 1834 1835 1836 1837 1838 1839 1840 1841 1842 1843 1844 1845 1846 1847 1848 1849 1850 1851 1852 1853 1854 1855 1856 1857 1858 1859 1860 1861 "
     ]
    },
    {
     "name": "stdout",
     "output_type": "stream",
     "text": [
      "1862 1863 1864 1865 1866 1867 1868 1869 1870 1871 1872 1873 1874 1875 1876 1877 1878 1879 1880 1881 1882 1883 1884 1885 1886 1887 1888 1889 1890 1891 1892 1893 1894 1895 1896 1897 1898 1899 1900 1901 1902 1903 1904 1905 1906 1907 1908 1909 1910 1911 1912 1913 1914 1915 1916 1917 1918 1919 1920 1921 1922 1923 1924 1925 1926 1927 1928 1929 1930 1931 1932 1933 1934 1935 1936 1937 1938 1939 1940 1941 1942 1943 1944 1945 1946 1947 1948 1949 1950 1951 1952 1953 1954 1955 1956 1957 1958 1959 1960 1961 1962 1963 1964 1965 1966 1967 1968 1969 1970 1971 1972 1973 1974 1975 1976 1977 1978 1979 1980 1981 1982 1983 1984 1985 1986 1987 1988 1989 1990 1991 1992 1993 1994 1995 1996 1997 1998 1999 2000 2001 2002 2003 2004 2005 2006 2007 2008 2009 2010 2011 2012 2013 2014 2015 2016 2017 2018 2019 2020 2021 2022 2023 2024 2025 2026 2027 2028 2029 2030 2031 2032 2033 2034 2035 2036 2037 2038 2039 2040 2041 2042 2043 2044 2045 2046 2047 2048 2049 2050 2051 2052 2053 2054 2055 2056 2057 2058 2059 2060 2061 2062 2063 2064 2065 2066 2067 2068 2069 2070 2071 2072 2073 2074 2075 2076 2077 2078 2079 2080 2081 2082 2083 2084 2085 2086 2087 2088 2089 2090 2091 2092 2093 2094 2095 2096 2097 2098 2099 2100 2101 2102 2103 2104 2105 2106 2107 2108 2109 2110 2111 2112 2113 2114 2115 2116 2117 2118 2119 2120 2121 2122 2123 2124 2125 2126 2127 2128 2129 2130 2131 2132 2133 2134 2135 2136 2137 2138 2139 2140 2141 2142 2143 2144 2145 2146 2147 2148 2149 2150 2151 2152 2153 2154 2155 2156 2157 2158 2159 2160 2161 2162 2163 2164 2165 2166 2167 2168 2169 2170 2171 2172 2173 2174 2175 2176 2177 2178 2179 2180 2181 2182 2183 2184 2185 2186 2187 2188 2189 2190 2191 2192 2193 2194 2195 2196 2197 2198 2199 2200 2201 2202 2203 2204 2205 2206 2207 2208 2209 2210 2211 2212 2213 2214 2215 2216 2217 2218 2219 2220 2221 2222 2223 2224 2225 2226 2227 2228 2229 2230 2231 2232 2233 2234 2235 2236 2237 2238 2239 2240 2241 2242 2243 2244 2245 2246 2247 2248 2249 2250 2251 2252 2253 2254 2255 2256 2257 2258 2259 2260 2261 2262 2263 2264 2265 2266 2267 2268 2269 2270 2271 2272 2273 2274 2275 2276 2277 2278 2279 2280 2281 2282 2283 2284 2285 2286 2287 2288 2289 2290 2291 2292 2293 2294 2295 2296 2297 2298 2299 2300 2301 2302 2303 2304 2305 2306 2307 2308 2309 2310 2311 2312 2313 2314 2315 2316 2317 2318 2319 2320 2321 2322 2323 2324 2325 2326 2327 2328 2329 2330 2331 2332 2333 2334 2335 2336 2337 2338 2339 2340 2341 2342 2343 2344 2345 2346 2347 2348 2349 2350 2351 2352 2353 2354 2355 2356 2357 2358 2359 2360 2361 2362 2363 2364 2365 2366 2367 2368 2369 2370 2371 2372 2373 2374 2375 2376 2377 2378 2379 2380 2381 2382 2383 2384 2385 2386 2387 2388 2389 2390 2391 2392 2393 2394 2395 2396 2397 2398 2399 2400 2401 2402 2403 2404 2405 2406 2407 2408 2409 2410 2411 2412 2413 2414 2415 2416 2417 2418 2419 2420 2421 2422 2423 2424 2425 2426 2427 2428 2429 2430 2431 2432 2433 2434 2435 2436 2437 2438 2439 2440 2441 2442 2443 2444 2445 2446 2447 2448 2449 2450 2451 2452 2453 2454 2455 2456 2457 2458 2459 2460 2461 2462 2463 2464 2465 2466 2467 2468 2469 2470 2471 2472 2473 2474 2475 2476 2477 2478 2479 2480 2481 2482 2483 2484 2485 2486 2487 2488 2489 2490 2491 2492 2493 2494 2495 2496 2497 2498 2499 2500 2501 2502 2503 2504 2505 2506 2507 2508 2509 2510 2511 2512 2513 2514 2515 2516 2517 2518 2519 2520 2521 2522 2523 2524 2525 2526 2527 2528 2529 2530 2531 2532 2533 2534 2535 2536 2537 2538 2539 2540 2541 2542 2543 2544 2545 2546 2547 2548 2549 2550 2551 2552 2553 2554 2555 2556 2557 2558 2559 2560 2561 2562 2563 2564 2565 2566 2567 2568 2569 2570 2571 2572 2573 2574 2575 2576 2577 2578 2579 2580 2581 2582 2583 2584 2585 2586 2587 2588 2589 2590 2591 2592 2593 2594 2595 2596 2597 2598 2599 2600 2601 2602 2603 2604 2605 2606 2607 2608 2609 2610 2611 2612 2613 2614 2615 2616 2617 2618 2619 2620 2621 2622 2623 2624 2625 2626 2627 2628 2629 2630 2631 2632 2633 2634 2635 2636 2637 2638 2639 2640 2641 2642 2643 2644 2645 2646 2647 2648 2649 2650 2651 2652 2653 2654 2655 2656 2657 2658 2659 2660 2661 2662 2663 2664 2665 2666 2667 2668 2669 2670 2671 2672 2673 2674 2675 2676 2677 2678 2679 2680 2681 2682 2683 2684 2685 2686 2687 2688 2689 2690 2691 2692 2693 2694 2695 2696 2697 2698 2699 2700 2701 2702 2703 2704 2705 2706 2707 2708 2709 2710 2711 2712 2713 2714 2715 2716 2717 2718 2719 2720 2721 2722 2723 2724 2725 2726 2727 2728 2729 2730 2731 2732 2733 2734 2735 2736 2737 2738 2739 2740 2741 2742 2743 2744 2745 2746 2747 2748 2749 2750 2751 2752 2753 2754 2755 2756 2757 2758 2759 2760 2761 2762 2763 2764 2765 2766 2767 2768 2769 2770 2771 2772 2773 2774 2775 2776 2777 2778 2779 2780 2781 2782 2783 2784 2785 2786 2787 2788 2789 2790 2791 2792 2793 2794 2795 2796 2797 2798 2799 2800 2801 2802 2803 2804 2805 2806 2807 2808 2809 2810 2811 2812 2813 2814 2815 2816 2817 2818 2819 2820 2821 2822 2823 2824 2825 2826 2827 2828 2829 2830 2831 2832 2833 2834 2835 2836 2837 2838 2839 2840 2841 2842 2843 2844 2845 2846 2847 2848 2849 2850 2851 2852 2853 2854 2855 2856 2857 2858 2859 2860 2861 2862 2863 2864 2865 2866 2867 2868 2869 2870 2871 2872 2873 2874 2875 2876 2877 2878 2879 2880 2881 2882 2883 2884 2885 2886 2887 2888 2889 2890 2891 2892 2893 2894 2895 2896 2897 2898 2899 2900 2901 2902 2903 2904 2905 2906 2907 2908 2909 2910 2911 2912 2913 2914 2915 2916 2917 2918 2919 2920 2921 2922 2923 2924 2925 2926 2927 2928 2929 2930 2931 2932 2933 2934 2935 2936 2937 2938 2939 2940 2941 2942 2943 2944 2945 2946 2947 2948 2949 2950 2951 2952 2953 2954 2955 2956 2957 2958 2959 2960 2961 2962 2963 2964 2965 2966 2967 2968 2969 2970 2971 2972 2973 2974 2975 2976 2977 2978 2979 2980 2981 2982 2983 2984 2985 2986 2987 2988 2989 2990 2991 2992 2993 2994 2995 2996 2997 2998 2999 3000 3001 3002 3003 3004 3005 3006 3007 3008 3009 3010 3011 3012 3013 3014 3015 3016 3017 3018 3019 3020 3021 3022 3023 3024 3025 3026 3027 3028 3029 3030 3031 3032 3033 3034 3035 3036 3037 3038 3039 3040 3041 3042 3043 3044 3045 3046 3047 3048 3049 3050 3051 3052 3053 3054 3055 3056 3057 3058 3059 3060 3061 3062 3063 3064 3065 3066 3067 3068 3069 3070 3071 3072 3073 3074 3075 3076 3077 3078 3079 3080 3081 3082 3083 3084 3085 3086 3087 3088 3089 3090 3091 3092 3093 3094 3095 3096 3097 3098 3099 3100 3101 3102 3103 3104 3105 3106 3107 3108 3109 3110 3111 3112 3113 3114 3115 3116 3117 3118 3119 3120 3121 3122 3123 3124 3125 3126 3127 3128 3129 3130 3131 3132 3133 3134 3135 3136 3137 3138 3139 3140 3141 3142 3143 3144 3145 3146 3147 3148 3149 3150 3151 3152 3153 3154 3155 3156 3157 3158 3159 3160 3161 3162 3163 3164 3165 3166 3167 3168 3169 3170 3171 3172 3173 3174 3175 3176 3177 3178 3179 3180 3181 3182 3183 3184 3185 3186 3187 3188 3189 3190 3191 3192 3193 3194 3195 3196 3197 3198 3199 3200 3201 3202 3203 3204 3205 3206 3207 3208 3209 3210 3211 3212 3213 3214 3215 3216 3217 3218 3219 3220 3221 3222 3223 3224 3225 3226 3227 3228 3229 3230 3231 3232 3233 3234 3235 3236 3237 3238 3239 3240 3241 3242 3243 3244 3245 3246 3247 3248 3249 3250 3251 3252 3253 3254 3255 3256 3257 3258 3259 3260 3261 3262 3263 3264 3265 3266 3267 3268 3269 3270 3271 3272 3273 3274 3275 3276 3277 3278 3279 3280 3281 3282 3283 3284 3285 3286 3287 3288 3289 3290 3291 3292 3293 3294 3295 3296 3297 3298 3299 3300 3301 3302 3303 3304 3305 3306 3307 3308 3309 3310 3311 3312 3313 3314 3315 3316 3317 3318 3319 3320 3321 3322 3323 3324 3325 3326 3327 3328 3329 3330 3331 3332 3333 3334 3335 3336 3337 3338 3339 3340 3341 3342 3343 3344 3345 3346 3347 3348 3349 3350 3351 3352 3353 3354 3355 3356 3357 3358 3359 3360 3361 3362 3363 3364 3365 3366 3367 3368 3369 3370 3371 3372 3373 3374 3375 3376 3377 3378 3379 3380 3381 3382 3383 3384 3385 3386 3387 3388 3389 3390 3391 3392 3393 3394 3395 3396 3397 3398 3399 3400 3401 3402 3403 3404 3405 3406 3407 3408 3409 3410 3411 3412 3413 3414 3415 3416 3417 3418 3419 3420 3421 3422 3423 3424 3425 3426 3427 3428 3429 3430 3431 3432 3433 3434 3435 3436 3437 3438 3439 3440 3441 3442 3443 3444 3445 3446 3447 3448 3449 3450 3451 3452 3453 3454 3455 3456 3457 3458 3459 3460 3461 3462 3463 3464 3465 3466 3467 3468 3469 3470 3471 3472 3473 3474 3475 3476 3477 3478 3479 3480 3481 3482 3483 3484 3485 3486 3487 3488 3489 3490 3491 3492 3493 3494 3495 3496 3497 3498 3499 3500 "
     ]
    },
    {
     "name": "stdout",
     "output_type": "stream",
     "text": [
      "3501 3502 3503 3504 3505 3506 3507 3508 3509 3510 3511 3512 3513 3514 3515 3516 3517 3518 3519 3520 3521 3522 3523 3524 3525 3526 3527 3528 3529 3530 3531 3532 3533 3534 3535 3536 3537 3538 3539 3540 3541 3542 3543 3544 3545 3546 3547 3548 3549 3550 3551 3552 3553 3554 3555 3556 3557 3558 3559 3560 3561 3562 3563 3564 3565 3566 3567 3568 3569 3570 3571 3572 3573 3574 3575 3576 3577 3578 3579 3580 3581 3582 3583 3584 3585 3586 3587 3588 3589 3590 3591 3592 3593 3594 3595 3596 3597 3598 3599 3600 3601 3602 3603 3604 3605 3606 3607 3608 3609 3610 3611 3612 3613 3614 3615 3616 3617 3618 3619 3620 3621 3622 3623 3624 3625 3626 3627 3628 3629 3630 3631 3632 3633 3634 3635 3636 3637 3638 3639 3640 3641 3642 3643 3644 3645 3646 3647 3648 3649 3650 3651 3652 3653 3654 3655 3656 3657 3658 3659 3660 3661 3662 3663 3664 3665 3666 3667 3668 3669 3670 3671 3672 3673 3674 3675 3676 3677 3678 3679 3680 3681 3682 3683 3684 3685 3686 3687 3688 3689 3690 3691 3692 3693 3694 3695 3696 3697 3698 3699 3700 3701 3702 3703 3704 3705 3706 3707 3708 3709 3710 3711 3712 3713 3714 3715 3716 3717 3718 3719 3720 3721 3722 3723 3724 3725 3726 3727 3728 3729 3730 3731 3732 3733 3734 3735 3736 3737 3738 3739 3740 3741 3742 3743 3744 3745 3746 3747 3748 3749 3750 3751 3752 3753 3754 3755 3756 3757 3758 3759 3760 3761 3762 3763 3764 3765 3766 3767 3768 3769 3770 3771 3772 3773 3774 3775 3776 3777 3778 3779 3780 3781 3782 3783 3784 3785 3786 3787 3788 3789 3790 3791 3792 3793 3794 3795 3796 3797 3798 3799 3800 3801 3802 3803 3804 3805 3806 3807 3808 3809 3810 3811 3812 3813 3814 3815 3816 3817 3818 3819 3820 3821 3822 3823 3824 3825 3826 3827 3828 3829 3830 3831 3832 3833 3834 3835 3836 3837 3838 3839 3840 3841 3842 3843 3844 3845 3846 3847 3848 3849 3850 3851 3852 3853 3854 3855 3856 3857 3858 3859 3860 3861 3862 3863 3864 3865 3866 3867 3868 3869 3870 3871 3872 3873 3874 3875 3876 3877 3878 3879 3880 3881 3882 3883 3884 3885 3886 3887 3888 3889 3890 3891 3892 3893 3894 3895 3896 3897 3898 3899 3900 3901 3902 3903 3904 3905 3906 3907 3908 3909 3910 3911 3912 3913 3914 3915 3916 3917 3918 3919 3920 3921 3922 3923 3924 3925 3926 3927 3928 3929 3930 3931 3932 3933 3934 3935 3936 3937 3938 3939 3940 3941 3942 3943 3944 3945 3946 3947 3948 3949 3950 3951 3952 3953 3954 3955 3956 3957 3958 3959 3960 3961 3962 3963 3964 3965 3966 3967 3968 3969 3970 3971 3972 3973 3974 3975 3976 3977 3978 3979 3980 3981 3982 3983 3984 3985 3986 3987 3988 3989 3990 3991 3992 3993 3994 3995 3996 3997 3998 3999 4000 4001 4002 4003 4004 4005 4006 4007 4008 4009 4010 4011 4012 4013 4014 4015 4016 4017 4018 4019 4020 4021 4022 4023 4024 4025 4026 4027 4028 4029 4030 4031 4032 4033 4034 4035 4036 4037 4038 4039 4040 4041 4042 4043 4044 4045 4046 4047 4048 4049 4050 4051 4052 4053 4054 4055 4056 4057 4058 4059 4060 4061 4062 4063 4064 4065 4066 4067 4068 4069 4070 4071 4072 4073 4074 4075 4076 4077 4078 4079 4080 4081 4082 4083 4084 4085 4086 4087 4088 4089 4090 4091 4092 4093 4094 4095 4096 4097 4098 4099 4100 4101 4102 4103 4104 4105 4106 4107 4108 4109 4110 4111 4112 4113 4114 4115 4116 4117 4118 4119 4120 4121 4122 4123 4124 4125 4126 4127 4128 4129 4130 4131 4132 4133 4134 4135 4136 4137 4138 4139 4140 4141 4142 4143 4144 4145 4146 4147 4148 4149 4150 4151 4152 4153 4154 4155 4156 4157 4158 4159 4160 4161 4162 4163 4164 4165 4166 4167 4168 4169 4170 4171 4172 4173 4174 4175 4176 4177 4178 4179 4180 4181 4182 4183 4184 4185 4186 4187 4188 4189 4190 4191 4192 4193 4194 4195 4196 4197 4198 4199 4200 4201 4202 4203 4204 4205 4206 4207 4208 4209 4210 4211 4212 4213 4214 4215 4216 4217 4218 4219 4220 4221 4222 4223 4224 4225 4226 4227 4228 4229 4230 4231 4232 4233 4234 4235 4236 4237 4238 4239 4240 4241 4242 4243 4244 4245 4246 4247 4248 4249 4250 4251 4252 4253 4254 4255 4256 4257 4258 4259 4260 4261 4262 4263 4264 4265 4266 4267 4268 4269 4270 4271 4272 4273 4274 4275 4276 4277 4278 4279 4280 4281 4282 4283 4284 4285 4286 4287 4288 4289 4290 4291 4292 4293 4294 4295 4296 4297 4298 4299 4300 4301 4302 4303 4304 4305 4306 4307 4308 4309 4310 4311 4312 4313 4314 4315 4316 4317 4318 4319 4320 4321 4322 4323 4324 4325 4326 4327 4328 4329 4330 4331 4332 4333 4334 4335 4336 4337 4338 4339 4340 4341 4342 4343 4344 4345 4346 4347 4348 4349 4350 4351 4352 4353 4354 4355 4356 4357 4358 4359 4360 4361 4362 4363 4364 4365 4366 4367 4368 4369 4370 4371 4372 4373 4374 4375 4376 4377 4378 4379 4380 4381 4382 4383 4384 4385 4386 4387 4388 4389 4390 4391 4392 4393 4394 4395 4396 4397 4398 4399 4400 4401 4402 4403 4404 4405 4406 4407 4408 4409 4410 4411 4412 4413 4414 4415 4416 4417 4418 4419 4420 4421 4422 4423 4424 4425 4426 4427 4428 4429 4430 4431 4432 4433 4434 4435 4436 4437 4438 4439 4440 4441 4442 4443 4444 4445 4446 4447 4448 4449 4450 4451 4452 4453 4454 4455 4456 4457 4458 4459 4460 4461 4462 4463 4464 4465 4466 4467 4468 4469 4470 4471 4472 4473 4474 4475 4476 4477 4478 4479 4480 4481 4482 4483 4484 4485 4486 4487 4488 4489 4490 4491 4492 4493 4494 4495 4496 4497 4498 4499 4500 4501 4502 4503 4504 4505 4506 4507 4508 4509 4510 4511 4512 4513 4514 4515 4516 4517 4518 4519 4520 4521 4522 4523 4524 4525 4526 4527 4528 4529 4530 4531 4532 4533 4534 4535 4536 4537 4538 4539 4540 4541 4542 4543 4544 4545 4546 4547 4548 4549 4550 4551 4552 4553 4554 4555 4556 4557 4558 4559 4560 4561 4562 4563 4564 4565 4566 4567 4568 4569 4570 4571 4572 4573 4574 4575 4576 4577 4578 4579 4580 4581 4582 4583 4584 4585 4586 4587 4588 4589 4590 4591 4592 4593 4594 4595 4596 4597 4598 4599 4600 4601 4602 4603 4604 4605 4606 4607 4608 4609 4610 4611 4612 4613 4614 4615 4616 4617 4618 4619 4620 4621 4622 4623 4624 4625 4626 4627 4628 4629 4630 4631 4632 4633 4634 4635 4636 4637 4638 4639 4640 4641 4642 4643 4644 4645 4646 4647 4648 4649 4650 4651 4652 4653 4654 4655 4656 4657 4658 4659 4660 4661 4662 4663 4664 4665 4666 4667 4668 4669 4670 4671 4672 4673 4674 4675 4676 4677 4678 4679 4680 4681 4682 4683 4684 4685 4686 4687 4688 4689 4690 4691 4692 4693 4694 4695 4696 4697 4698 4699 4700 4701 4702 4703 4704 4705 4706 4707 4708 4709 4710 4711 4712 4713 4714 4715 4716 4717 4718 4719 4720 4721 4722 4723 4724 4725 4726 4727 4728 4729 4730 4731 4732 4733 4734 4735 4736 4737 4738 4739 4740 4741 4742 4743 4744 4745 4746 4747 4748 4749 4750 4751 4752 4753 4754 4755 4756 4757 4758 4759 4760 4761 4762 4763 4764 4765 4766 4767 4768 4769 4770 4771 4772 4773 4774 4775 4776 4777 4778 4779 4780 4781 4782 4783 4784 4785 4786 4787 4788 4789 4790 4791 4792 4793 4794 4795 4796 4797 4798 4799 4800 4801 4802 4803 4804 4805 4806 4807 4808 4809 4810 4811 4812 4813 4814 4815 4816 4817 4818 4819 4820 4821 4822 4823 4824 4825 4826 4827 4828 4829 4830 4831 4832 4833 4834 4835 4836 4837 4838 4839 4840 4841 4842 4843 4844 4845 4846 4847 4848 4849 4850 4851 4852 4853 4854 4855 4856 4857 4858 4859 4860 4861 4862 4863 4864 4865 4866 4867 4868 4869 4870 4871 4872 4873 4874 4875 4876 4877 4878 4879 4880 4881 4882 4883 4884 4885 4886 4887 4888 4889 4890 4891 4892 4893 4894 4895 4896 4897 4898 4899 4900 4901 4902 4903 4904 4905 4906 4907 4908 4909 4910 4911 4912 4913 4914 4915 4916 4917 4918 4919 4920 4921 4922 4923 4924 4925 4926 4927 4928 4929 4930 4931 4932 4933 4934 4935 4936 4937 4938 4939 4940 4941 4942 4943 4944 4945 4946 4947 4948 4949 4950 4951 4952 4953 4954 4955 4956 4957 4958 4959 4960 4961 4962 4963 4964 4965 4966 4967 4968 4969 4970 4971 4972 4973 4974 4975 4976 4977 4978 4979 4980 4981 4982 4983 4984 4985 4986 4987 4988 4989 4990 4991 4992 4993 4994 4995 4996 4997 4998 4999 5000 5001 5002 5003 5004 5005 5006 5007 5008 5009 5010 5011 5012 5013 5014 5015 5016 5017 5018 5019 5020 5021 5022 5023 5024 5025 5026 5027 5028 5029 5030 5031 5032 5033 5034 5035 5036 5037 5038 5039 5040 5041 5042 5043 5044 5045 5046 5047 5048 5049 5050 5051 5052 5053 5054 5055 5056 5057 5058 5059 5060 5061 5062 5063 5064 5065 5066 5067 5068 5069 5070 5071 5072 5073 5074 5075 5076 5077 5078 5079 5080 5081 5082 5083 5084 5085 5086 5087 5088 5089 5090 5091 5092 5093 5094 5095 5096 5097 5098 5099 5100 5101 5102 5103 5104 5105 5106 5107 5108 5109 5110 5111 5112 5113 5114 5115 5116 5117 5118 5119 5120 5121 5122 5123 5124 5125 5126 5127 5128 5129 5130 5131 5132 5133 5134 5135 5136 5137 5138 5139 5140 5141 "
     ]
    },
    {
     "name": "stdout",
     "output_type": "stream",
     "text": [
      "5142 5143 5144 5145 5146 5147 5148 5149 5150 5151 5152 5153 5154 5155 5156 5157 5158 5159 5160 5161 5162 5163 5164 5165 5166 5167 5168 5169 5170 5171 5172 5173 5174 5175 5176 5177 5178 5179 5180 5181 5182 5183 5184 5185 5186 5187 5188 5189 5190 5191 5192 5193 5194 5195 5196 5197 5198 5199 5200 5201 5202 5203 5204 5205 5206 5207 5208 5209 5210 5211 5212 5213 5214 5215 5216 5217 5218 5219 5220 5221 5222 5223 5224 5225 5226 5227 5228 5229 5230 5231 5232 5233 5234 5235 5236 5237 5238 5239 5240 5241 5242 5243 5244 5245 5246 5247 5248 5249 5250 5251 5252 5253 5254 5255 5256 5257 5258 5259 5260 5261 5262 5263 5264 5265 5266 5267 5268 5269 5270 5271 5272 5273 5274 5275 5276 5277 5278 5279 5280 5281 5282 5283 5284 5285 5286 5287 5288 5289 5290 5291 5292 5293 5294 5295 5296 5297 5298 5299 5300 5301 5302 5303 5304 5305 5306 5307 5308 5309 5310 5311 5312 5313 5314 5315 5316 5317 5318 5319 5320 5321 5322 5323 5324 5325 5326 5327 5328 5329 5330 5331 5332 5333 5334 5335 5336 5337 5338 5339 5340 5341 5342 5343 5344 5345 5346 5347 5348 5349 5350 5351 5352 5353 5354 5355 5356 5357 5358 5359 5360 5361 5362 5363 5364 5365 5366 5367 5368 5369 5370 5371 5372 5373 5374 5375 5376 5377 5378 5379 5380 5381 5382 5383 5384 5385 5386 5387 5388 5389 5390 5391 5392 5393 5394 5395 5396 5397 5398 5399 5400 5401 5402 5403 5404 5405 5406 5407 5408 5409 5410 5411 5412 5413 5414 5415 5416 5417 5418 5419 5420 5421 5422 5423 5424 5425 5426 5427 5428 5429 5430 5431 5432 5433 5434 5435 5436 5437 5438 5439 5440 5441 5442 5443 5444 5445 5446 5447 5448 5449 5450 5451 5452 5453 5454 5455 5456 5457 5458 5459 5460 5461 5462 5463 5464 5465 5466 5467 5468 5469 5470 5471 5472 5473 5474 5475 5476 5477 5478 5479 5480 5481 5482 5483 5484 5485 5486 5487 5488 5489 5490 5491 5492 5493 5494 5495 5496 5497 5498 5499 5500 5501 5502 5503 5504 5505 5506 5507 5508 5509 5510 5511 5512 5513 5514 5515 5516 5517 5518 5519 5520 5521 5522 5523 5524 5525 5526 5527 5528 5529 5530 5531 5532 5533 5534 5535 5536 5537 5538 5539 5540 5541 5542 5543 5544 5545 5546 5547 5548 5549 5550 5551 5552 5553 5554 5555 5556 5557 5558 5559 5560 5561 5562 5563 5564 5565 5566 5567 5568 5569 5570 5571 5572 5573 5574 5575 5576 5577 5578 5579 5580 5581 5582 5583 5584 5585 5586 5587 5588 5589 5590 5591 5592 5593 5594 5595 5596 5597 5598 5599 5600 5601 5602 5603 5604 5605 5606 5607 5608 5609 5610 5611 5612 5613 5614 5615 5616 5617 5618 5619 5620 5621 5622 5623 5624 5625 5626 5627 5628 5629 5630 5631 5632 5633 5634 5635 5636 5637 5638 5639 5640 5641 5642 5643 5644 5645 5646 5647 5648 5649 5650 5651 5652 5653 5654 5655 5656 5657 5658 5659 5660 5661 5662 5663 5664 5665 5666 5667 5668 5669 5670 5671 5672 5673 5674 5675 5676 5677 5678 5679 5680 5681 5682 5683 5684 5685 5686 5687 5688 5689 5690 5691 5692 5693 5694 5695 5696 5697 5698 5699 5700 5701 5702 5703 5704 5705 5706 5707 5708 5709 5710 5711 5712 5713 5714 5715 5716 5717 5718 5719 5720 5721 5722 5723 5724 5725 5726 5727 5728 5729 5730 5731 5732 5733 5734 5735 5736 5737 5738 5739 5740 5741 5742 5743 5744 5745 5746 5747 5748 5749 5750 5751 5752 5753 5754 5755 5756 5757 5758 5759 5760 5761 5762 5763 5764 5765 5766 5767 5768 5769 5770 5771 5772 5773 5774 5775 5776 5777 5778 5779 5780 5781 5782 5783 5784 5785 5786 5787 5788 5789 5790 5791 5792 5793 5794 5795 5796 5797 5798 5799 5800 5801 5802 5803 5804 5805 5806 5807 5808 5809 5810 5811 5812 5813 5814 5815 5816 5817 5818 5819 5820 5821 5822 5823 5824 5825 5826 5827 5828 5829 5830 5831 5832 5833 5834 5835 5836 5837 5838 5839 5840 5841 5842 5843 5844 5845 5846 5847 5848 5849 5850 5851 5852 5853 5854 5855 5856 5857 5858 5859 5860 5861 5862 5863 5864 5865 5866 5867 5868 5869 5870 5871 5872 5873 5874 5875 5876 5877 5878 5879 5880 5881 5882 5883 5884 5885 5886 5887 5888 5889 5890 5891 5892 5893 5894 5895 5896 5897 5898 5899 5900 5901 5902 5903 5904 5905 5906 5907 5908 5909 5910 5911 5912 5913 5914 5915 5916 5917 5918 5919 5920 5921 5922 5923 5924 5925 5926 5927 5928 5929 5930 5931 5932 5933 5934 5935 5936 5937 5938 5939 5940 5941 5942 5943 5944 5945 5946 5947 5948 5949 5950 5951 5952 5953 5954 5955 5956 5957 5958 5959 5960 5961 5962 5963 5964 5965 5966 5967 5968 5969 5970 5971 5972 5973 5974 5975 5976 5977 5978 5979 5980 5981 5982 5983 5984 5985 5986 5987 5988 5989 5990 5991 5992 5993 5994 5995 5996 5997 5998 5999 6000 6001 6002 6003 6004 6005 6006 6007 6008 6009 6010 6011 6012 6013 6014 6015 6016 6017 6018 6019 6020 6021 6022 6023 6024 6025 6026 6027 6028 6029 6030 6031 6032 6033 6034 6035 6036 6037 6038 6039 6040 6041 6042 6043 6044 6045 6046 6047 6048 6049 6050 6051 6052 6053 6054 6055 6056 6057 6058 6059 6060 6061 6062 6063 6064 6065 6066 6067 6068 6069 6070 6071 6072 6073 6074 6075 6076 6077 6078 6079 6080 6081 6082 6083 6084 6085 6086 6087 6088 6089 6090 6091 6092 6093 6094 6095 6096 6097 6098 6099 6100 6101 6102 6103 6104 6105 6106 6107 6108 6109 6110 6111 6112 6113 6114 6115 6116 6117 6118 6119 6120 6121 6122 6123 6124 6125 6126 6127 6128 6129 6130 6131 6132 6133 6134 6135 6136 6137 6138 6139 6140 6141 6142 6143 6144 6145 6146 6147 6148 6149 6150 6151 6152 6153 6154 6155 6156 6157 6158 6159 6160 6161 6162 6163 6164 6165 6166 6167 6168 6169 6170 6171 6172 6173 6174 6175 6176 6177 6178 6179 6180 6181 6182 6183 6184 6185 6186 6187 6188 6189 6190 6191 6192 6193 6194 6195 6196 6197 6198 6199 6200 6201 6202 6203 6204 6205 6206 6207 6208 6209 6210 6211 6212 6213 6214 6215 6216 6217 6218 6219 6220 6221 6222 6223 6224 6225 6226 6227 6228 6229 6230 6231 6232 6233 6234 6235 6236 6237 6238 6239 6240 6241 6242 6243 6244 6245 6246 6247 6248 6249 6250 6251 6252 6253 6254 6255 6256 6257 6258 6259 6260 6261 6262 6263 6264 6265 6266 6267 6268 6269 6270 6271 6272 6273 6274 6275 6276 6277 6278 6279 6280 6281 6282 6283 6284 6285 6286 6287 6288 6289 6290 6291 6292 6293 6294 6295 6296 6297 6298 6299 6300 6301 6302 6303 6304 6305 6306 6307 6308 6309 6310 6311 6312 6313 6314 6315 6316 6317 6318 6319 6320 6321 6322 6323 6324 6325 6326 6327 6328 6329 6330 6331 6332 6333 6334 6335 6336 6337 6338 6339 6340 6341 6342 6343 6344 6345 6346 6347 6348 6349 6350 6351 6352 6353 6354 6355 6356 6357 6358 6359 6360 6361 6362 6363 6364 6365 6366 6367 6368 6369 6370 6371 6372 6373 6374 6375 6376 6377 6378 6379 6380 6381 6382 6383 6384 6385 6386 6387 6388 6389 6390 6391 6392 6393 6394 6395 6396 6397 6398 6399 6400 6401 6402 6403 6404 6405 6406 6407 6408 6409 6410 6411 6412 6413 6414 6415 6416 6417 6418 6419 6420 6421 6422 6423 6424 6425 6426 6427 6428 6429 6430 6431 6432 6433 6434 6435 6436 6437 6438 6439 6440 6441 6442 6443 6444 6445 6446 6447 6448 6449 6450 6451 6452 6453 6454 6455 6456 6457 6458 6459 6460 6461 6462 6463 6464 6465 6466 6467 6468 6469 6470 6471 6472 6473 6474 6475 6476 6477 6478 6479 6480 6481 6482 6483 6484 6485 6486 6487 6488 6489 6490 6491 6492 6493 6494 6495 6496 6497 6498 6499 6500 6501 6502 6503 6504 6505 6506 6507 6508 6509 6510 6511 6512 6513 6514 6515 6516 6517 6518 6519 6520 6521 6522 6523 6524 6525 6526 6527 6528 6529 6530 6531 6532 6533 6534 6535 6536 6537 6538 6539 6540 6541 6542 6543 6544 6545 6546 6547 6548 6549 6550 6551 6552 6553 6554 6555 6556 6557 6558 6559 6560 6561 6562 6563 6564 6565 6566 6567 6568 6569 6570 6571 6572 6573 6574 6575 6576 6577 6578 6579 6580 6581 6582 6583 6584 6585 6586 6587 6588 6589 6590 6591 6592 6593 6594 6595 6596 6597 6598 6599 6600 6601 6602 6603 6604 6605 6606 6607 6608 6609 6610 6611 6612 6613 6614 6615 6616 6617 6618 6619 6620 6621 6622 6623 6624 6625 6626 6627 6628 6629 6630 6631 6632 6633 6634 6635 6636 6637 6638 6639 6640 6641 6642 6643 6644 6645 6646 6647 6648 6649 6650 6651 6652 6653 6654 6655 6656 6657 6658 6659 6660 6661 6662 6663 6664 6665 6666 6667 6668 6669 6670 6671 6672 6673 6674 6675 6676 6677 6678 6679 6680 6681 6682 6683 6684 6685 6686 6687 6688 6689 6690 6691 6692 6693 6694 6695 6696 6697 6698 6699 6700 6701 6702 6703 6704 6705 6706 6707 6708 6709 6710 6711 6712 6713 6714 6715 6716 6717 6718 6719 6720 6721 6722 6723 6724 6725 6726 6727 6728 6729 6730 6731 6732 6733 6734 6735 6736 6737 6738 6739 6740 6741 6742 6743 6744 6745 6746 6747 6748 6749 6750 6751 6752 6753 6754 6755 6756 6757 6758 6759 6760 6761 6762 6763 6764 6765 6766 6767 6768 6769 6770 6771 6772 6773 6774 6775 6776 6777 6778 6779 6780 6781 6782 "
     ]
    },
    {
     "name": "stdout",
     "output_type": "stream",
     "text": [
      "6783 6784 6785 6786 6787 6788 6789 6790 6791 6792 6793 6794 6795 6796 6797 6798 6799 6800 6801 6802 6803 6804 6805 6806 6807 6808 6809 6810 6811 6812 6813 6814 6815 6816 6817 6818 6819 6820 6821 6822 6823 6824 6825 6826 6827 6828 6829 6830 6831 6832 6833 6834 6835 6836 6837 6838 6839 6840 6841 6842 6843 6844 6845 6846 6847 6848 6849 6850 6851 6852 6853 6854 6855 6856 6857 6858 6859 6860 6861 6862 6863 6864 6865 6866 6867 6868 6869 6870 6871 6872 6873 6874 6875 6876 6877 6878 6879 6880 6881 6882 6883 6884 6885 6886 6887 6888 6889 6890 6891 6892 6893 6894 6895 6896 6897 6898 6899 6900 6901 6902 6903 6904 6905 6906 6907 6908 6909 6910 6911 6912 6913 6914 6915 6916 6917 6918 6919 6920 6921 6922 6923 6924 6925 6926 6927 6928 6929 6930 6931 6932 6933 6934 6935 6936 6937 6938 6939 6940 6941 6942 6943 6944 6945 6946 6947 6948 6949 6950 6951 6952 6953 6954 6955 6956 6957 6958 6959 6960 6961 6962 6963 6964 6965 6966 6967 6968 6969 6970 6971 6972 6973 6974 6975 6976 6977 6978 6979 6980 6981 6982 6983 6984 6985 6986 6987 6988 6989 6990 6991 6992 6993 6994 6995 6996 6997 6998 6999 7000 7001 7002 7003 7004 7005 7006 7007 7008 7009 7010 7011 7012 7013 7014 7015 7016 7017 7018 7019 7020 7021 7022 7023 7024 7025 7026 7027 7028 7029 7030 7031 7032 7033 7034 7035 7036 7037 7038 7039 7040 7041 7042 7043 7044 7045 7046 7047 7048 7049 7050 7051 7052 7053 7054 7055 7056 7057 7058 7059 7060 7061 7062 7063 7064 7065 7066 7067 7068 7069 7070 7071 7072 7073 7074 7075 7076 7077 7078 7079 7080 7081 7082 7083 7084 7085 7086 7087 7088 7089 7090 7091 7092 7093 7094 7095 7096 7097 7098 7099 7100 7101 7102 7103 7104 7105 7106 7107 7108 7109 7110 7111 7112 7113 7114 7115 7116 7117 7118 7119 7120 7121 7122 7123 7124 7125 7126 7127 7128 7129 7130 7131 7132 7133 7134 7135 7136 7137 7138 7139 7140 7141 7142 7143 7144 7145 7146 7147 7148 7149 7150 7151 7152 7153 7154 7155 7156 7157 7158 7159 7160 7161 7162 7163 7164 7165 7166 7167 7168 7169 7170 7171 7172 7173 7174 7175 7176 7177 7178 7179 7180 7181 7182 7183 7184 7185 7186 7187 7188 7189 7190 7191 7192 7193 7194 7195 7196 7197 7198 7199 7200 7201 7202 7203 7204 7205 7206 7207 7208 7209 7210 7211 7212 7213 7214 7215 7216 7217 7218 7219 7220 7221 7222 7223 7224 7225 7226 7227 7228 7229 7230 7231 7232 7233 7234 7235 7236 7237 7238 7239 7240 7241 7242 7243 7244 7245 7246 7247 7248 7249 7250 7251 7252 7253 7254 7255 7256 7257 7258 7259 7260 7261 7262 7263 7264 7265 7266 7267 7268 7269 7270 7271 7272 7273 7274 7275 7276 7277 7278 7279 7280 7281 7282 7283 7284 7285 7286 7287 7288 7289 7290 7291 7292 7293 7294 7295 7296 7297 7298 7299 7300 7301 7302 7303 7304 7305 7306 7307 7308 7309 7310 7311 7312 7313 7314 7315 7316 7317 7318 7319 7320 7321 7322 7323 7324 7325 7326 7327 7328 7329 7330 7331 7332 7333 7334 7335 7336 7337 7338 7339 7340 7341 7342 7343 7344 7345 7346 7347 7348 7349 7350 7351 7352 7353 7354 7355 7356 7357 7358 7359 7360 7361 7362 7363 7364 7365 7366 7367 7368 7369 7370 7371 7372 7373 7374 7375 7376 7377 7378 7379 7380 7381 7382 7383 7384 7385 7386 7387 7388 7389 7390 7391 7392 7393 7394 7395 7396 7397 7398 7399 7400 7401 7402 7403 7404 7405 7406 7407 7408 7409 7410 7411 7412 7413 7414 7415 7416 7417 7418 7419 7420 7421 7422 7423 7424 7425 7426 7427 7428 7429 7430 7431 7432 7433 7434 7435 7436 7437 7438 7439 7440 7441 7442 7443 7444 7445 7446 7447 7448 7449 7450 7451 7452 7453 7454 7455 7456 7457 7458 7459 7460 7461 7462 7463 7464 7465 7466 7467 7468 7469 7470 7471 7472 7473 7474 7475 7476 7477 7478 7479 7480 7481 7482 7483 7484 7485 7486 7487 7488 7489 7490 7491 7492 7493 7494 7495 7496 7497 7498 7499 7500 7501 7502 7503 7504 7505 7506 7507 7508 7509 7510 7511 7512 7513 7514 7515 7516 7517 7518 7519 7520 7521 7522 7523 7524 7525 7526 7527 7528 7529 7530 7531 7532 7533 7534 7535 7536 7537 7538 7539 7540 7541 7542 7543 7544 7545 7546 7547 7548 7549 7550 7551 7552 7553 7554 7555 7556 7557 7558 7559 7560 7561 7562 7563 7564 7565 7566 7567 7568 7569 7570 7571 7572 7573 7574 7575 7576 7577 7578 7579 7580 7581 7582 7583 7584 7585 7586 7587 7588 7589 7590 7591 7592 7593 7594 7595 7596 7597 7598 7599 7600 7601 7602 7603 7604 7605 7606 7607 7608 7609 7610 7611 7612 7613 7614 7615 7616 7617 7618 7619 7620 7621 7622 7623 7624 7625 7626 7627 7628 7629 7630 7631 7632 7633 7634 7635 7636 7637 7638 7639 7640 7641 7642 7643 7644 7645 7646 7647 7648 7649 7650 7651 7652 7653 7654 7655 7656 7657 7658 7659 7660 7661 7662 7663 7664 7665 7666 7667 7668 7669 7670 7671 7672 7673 7674 7675 7676 7677 7678 7679 7680 7681 7682 7683 7684 7685 7686 7687 7688 7689 7690 7691 7692 7693 7694 7695 7696 7697 7698 7699 7700 7701 7702 7703 7704 7705 7706 7707 7708 7709 7710 7711 7712 7713 7714 7715 7716 7717 7718 7719 7720 7721 7722 7723 7724 7725 7726 7727 7728 7729 7730 7731 7732 7733 7734 7735 7736 7737 7738 7739 7740 7741 7742 7743 7744 7745 7746 7747 7748 7749 7750 7751 7752 7753 7754 7755 7756 7757 7758 7759 7760 7761 7762 7763 7764 7765 7766 7767 7768 7769 7770 7771 7772 7773 7774 7775 7776 7777 7778 7779 7780 7781 7782 7783 7784 7785 7786 7787 7788 7789 7790 7791 7792 7793 7794 7795 7796 7797 7798 7799 7800 7801 7802 7803 7804 7805 7806 7807 7808 7809 7810 7811 7812 7813 7814 7815 7816 7817 7818 7819 7820 7821 7822 7823 7824 7825 7826 7827 7828 7829 7830 7831 7832 7833 7834 7835 7836 7837 7838 7839 7840 7841 7842 7843 7844 7845 7846 7847 7848 7849 7850 7851 7852 7853 7854 7855 7856 7857 7858 7859 7860 7861 7862 7863 7864 7865 7866 7867 7868 7869 7870 7871 7872 7873 7874 7875 7876 7877 7878 7879 7880 7881 7882 7883 7884 7885 7886 7887 7888 7889 7890 7891 7892 7893 7894 7895 7896 7897 7898 7899 7900 7901 7902 7903 7904 7905 7906 7907 7908 7909 7910 7911 7912 7913 7914 7915 7916 7917 7918 7919 7920 7921 7922 7923 7924 7925 7926 7927 7928 7929 7930 7931 7932 7933 7934 7935 7936 7937 7938 7939 7940 7941 7942 7943 7944 7945 7946 7947 7948 7949 7950 7951 7952 7953 7954 7955 7956 7957 7958 7959 7960 7961 7962 7963 7964 7965 7966 7967 7968 7969 7970 7971 7972 7973 7974 7975 7976 7977 7978 7979 7980 7981 7982 7983 7984 7985 7986 7987 7988 7989 7990 7991 7992 7993 7994 7995 7996 7997 7998 7999 8000 8001 8002 8003 8004 8005 8006 8007 8008 8009 8010 8011 8012 8013 8014 8015 8016 8017 8018 8019 8020 8021 8022 8023 8024 8025 8026 8027 8028 8029 8030 8031 8032 8033 8034 8035 8036 8037 8038 8039 8040 8041 8042 8043 8044 8045 8046 8047 8048 8049 8050 8051 8052 8053 8054 8055 8056 8057 8058 8059 8060 8061 8062 8063 8064 8065 8066 8067 8068 8069 8070 8071 8072 8073 8074 8075 8076 8077 8078 8079 8080 8081 8082 8083 8084 8085 8086 8087 8088 8089 8090 8091 8092 8093 8094 8095 8096 8097 8098 8099 8100 8101 8102 8103 8104 8105 8106 8107 8108 8109 8110 8111 8112 8113 8114 8115 8116 8117 8118 8119 8120 8121 8122 8123 8124 8125 8126 8127 8128 8129 8130 8131 8132 8133 8134 8135 8136 8137 8138 8139 8140 8141 8142 8143 8144 8145 8146 8147 8148 8149 8150 8151 8152 8153 8154 8155 8156 8157 8158 8159 8160 8161 8162 8163 8164 8165 8166 8167 8168 8169 8170 8171 8172 8173 8174 8175 8176 8177 8178 8179 8180 8181 8182 8183 8184 8185 8186 8187 8188 8189 8190 8191 8192 8193 8194 8195 8196 8197 8198 8199 8200 8201 8202 8203 8204 8205 8206 8207 8208 8209 8210 8211 8212 8213 8214 8215 8216 8217 8218 8219 8220 8221 8222 8223 8224 8225 8226 8227 8228 8229 8230 8231 8232 8233 8234 8235 8236 8237 8238 8239 8240 8241 8242 8243 8244 8245 8246 8247 8248 8249 8250 8251 8252 8253 8254 8255 8256 8257 8258 8259 8260 8261 8262 8263 8264 8265 8266 8267 8268 8269 8270 8271 8272 8273 8274 8275 8276 8277 8278 8279 8280 8281 8282 8283 8284 8285 8286 8287 8288 8289 8290 8291 8292 8293 8294 8295 8296 8297 8298 8299 8300 8301 8302 8303 8304 8305 8306 8307 8308 8309 8310 8311 8312 8313 8314 8315 8316 8317 8318 8319 8320 8321 8322 8323 8324 8325 8326 8327 8328 8329 8330 8331 8332 8333 8334 8335 8336 8337 8338 8339 8340 8341 8342 8343 8344 8345 8346 8347 8348 8349 8350 8351 8352 8353 8354 8355 8356 8357 8358 8359 8360 8361 8362 8363 8364 8365 8366 8367 8368 8369 8370 8371 8372 8373 8374 8375 8376 8377 8378 8379 8380 8381 8382 8383 8384 8385 8386 8387 8388 8389 8390 8391 8392 8393 8394 8395 8396 8397 8398 8399 8400 8401 8402 8403 8404 8405 8406 8407 8408 8409 8410 8411 8412 8413 8414 8415 8416 8417 8418 8419 8420 8421 8422 "
     ]
    },
    {
     "name": "stdout",
     "output_type": "stream",
     "text": [
      "8423 8424 8425 8426 8427 8428 8429 8430 8431 8432 8433 8434 8435 8436 8437 8438 8439 8440 8441 8442 8443 8444 8445 8446 8447 8448 8449 8450 8451 8452 8453 8454 8455 8456 8457 8458 8459 8460 8461 8462 8463 8464 8465 8466 8467 8468 8469 8470 8471 8472 8473 8474 8475 8476 8477 8478 8479 8480 8481 8482 8483 8484 8485 8486 8487 8488 8489 8490 8491 8492 8493 8494 8495 8496 8497 8498 8499 8500 8501 8502 8503 8504 8505 8506 8507 8508 8509 8510 8511 8512 8513 8514 8515 8516 8517 8518 8519 8520 8521 8522 8523 8524 8525 8526 8527 8528 8529 8530 8531 8532 8533 8534 8535 8536 8537 8538 8539 8540 8541 8542 8543 8544 8545 8546 8547 8548 8549 8550 8551 8552 8553 8554 8555 8556 8557 8558 8559 8560 8561 8562 8563 8564 8565 8566 8567 8568 8569 8570 8571 8572 8573 8574 8575 8576 8577 8578 8579 8580 8581 8582 8583 8584 8585 8586 8587 8588 8589 8590 8591 8592 8593 8594 8595 8596 8597 8598 8599 8600 8601 8602 8603 8604 8605 8606 8607 8608 8609 8610 8611 8612 8613 8614 8615 8616 8617 8618 8619 8620 8621 8622 8623 8624 8625 8626 8627 8628 8629 8630 8631 8632 8633 8634 8635 8636 8637 8638 8639 8640 8641 8642 8643 8644 8645 8646 8647 8648 8649 8650 8651 8652 8653 8654 8655 8656 8657 8658 8659 8660 8661 8662 8663 8664 8665 8666 8667 8668 8669 8670 8671 8672 8673 8674 8675 8676 8677 8678 8679 8680 8681 8682 8683 8684 8685 8686 8687 8688 8689 8690 8691 8692 8693 8694 8695 8696 8697 8698 8699 8700 8701 8702 8703 8704 8705 8706 8707 8708 8709 8710 8711 8712 8713 8714 8715 8716 8717 8718 8719 8720 8721 8722 8723 8724 8725 8726 8727 8728 8729 8730 8731 8732 8733 8734 8735 8736 8737 8738 8739 8740 8741 8742 8743 8744 8745 8746 8747 8748 8749 8750 8751 8752 8753 8754 8755 8756 8757 8758 8759 8760 8761 8762 8763 8764 8765 8766 8767 8768 8769 8770 8771 8772 8773 8774 8775 8776 8777 8778 8779 8780 8781 8782 8783 8784 8785 8786 8787 8788 8789 8790 8791 8792 8793 8794 8795 8796 8797 8798 8799 8800 8801 8802 8803 8804 8805 8806 8807 8808 8809 8810 8811 8812 8813 8814 8815 8816 8817 8818 8819 8820 8821 8822 8823 8824 8825 8826 8827 8828 8829 8830 8831 8832 8833 8834 8835 8836 8837 8838 8839 8840 8841 8842 8843 8844 8845 8846 8847 8848 8849 8850 8851 8852 8853 8854 8855 8856 8857 8858 8859 8860 8861 8862 8863 8864 8865 8866 8867 8868 8869 8870 8871 8872 8873 8874 8875 8876 8877 8878 8879 8880 8881 8882 8883 8884 8885 8886 8887 8888 8889 8890 8891 8892 8893 8894 8895 8896 8897 8898 8899 8900 8901 8902 8903 8904 8905 8906 8907 8908 8909 8910 8911 8912 8913 8914 8915 8916 8917 8918 8919 8920 8921 8922 8923 8924 8925 8926 8927 8928 8929 8930 8931 8932 8933 8934 8935 8936 8937 8938 8939 8940 8941 8942 8943 8944 8945 8946 8947 8948 8949 8950 8951 8952 8953 8954 8955 8956 8957 8958 8959 8960 8961 8962 8963 8964 8965 8966 8967 8968 8969 8970 8971 8972 8973 8974 8975 8976 8977 8978 8979 8980 8981 8982 8983 8984 8985 8986 8987 8988 8989 8990 8991 8992 8993 8994 8995 8996 8997 8998 8999 9000 9001 9002 9003 9004 9005 9006 9007 9008 9009 9010 9011 9012 9013 9014 9015 9016 9017 9018 9019 9020 9021 9022 9023 9024 9025 9026 9027 9028 9029 9030 9031 9032 9033 9034 9035 9036 9037 9038 9039 9040 9041 9042 9043 9044 9045 9046 9047 9048 9049 9050 9051 9052 9053 9054 9055 9056 9057 9058 9059 9060 9061 9062 9063 9064 9065 9066 9067 9068 9069 9070 9071 9072 9073 9074 9075 9076 9077 9078 9079 9080 9081 9082 9083 9084 9085 9086 9087 9088 9089 9090 9091 9092 9093 9094 9095 9096 9097 9098 9099 9100 9101 9102 9103 9104 9105 9106 9107 9108 9109 9110 9111 9112 9113 9114 9115 9116 9117 9118 9119 9120 9121 9122 9123 9124 9125 9126 9127 9128 9129 9130 9131 9132 9133 9134 9135 9136 9137 9138 9139 9140 9141 9142 9143 9144 9145 9146 9147 9148 9149 9150 9151 9152 9153 9154 9155 9156 9157 9158 9159 9160 9161 9162 9163 9164 9165 9166 9167 9168 9169 9170 9171 9172 9173 9174 9175 9176 9177 9178 9179 9180 9181 9182 9183 9184 9185 9186 9187 9188 9189 9190 9191 9192 9193 9194 9195 9196 9197 9198 9199 9200 9201 9202 9203 9204 9205 9206 9207 9208 9209 9210 9211 9212 9213 9214 9215 9216 9217 9218 9219 9220 9221 9222 9223 9224 9225 9226 9227 9228 9229 9230 9231 9232 9233 9234 9235 9236 9237 9238 9239 9240 9241 9242 9243 9244 9245 9246 9247 9248 9249 9250 9251 9252 9253 9254 9255 9256 9257 9258 9259 9260 9261 9262 9263 9264 9265 9266 9267 9268 9269 9270 9271 9272 9273 9274 9275 9276 9277 9278 9279 9280 9281 9282 9283 9284 9285 9286 9287 9288 9289 9290 9291 9292 9293 9294 9295 9296 9297 9298 9299 9300 9301 9302 9303 9304 9305 9306 9307 9308 9309 9310 9311 9312 9313 9314 9315 9316 9317 9318 9319 9320 9321 9322 9323 9324 9325 9326 9327 9328 9329 9330 9331 9332 9333 9334 9335 9336 9337 9338 9339 9340 9341 9342 9343 9344 9345 9346 9347 9348 9349 9350 9351 9352 9353 9354 9355 9356 9357 9358 9359 9360 9361 9362 9363 9364 9365 9366 9367 9368 9369 9370 9371 9372 9373 9374 9375 9376 9377 9378 9379 9380 9381 9382 9383 9384 9385 9386 9387 9388 9389 9390 9391 9392 9393 9394 9395 9396 9397 9398 9399 9400 9401 9402 9403 9404 9405 9406 9407 9408 9409 9410 9411 9412 9413 9414 9415 9416 9417 9418 9419 9420 9421 9422 9423 9424 9425 9426 9427 9428 9429 9430 9431 9432 9433 9434 9435 9436 9437 9438 9439 9440 9441 9442 9443 9444 9445 9446 9447 9448 9449 9450 9451 9452 9453 9454 9455 9456 9457 9458 9459 9460 9461 9462 9463 9464 9465 9466 9467 9468 9469 9470 9471 9472 9473 9474 9475 9476 9477 9478 9479 9480 9481 9482 9483 9484 9485 9486 9487 9488 9489 9490 9491 9492 9493 9494 9495 9496 9497 9498 9499 9500 9501 9502 9503 9504 9505 9506 9507 9508 9509 9510 9511 9512 9513 9514 9515 9516 9517 9518 9519 9520 9521 9522 9523 9524 9525 9526 9527 9528 9529 9530 9531 9532 9533 9534 9535 9536 9537 9538 9539 9540 9541 9542 9543 9544 9545 9546 9547 9548 9549 9550 9551 9552 9553 9554 9555 9556 9557 9558 9559 9560 9561 9562 9563 9564 9565 9566 9567 9568 9569 9570 9571 9572 9573 9574 9575 9576 9577 9578 9579 9580 9581 9582 9583 9584 9585 9586 9587 9588 9589 9590 9591 9592 9593 9594 9595 9596 9597 9598 9599 9600 9601 9602 9603 9604 9605 9606 9607 9608 9609 9610 9611 9612 9613 9614 9615 9616 9617 9618 9619 9620 9621 9622 9623 9624 9625 9626 9627 9628 9629 9630 9631 9632 9633 9634 9635 9636 9637 9638 9639 9640 9641 9642 9643 9644 9645 9646 9647 9648 9649 9650 9651 9652 9653 9654 9655 9656 9657 9658 9659 9660 9661 9662 9663 9664 9665 9666 9667 9668 9669 9670 9671 9672 9673 9674 9675 9676 9677 9678 9679 9680 9681 9682 9683 9684 9685 9686 9687 9688 9689 9690 9691 9692 9693 9694 9695 9696 9697 9698 9699 9700 9701 9702 9703 9704 9705 9706 9707 9708 9709 9710 9711 9712 9713 9714 9715 9716 9717 9718 9719 9720 9721 9722 9723 9724 9725 9726 9727 9728 9729 9730 9731 9732 9733 9734 9735 9736 9737 9738 9739 9740 9741 9742 9743 9744 9745 9746 9747 9748 9749 9750 9751 9752 9753 9754 9755 9756 9757 9758 9759 9760 9761 9762 9763 9764 9765 9766 9767 9768 9769 9770 9771 9772 9773 9774 9775 9776 9777 9778 9779 9780 9781 9782 9783 9784 9785 9786 9787 9788 9789 9790 9791 9792 9793 9794 9795 9796 9797 9798 9799 9800 9801 9802 9803 9804 9805 9806 9807 9808 9809 9810 9811 9812 9813 9814 9815 9816 9817 9818 9819 9820 9821 9822 9823 9824 9825 9826 9827 9828 9829 9830 9831 9832 9833 9834 9835 9836 9837 9838 9839 9840 9841 9842 9843 9844 9845 9846 9847 9848 9849 9850 9851 9852 9853 9854 9855 9856 9857 9858 9859 9860 9861 9862 9863 9864 9865 9866 9867 9868 9869 9870 9871 9872 9873 9874 9875 9876 9877 9878 9879 9880 9881 9882 9883 9884 9885 9886 9887 9888 9889 9890 9891 9892 9893 9894 9895 9896 9897 9898 9899 9900 9901 9902 9903 9904 9905 9906 9907 9908 9909 9910 9911 9912 9913 9914 9915 9916 9917 9918 9919 9920 9921 9922 9923 9924 9925 9926 9927 9928 9929 9930 9931 9932 9933 9934 9935 9936 9937 9938 9939 9940 9941 9942 9943 9944 9945 9946 9947 9948 9949 9950 9951 9952 9953 9954 9955 9956 9957 9958 9959 9960 9961 9962 9963 9964 9965 9966 9967 9968 9969 9970 9971 9972 9973 9974 9975 9976 9977 9978 9979 9980 9981 9982 9983 9984 9985 9986 9987 9988 9989 9990 9991 9992 9993 9994 9995 9996 9997 9998 9999 10000 10001 "
     ]
    },
    {
     "data": {
      "image/png": "[encoded data removed]",
      "text/plain": [
       "<Figure size 640x480 with 1 Axes>"
      ]
     },
     "metadata": {},
     "output_type": "display_data"
    },
    {
     "data": {
      "image/png": "[encoded data removed]",
      "text/plain": [
       "<Figure size 640x480 with 1 Axes>"
      ]
     },
     "metadata": {},
     "output_type": "display_data"
    },
    {
     "name": "stdout",
     "output_type": "stream",
     "text": [
      "Total distance:1187.3693614858796\n"
     ]
    }
   ],
   "source": [
    "# To be completed - Start\n",
    "bestIndividual, bestFitnessScore, bestFitnessScoresEvolution = runGeneticAlgorithm(\n",
    "    instance, generationSize = 100, nbElites = 30, nbParents = 50, nbChildren = 70, mutationRate = 0.3, \n",
    "    nbGenerations = 10000, maximumSolvingTimeInSeconds = 60, timeCriterion = True)\n",
    "# To be completed - End\n",
    "\n",
    "bestDistancesEvolution = 1/np.array(bestFitnessScoresEvolution)\n",
    "plotEvolution(bestDistancesEvolution)\n",
    "plotRoute(bestIndividual)\n",
    "print(\"Total distance:\" + str(1/bestFitnessScore))"
   ]
  },
  {
   "cell_type": "code",
   "execution_count": null,
   "metadata": {
    "scrolled": false
   },
   "outputs": [],
   "source": []
  },
  {
   "cell_type": "code",
   "execution_count": null,
   "metadata": {},
   "outputs": [],
   "source": []
  },
  {
   "cell_type": "code",
   "execution_count": 115,
   "metadata": {
    "scrolled": false
   },
   "outputs": [
    {
     "name": "stdout",
     "output_type": "stream",
     "text": [
      "1 2 3 4 5 6 7 8 9 10 11 12 13 14 15 16 17 18 19 20 21 22 23 24 25 26 27 28 29 30 31 32 33 34 35 36 37 38 39 40 41 42 43 44 45 46 47 48 49 50 51 52 53 54 55 56 57 58 59 60 61 62 63 64 65 66 67 68 69 70 71 72 73 74 75 76 77 78 79 80 81 82 83 84 85 86 87 88 89 90 91 92 93 94 95 96 97 98 99 100 101 102 103 104 105 106 107 108 109 110 111 112 113 114 115 116 117 118 119 120 121 122 123 124 125 126 127 128 129 130 131 132 133 134 135 136 137 138 139 140 141 142 143 144 145 146 147 148 149 150 151 152 153 154 155 156 157 158 159 160 161 162 163 164 165 166 167 168 169 170 171 172 173 174 175 176 177 178 179 180 181 182 183 184 185 186 187 188 189 190 191 192 193 194 195 196 197 198 199 200 201 202 203 204 205 206 207 208 209 210 211 212 213 214 215 216 217 218 219 220 221 222 223 224 225 226 227 228 229 230 231 232 233 234 235 236 237 238 239 240 241 242 243 244 245 246 247 248 249 250 251 252 253 254 255 256 257 258 259 260 261 262 263 264 265 266 267 268 269 270 271 272 273 274 275 276 277 278 279 280 281 282 283 284 285 286 287 288 289 290 291 292 293 294 295 296 297 298 299 300 301 302 303 304 305 306 307 308 309 310 311 312 313 314 315 316 317 318 319 320 321 322 323 324 325 326 327 328 329 330 331 332 333 334 335 336 337 338 339 340 341 342 343 344 345 346 347 348 349 350 351 352 353 354 355 356 357 358 359 360 361 362 363 364 365 366 367 368 369 370 371 372 373 374 375 376 377 378 379 380 381 382 383 384 385 386 387 388 389 390 391 392 393 394 395 396 397 398 399 400 401 402 403 404 405 406 407 408 409 410 411 412 413 414 415 416 417 418 419 420 421 422 423 424 425 426 427 428 429 430 431 432 433 434 435 436 437 438 439 440 441 442 443 444 445 446 447 448 449 450 451 452 453 454 455 456 457 458 459 460 461 462 463 464 465 466 467 468 469 470 471 472 473 474 475 476 477 478 479 480 481 482 483 484 485 486 487 488 489 490 491 492 493 494 495 496 497 498 499 500 501 502 503 504 505 506 507 508 509 510 511 512 513 514 515 516 517 518 519 520 521 522 523 524 525 526 527 528 529 530 531 532 533 534 535 536 537 538 539 540 541 542 543 544 545 546 547 548 549 550 551 552 553 554 555 556 557 558 559 560 561 562 563 564 565 566 567 568 569 570 571 572 573 574 575 576 577 578 579 580 581 582 583 584 585 586 587 588 589 590 591 592 593 594 595 596 597 598 599 600 601 602 603 604 605 606 607 608 609 610 611 612 613 614 615 616 617 618 619 620 621 622 623 624 625 626 627 628 629 630 631 632 633 634 635 636 637 638 639 640 641 642 643 644 645 646 647 648 649 650 651 652 653 654 655 656 657 658 659 660 661 662 663 664 665 666 667 668 669 670 671 672 673 674 675 676 677 678 679 680 681 682 683 684 685 686 687 688 689 690 691 692 693 694 695 696 697 698 699 700 701 702 703 704 705 706 707 708 709 710 711 712 713 714 715 716 717 718 719 720 721 722 723 724 725 726 727 728 729 730 731 732 733 734 735 736 737 738 739 740 741 742 743 744 745 746 747 748 749 750 751 752 753 754 755 756 757 758 759 760 761 762 763 764 765 766 767 768 769 770 771 772 773 774 775 776 777 778 779 780 781 782 783 784 785 786 787 788 789 790 791 792 793 794 795 796 797 798 799 800 801 802 803 804 805 806 807 808 809 810 811 812 813 814 815 816 817 818 819 820 821 822 823 824 825 826 827 828 829 830 831 832 833 834 835 836 837 838 839 840 841 842 843 844 845 846 847 848 849 850 851 852 853 854 855 856 857 858 859 860 861 862 863 864 865 866 867 868 869 870 871 872 873 874 875 876 877 878 879 880 881 882 883 884 885 886 887 888 889 890 891 892 893 894 895 896 897 898 899 900 901 902 903 904 905 906 907 908 909 910 911 912 913 914 915 916 917 918 919 920 921 922 923 924 925 926 927 928 929 930 931 932 933 934 935 936 937 938 939 940 941 942 943 944 945 946 947 948 949 950 951 952 953 954 955 956 957 958 959 960 961 962 963 964 965 966 967 968 969 970 971 972 973 974 975 976 977 978 979 980 981 982 983 984 985 986 987 988 989 990 991 992 993 994 995 996 997 998 999 1000 1001 1002 1003 1004 1005 1006 1007 1008 1009 1010 1011 1012 1013 1014 1015 1016 1017 1018 1019 1020 1021 1022 1023 1024 1025 1026 1027 1028 1029 1030 1031 1032 1033 1034 1035 1036 1037 1038 1039 1040 1041 1042 1043 1044 1045 1046 1047 1048 1049 1050 1051 1052 1053 1054 1055 1056 1057 1058 1059 1060 1061 1062 1063 1064 1065 1066 1067 1068 1069 1070 1071 1072 1073 1074 1075 1076 1077 1078 1079 1080 1081 1082 1083 1084 1085 1086 1087 1088 1089 1090 1091 1092 1093 1094 1095 1096 1097 1098 1099 1100 1101 1102 1103 1104 1105 1106 1107 1108 1109 1110 1111 1112 1113 1114 1115 1116 1117 1118 1119 1120 1121 1122 1123 1124 1125 1126 1127 1128 1129 1130 1131 1132 1133 1134 1135 1136 1137 1138 1139 1140 1141 1142 1143 1144 1145 1146 1147 1148 1149 1150 1151 1152 1153 1154 1155 1156 1157 1158 1159 1160 1161 1162 1163 1164 1165 1166 1167 1168 1169 1170 1171 1172 1173 1174 1175 1176 1177 1178 1179 1180 1181 1182 1183 1184 1185 1186 1187 1188 1189 1190 1191 1192 1193 1194 1195 1196 1197 1198 1199 1200 1201 1202 1203 1204 1205 1206 1207 1208 1209 1210 1211 1212 1213 1214 1215 1216 1217 1218 1219 1220 1221 1222 1223 1224 1225 1226 1227 1228 1229 1230 1231 1232 1233 1234 1235 1236 1237 1238 1239 1240 1241 1242 1243 1244 1245 1246 1247 1248 1249 1250 1251 1252 1253 1254 1255 1256 1257 1258 1259 1260 1261 1262 1263 1264 1265 1266 1267 1268 1269 1270 1271 1272 1273 1274 1275 1276 1277 1278 1279 1280 1281 1282 1283 1284 1285 1286 1287 1288 1289 1290 1291 1292 1293 1294 1295 1296 1297 1298 1299 1300 1301 1302 1303 1304 1305 1306 1307 1308 1309 1310 1311 1312 1313 1314 1315 1316 1317 1318 1319 1320 1321 1322 1323 1324 1325 1326 1327 1328 1329 1330 1331 1332 1333 1334 1335 1336 1337 1338 1339 1340 1341 1342 1343 1344 1345 1346 1347 1348 1349 1350 1351 1352 1353 1354 1355 1356 1357 1358 1359 1360 1361 1362 1363 1364 1365 1366 1367 1368 1369 1370 1371 1372 1373 1374 1375 1376 1377 1378 1379 1380 1381 1382 1383 1384 1385 1386 1387 1388 1389 1390 1391 1392 1393 1394 1395 1396 1397 1398 1399 1400 1401 1402 1403 1404 1405 1406 1407 1408 1409 1410 1411 1412 1413 1414 1415 1416 1417 1418 1419 1420 1421 1422 1423 1424 1425 1426 1427 1428 1429 1430 1431 1432 1433 1434 1435 1436 1437 1438 1439 1440 1441 1442 1443 1444 1445 1446 1447 1448 1449 1450 1451 1452 1453 1454 1455 1456 1457 1458 1459 1460 1461 1462 1463 1464 1465 1466 1467 1468 1469 1470 1471 1472 1473 1474 1475 1476 1477 1478 1479 1480 1481 1482 1483 1484 1485 1486 1487 1488 1489 1490 1491 1492 1493 1494 1495 1496 1497 1498 1499 1500 1501 1502 1503 1504 1505 1506 1507 1508 1509 1510 1511 1512 1513 1514 1515 1516 1517 1518 1519 1520 1521 1522 1523 1524 1525 1526 1527 1528 1529 1530 1531 1532 1533 1534 1535 1536 1537 1538 1539 1540 1541 1542 1543 1544 1545 1546 1547 1548 1549 1550 1551 1552 1553 1554 1555 1556 1557 1558 1559 1560 1561 1562 1563 1564 1565 1566 1567 1568 1569 1570 1571 1572 1573 1574 1575 1576 1577 1578 1579 1580 1581 1582 1583 1584 1585 1586 1587 1588 1589 1590 1591 1592 1593 1594 1595 1596 1597 1598 1599 1600 1601 1602 1603 1604 1605 1606 1607 1608 1609 1610 1611 1612 1613 1614 1615 1616 1617 1618 1619 1620 1621 1622 1623 1624 1625 1626 1627 1628 1629 1630 1631 1632 1633 1634 1635 1636 1637 1638 1639 1640 1641 1642 1643 1644 1645 1646 1647 1648 1649 1650 1651 1652 1653 1654 1655 1656 1657 1658 1659 1660 1661 1662 1663 1664 1665 1666 1667 1668 1669 1670 1671 1672 1673 1674 1675 1676 1677 1678 1679 1680 1681 1682 1683 1684 1685 1686 1687 1688 1689 1690 1691 1692 1693 1694 1695 1696 1697 1698 1699 1700 1701 1702 1703 1704 1705 1706 1707 1708 1709 1710 1711 1712 1713 1714 1715 1716 1717 1718 1719 1720 1721 1722 1723 1724 1725 1726 1727 1728 1729 1730 1731 1732 1733 1734 1735 1736 1737 1738 1739 1740 1741 1742 1743 1744 1745 1746 1747 1748 1749 1750 1751 1752 1753 1754 1755 1756 1757 1758 1759 1760 1761 1762 1763 1764 1765 1766 1767 1768 1769 1770 1771 1772 1773 1774 1775 1776 1777 1778 1779 1780 1781 1782 1783 1784 1785 1786 1787 1788 1789 1790 1791 1792 1793 1794 1795 1796 1797 1798 1799 1800 1801 1802 1803 1804 1805 1806 1807 1808 1809 1810 1811 1812 1813 1814 1815 1816 1817 1818 1819 1820 1821 1822 1823 1824 1825 1826 1827 1828 1829 1830 1831 1832 1833 1834 1835 1836 1837 1838 1839 1840 1841 1842 1843 1844 1845 1846 1847 1848 1849 1850 1851 1852 1853 1854 1855 1856 1857 1858 1859 1860 "
     ]
    },
    {
     "name": "stdout",
     "output_type": "stream",
     "text": [
      "1861 1862 1863 1864 1865 1866 1867 1868 1869 1870 1871 1872 1873 1874 1875 1876 1877 1878 1879 1880 1881 1882 1883 1884 1885 1886 1887 1888 1889 1890 1891 1892 1893 1894 1895 1896 1897 1898 1899 1900 1901 1902 1903 1904 1905 1906 1907 1908 1909 1910 1911 1912 1913 1914 1915 1916 1917 1918 1919 1920 1921 1922 1923 1924 1925 1926 1927 1928 1929 1930 1931 1932 1933 1934 1935 1936 1937 1938 1939 1940 1941 1942 1943 1944 1945 1946 1947 1948 1949 1950 1951 1952 1953 1954 1955 1956 1957 1958 1959 1960 1961 1962 1963 1964 1965 1966 1967 1968 1969 1970 1971 1972 1973 1974 1975 1976 1977 1978 1979 1980 1981 1982 1983 1984 1985 1986 1987 1988 1989 1990 1991 1992 1993 1994 1995 1996 1997 1998 1999 2000 2001 2002 2003 2004 2005 2006 2007 2008 2009 2010 2011 2012 2013 2014 2015 2016 2017 2018 2019 2020 2021 2022 2023 2024 2025 2026 2027 2028 2029 2030 2031 2032 2033 2034 2035 2036 2037 2038 2039 2040 2041 2042 2043 2044 2045 2046 2047 2048 2049 2050 2051 2052 2053 2054 2055 2056 2057 2058 2059 2060 2061 2062 2063 2064 2065 2066 2067 2068 2069 2070 2071 2072 2073 2074 2075 2076 2077 2078 2079 2080 2081 2082 2083 2084 2085 2086 2087 2088 2089 2090 2091 2092 2093 2094 2095 2096 2097 2098 2099 2100 2101 2102 2103 2104 2105 2106 2107 2108 2109 2110 2111 2112 2113 2114 2115 2116 2117 2118 2119 2120 2121 2122 2123 2124 2125 2126 2127 2128 2129 2130 2131 2132 2133 2134 2135 2136 2137 2138 2139 2140 2141 2142 2143 2144 2145 2146 2147 2148 2149 2150 2151 2152 2153 2154 2155 2156 2157 2158 2159 2160 2161 2162 2163 2164 2165 2166 2167 2168 2169 2170 2171 2172 2173 2174 2175 2176 2177 2178 2179 2180 2181 2182 2183 2184 2185 2186 2187 2188 2189 2190 2191 2192 2193 2194 2195 2196 2197 2198 2199 2200 2201 2202 2203 2204 2205 2206 2207 2208 2209 2210 2211 2212 2213 2214 2215 2216 2217 2218 2219 2220 2221 2222 2223 2224 2225 2226 2227 2228 2229 2230 2231 2232 2233 2234 2235 2236 2237 2238 2239 2240 2241 2242 2243 2244 2245 2246 2247 2248 2249 2250 2251 2252 2253 2254 2255 2256 2257 2258 2259 2260 2261 2262 2263 2264 2265 2266 2267 2268 2269 2270 2271 2272 2273 2274 2275 2276 2277 2278 2279 2280 2281 2282 2283 2284 2285 2286 2287 2288 2289 2290 2291 2292 2293 2294 2295 2296 2297 2298 2299 2300 2301 2302 2303 2304 2305 2306 2307 2308 2309 2310 2311 2312 2313 2314 2315 2316 2317 2318 2319 2320 2321 2322 2323 2324 2325 2326 2327 2328 2329 2330 2331 2332 2333 2334 2335 2336 2337 2338 2339 2340 2341 2342 2343 2344 2345 2346 2347 2348 2349 2350 2351 2352 2353 2354 2355 2356 2357 2358 2359 2360 2361 2362 2363 2364 2365 2366 2367 2368 2369 2370 2371 2372 2373 2374 2375 2376 2377 2378 2379 2380 2381 2382 2383 2384 2385 2386 2387 2388 2389 2390 2391 2392 2393 2394 2395 2396 2397 2398 2399 2400 2401 2402 2403 2404 2405 2406 2407 2408 2409 2410 2411 2412 2413 2414 2415 2416 2417 2418 2419 2420 2421 2422 2423 2424 2425 2426 2427 2428 2429 2430 2431 2432 2433 2434 2435 2436 2437 2438 2439 2440 2441 2442 2443 2444 2445 2446 2447 2448 2449 2450 2451 2452 2453 2454 2455 2456 2457 2458 2459 2460 2461 2462 2463 2464 2465 2466 2467 2468 2469 2470 2471 2472 2473 2474 2475 2476 2477 2478 2479 2480 2481 2482 2483 2484 2485 2486 2487 2488 2489 2490 2491 2492 2493 2494 2495 2496 2497 2498 2499 2500 2501 2502 2503 2504 2505 2506 2507 2508 2509 2510 2511 2512 2513 2514 2515 2516 2517 2518 2519 2520 2521 2522 2523 2524 2525 2526 2527 2528 2529 2530 2531 2532 2533 2534 2535 2536 2537 2538 2539 2540 2541 2542 2543 2544 2545 2546 2547 2548 2549 2550 2551 2552 2553 2554 2555 2556 2557 2558 2559 2560 2561 2562 2563 2564 2565 2566 2567 2568 2569 2570 2571 2572 2573 2574 2575 2576 2577 2578 2579 2580 2581 2582 2583 2584 2585 2586 2587 2588 2589 2590 2591 2592 2593 2594 2595 2596 2597 2598 2599 2600 2601 2602 2603 2604 2605 2606 2607 2608 2609 2610 2611 2612 2613 2614 2615 2616 2617 2618 2619 2620 2621 2622 2623 2624 2625 2626 2627 2628 2629 2630 2631 2632 2633 2634 2635 2636 2637 2638 2639 2640 2641 2642 2643 2644 2645 2646 2647 2648 2649 2650 2651 2652 2653 2654 2655 2656 2657 2658 2659 2660 2661 2662 2663 2664 2665 2666 2667 2668 2669 2670 2671 2672 2673 2674 2675 2676 2677 2678 2679 2680 2681 2682 2683 2684 2685 2686 2687 2688 2689 2690 2691 2692 2693 2694 2695 2696 2697 2698 2699 2700 2701 2702 2703 2704 2705 2706 2707 2708 2709 2710 2711 2712 2713 2714 2715 2716 2717 2718 2719 2720 2721 2722 2723 2724 2725 2726 2727 2728 2729 2730 2731 2732 2733 2734 2735 2736 2737 2738 2739 2740 2741 2742 2743 2744 2745 2746 2747 2748 2749 2750 2751 2752 2753 2754 2755 2756 2757 2758 2759 2760 2761 2762 2763 2764 2765 2766 2767 2768 2769 2770 2771 2772 2773 2774 2775 2776 2777 2778 2779 2780 2781 2782 2783 2784 2785 2786 2787 2788 2789 2790 2791 2792 2793 2794 2795 2796 2797 2798 2799 2800 2801 2802 2803 2804 2805 2806 2807 2808 2809 2810 2811 2812 2813 2814 2815 2816 2817 2818 2819 2820 2821 2822 2823 2824 2825 2826 2827 2828 2829 2830 2831 2832 2833 2834 2835 2836 2837 2838 2839 2840 2841 2842 2843 2844 2845 2846 2847 2848 2849 2850 2851 2852 2853 2854 2855 2856 2857 2858 2859 2860 2861 2862 2863 2864 2865 2866 2867 2868 2869 2870 2871 2872 2873 2874 2875 2876 2877 2878 2879 2880 2881 2882 2883 2884 2885 2886 2887 2888 2889 2890 2891 2892 2893 2894 2895 2896 2897 2898 2899 2900 2901 2902 2903 2904 2905 2906 2907 2908 2909 2910 2911 2912 2913 2914 2915 2916 2917 2918 2919 2920 2921 2922 2923 2924 2925 2926 2927 2928 2929 2930 2931 2932 2933 2934 2935 2936 2937 2938 2939 2940 2941 2942 2943 2944 2945 2946 2947 2948 2949 2950 2951 2952 2953 2954 2955 2956 2957 2958 2959 2960 2961 2962 2963 2964 2965 2966 2967 2968 2969 2970 2971 2972 2973 2974 2975 2976 2977 2978 2979 2980 2981 2982 2983 2984 2985 2986 2987 2988 2989 2990 2991 2992 2993 2994 2995 2996 2997 2998 2999 3000 3001 "
     ]
    },
    {
     "data": {
      "image/png": "[encoded data removed]",
      "text/plain": [
       "<Figure size 640x480 with 1 Axes>"
      ]
     },
     "metadata": {},
     "output_type": "display_data"
    },
    {
     "data": {
      "image/png": "[encoded data removed]",
      "text/plain": [
       "<Figure size 640x480 with 1 Axes>"
      ]
     },
     "metadata": {},
     "output_type": "display_data"
    },
    {
     "name": "stdout",
     "output_type": "stream",
     "text": [
      "Total distance:1783.3322452623522\n"
     ]
    }
   ],
   "source": [
    "fileName = \"TSPInstance100.csv\"\n",
    "instance = loadFixedInstance(fileName)\n",
    "# To be completed - Start\n",
    "bestIndividual, bestFitnessScore, bestFitnessScoresEvolution = runGeneticAlgorithm(\n",
    "    instance, generationSize = 300, nbElites = 50, nbParents = 100, nbChildren = 250, mutationRate = 0.25, \n",
    "    nbGenerations = 3000, maximumSolvingTimeInSeconds = 20, timeCriterion = True)\n",
    "# To be completed - End\n",
    "\n",
    "bestDistancesEvolution = 1/np.array(bestFitnessScoresEvolution)\n",
    "plotEvolution(bestDistancesEvolution)\n",
    "plotRoute(bestIndividual)\n",
    "print(\"Total distance:\" + str(1/bestFitnessScore))"
   ]
  },
  {
   "cell_type": "markdown",
   "metadata": {},
   "source": [
    "We can see that with 50 nodes it is ok, but more is harder..."
   ]
  },
  {
   "cell_type": "code",
   "execution_count": null,
   "metadata": {},
   "outputs": [],
   "source": []
  },
  {
   "attachments": {
    "image.png": {
     "image/png": "[encoded data removed]"
    }
   },
   "cell_type": "markdown",
   "metadata": {},
   "source": [
    "![image.png](attachment:image.png)"
   ]
  },
  {
   "cell_type": "code",
   "execution_count": 1,
   "metadata": {},
   "outputs": [
    {
     "name": "stdout",
     "output_type": "stream",
     "text": [
      "Best solution: [1, 1, 2, 4, 4]\n",
      "Best cost: 7\n"
     ]
    }
   ],
   "source": [
    "import random\n",
    "import math\n",
    "\n",
    "# Define the problem\n",
    "num_workers = 3\n",
    "num_jobs = 5\n",
    "worker_time_windows = [[0, 10], [3, 8], [5, 12]]\n",
    "job_time_windows = [[0, 5], [1, 6], [2, 7], [3, 8], [4, 9]]\n",
    "job_durations = [2, 3, 2, 4, 3]\n",
    "\n",
    "# Define the cost function\n",
    "def cost_function(solution):\n",
    "    cost = 0\n",
    "    for i in range(num_jobs):\n",
    "        start_time = solution[i]\n",
    "        end_time = start_time + job_durations[i]\n",
    "        for j in range(num_workers):\n",
    "            if start_time >= worker_time_windows[j][0] and end_time <= worker_time_windows[j][1]:\n",
    "                cost += 1\n",
    "    return cost\n",
    "\n",
    "# Define the initial solution\n",
    "def initial_solution():\n",
    "    solution = []\n",
    "    for i in range(num_jobs):\n",
    "        start_time = random.randint(job_time_windows[i][0], job_time_windows[i][1] - job_durations[i])\n",
    "        solution.append(start_time)\n",
    "    return solution\n",
    "\n",
    "# Define the neighbor function\n",
    "def neighbor(solution):\n",
    "    new_solution = solution.copy()\n",
    "    i = random.randint(0, num_jobs - 1)\n",
    "    new_start_time = random.randint(job_time_windows[i][0], job_time_windows[i][1] - job_durations[i])\n",
    "    new_solution[i] = new_start_time\n",
    "    return new_solution\n",
    "\n",
    "# Define the acceptance probability function\n",
    "def acceptance_probability(old_cost, new_cost, temperature):\n",
    "    if new_cost < old_cost:\n",
    "        return 1.0\n",
    "    else:\n",
    "        return math.exp((old_cost - new_cost) / temperature)\n",
    "\n",
    "# Define the simulated annealing algorithm\n",
    "def simulated_annealing():\n",
    "    # Set initial temperature and cooling rate\n",
    "    temperature = 1000.0\n",
    "    cooling_rate = 0.03\n",
    "\n",
    "    # Initialize current solution and cost\n",
    "    current_solution = initial_solution()\n",
    "    current_cost = cost_function(current_solution)\n",
    "\n",
    "    # Initialize best solution and cost\n",
    "    best_solution = current_solution\n",
    "    best_cost = current_cost\n",
    "\n",
    "    # Loop until temperature is too low\n",
    "    while temperature > 1.0:\n",
    "        # Generate a neighbor solution\n",
    "        neighbor_solution = neighbor(current_solution)\n",
    "        neighbor_cost = cost_function(neighbor_solution)\n",
    "\n",
    "        # Determine whether to accept the neighbor solution\n",
    "        ap = acceptance_probability(current_cost, neighbor_cost, temperature)\n",
    "        if ap > random.random():\n",
    "            current_solution = neighbor_solution\n",
    "            current_cost = neighbor_cost\n",
    "\n",
    "        # Update the best solution if necessary\n",
    "        if current_cost < best_cost:\n",
    "            best_solution = current_solution\n",
    "            best_cost = current_cost\n",
    "\n",
    "        # Decrease the temperature\n",
    "        temperature *= 1 - cooling_rate\n",
    "\n",
    "    return best_solution, best_cost\n",
    "\n",
    "# Run the simulated annealing algorithm\n",
    "best_solution, best_cost = simulated_annealing()\n",
    "\n",
    "# Print the best solution and cost\n",
    "print(\"Best solution:\", best_solution)\n",
    "print(\"Best cost:\", best_cost)\n"
   ]
  },
  {
   "cell_type": "code",
   "execution_count": null,
   "metadata": {},
   "outputs": [],
   "source": []
  },
  {
   "cell_type": "code",
   "execution_count": null,
   "metadata": {},
   "outputs": [],
   "source": []
  },
  {
   "cell_type": "code",
   "execution_count": 3,
   "metadata": {},
   "outputs": [
    {
     "name": "stdout",
     "output_type": "stream",
     "text": [
      "Best individual: [3, 3, 5, 3, 5]\n",
      "Best fitness: 12\n"
     ]
    }
   ],
   "source": [
    "import random\n",
    "\n",
    "# Define the problem\n",
    "num_workers = 3\n",
    "num_jobs = 5\n",
    "worker_time_windows = [[0, 10], [3, 8], [5, 12]]\n",
    "job_time_windows = [[0, 5], [1, 6], [2, 7], [3, 8], [4, 9]]\n",
    "job_durations = [2, 3, 2, 4, 3]\n",
    "\n",
    "# Define the fitness function\n",
    "def fitness_function(solution):\n",
    "    cost = 0\n",
    "    for i in range(num_jobs):\n",
    "        start_time = solution[i]\n",
    "        end_time = start_time + job_durations[i]\n",
    "        for j in range(num_workers):\n",
    "            if start_time >= worker_time_windows[j][0] and end_time <= worker_time_windows[j][1]:\n",
    "                cost += 1\n",
    "    return cost\n",
    "\n",
    "# Define the initial population\n",
    "def initial_population(population_size):\n",
    "    population = []\n",
    "    for i in range(population_size):\n",
    "        individual = []\n",
    "        for j in range(num_jobs):\n",
    "            start_time = random.randint(job_time_windows[j][0], job_time_windows[j][1] - job_durations[j])\n",
    "            individual.append(start_time)\n",
    "        population.append(individual)\n",
    "    return population\n",
    "\n",
    "# Define the selection function\n",
    "def selection(population, tournament_size):\n",
    "    tournament = random.sample(population, tournament_size)\n",
    "    winner = max(tournament, key=fitness_function)\n",
    "    return winner\n",
    "\n",
    "# Define the crossover function\n",
    "def crossover(parent1, parent2):\n",
    "    child = []\n",
    "    for i in range(num_jobs):\n",
    "        if random.random() < 0.5:\n",
    "            child.append(parent1[i])\n",
    "        else:\n",
    "            child.append(parent2[i])\n",
    "    return child\n",
    "\n",
    "# Define the mutation function\n",
    "def mutation(individual, mutation_rate):\n",
    "    for i in range(num_jobs):\n",
    "        if random.random() < mutation_rate:\n",
    "            individual[i] = random.randint(job_time_windows[i][0], job_time_windows[i][1] - job_durations[i])\n",
    "    return individual\n",
    "\n",
    "# Define the genetic algorithm\n",
    "def genetic_algorithm(population_size, tournament_size, crossover_rate, mutation_rate, num_generations):\n",
    "    # Initialize the population\n",
    "    population = initial_population(population_size)\n",
    "\n",
    "    # Loop through generations\n",
    "    for generation in range(num_generations):\n",
    "        # Create a new population\n",
    "        new_population = []\n",
    "\n",
    "        # Add the best individual from the previous generation\n",
    "        best_individual = max(population, key=fitness_function)\n",
    "        new_population.append(best_individual)\n",
    "\n",
    "        # Generate the rest of the population through selection, crossover, and mutation\n",
    "        while len(new_population) < population_size:\n",
    "            parent1 = selection(population, tournament_size)\n",
    "            parent2 = selection(population, tournament_size)\n",
    "            child = crossover(parent1, parent2)\n",
    "            child = mutation(child, mutation_rate)\n",
    "            new_population.append(child)\n",
    "\n",
    "        # Update the population\n",
    "        population = new_population\n",
    "\n",
    "    # Return the best individual\n",
    "    best_individual = max(population, key=fitness_function)\n",
    "    best_fitness = fitness_function(best_individual)\n",
    "    return best_individual, best_fitness\n",
    "\n",
    "# Run the genetic algorithm\n",
    "best_individual, best_fitness = genetic_algorithm(\n",
    "    population_size=100,\n",
    "    tournament_size=5,\n",
    "    crossover_rate=0.8,\n",
    "    mutation_rate=0.1,\n",
    "    num_generations=100\n",
    ")\n",
    "\n",
    "# Print the best individual and fitness\n",
    "print(\"Best individual:\", best_individual)\n",
    "print(\"Best fitness:\", best_fitness)\n"
   ]
  },
  {
   "cell_type": "code",
   "execution_count": 7,
   "metadata": {},
   "outputs": [],
   "source": [
    "import random\n",
    "\n",
    "# Define the problem\n",
    "num_workers = 3\n",
    "num_jobs = 5\n",
    "worker_time_windows = [[0, 10], [3, 8], [5, 12]]\n",
    "job_time_windows = [[0, 5], [1, 6], [2, 7], [3, 8], [4, 9]]\n",
    "job_durations = [2, 3, 2, 4, 3]\n",
    "job_earnings = [10, 15, 12, 18, 13]\n",
    "\n",
    "# Define the fitness function\n",
    "def fitness_function(solution):\n",
    "    total_cost = 0\n",
    "    total_earnings = 0\n",
    "    for i in range(num_jobs):\n",
    "        start_time = solution[i]\n",
    "        end_time = start_time + job_durations[i]\n",
    "        worker = -1\n",
    "        for j in range(num_workers):\n",
    "            if start_time >= worker_time_windows[j][0] and end_time <= worker_time_windows[j][1]:\n",
    "                worker = j\n",
    "                break\n",
    "        if worker == -1:\n",
    "            total_cost += float(\"inf\")\n",
    "        else:\n",
    "            # Calculate the cost based on the distance traveled by the worker\n",
    "            if i == 0:\n",
    "                distance_cost = 0\n",
    "            else:\n",
    "                prev_job_end_time = solution[i - 1] + job_durations[i - 1]\n",
    "                distance_cost = abs(job_time_windows[i][0] - job_time_windows[i - 1][1]) + abs(worker_time_windows[worker][0] - job_time_windows[i][0])\n",
    "            total_cost += distance_cost\n",
    "            # Calculate the earnings based on the money earned by the worker for doing the job\n",
    "            total_earnings += job_earnings[i]\n",
    "    return total_earnings - total_cost\n",
    "\n",
    "# Define the initial population\n",
    "def initial_population(population_size):\n",
    "    population = []\n",
    "    for i in range(population_size):\n",
    "        individual = []\n",
    "        for j in range(num_jobs):\n",
    "            start_time = random.randint(job_time_windows[j][0], job_time_windows[j][1] - job_durations[j])\n",
    "            individual.append(start_time)\n",
    "        population.append(individual)\n",
    "    return population\n",
    "\n",
    "# Define the selection function\n",
    "def selection(population, tournament_size):\n",
    "    tournament = random.sample(population, tournament_size)\n",
    "    winner = max(tournament, key=fitness_function)\n",
    "    return winner\n",
    "\n",
    "# Define the crossover function\n",
    "def crossover(parent1, parent2):\n",
    "    child = []\n",
    "    for i in range(num_jobs):\n",
    "        if random.random() < 0.5:\n",
    "            child.append(parent1[i])\n",
    "        else:\n",
    "            child.append(parent2[i])\n",
    "    return child\n",
    "\n",
    "# Define the mutation function\n",
    "def mutation(individual, mutation_rate):\n",
    "    for i in range(num_jobs):\n",
    "        if random.random() < mutation_rate:\n",
    "            individual[i] = random.randint(job_time_windows[i][0], job_time_windows[i][1] - job_durations[i])\n",
    "    return individual\n",
    "\n",
    "# Define the genetic algorithm\n",
    "def genetic_algorithm(population_size, tournament_size, crossover_rate, mutation_rate, num_generations):\n",
    "    # Initialize the population\n",
    "    population = initial_population(population_size)\n",
    "\n",
    "    # Loop through generations\n",
    "    for generation in range(num_generations):\n",
    "        # Create a new population\n",
    "        new_population = []\n",
    "\n",
    "        # Add the best individual from the previous generation\n",
    "        best_individual = max(population, key=fitness_function)\n",
    "        new_population.append(best_individual)\n",
    "\n",
    "        # Generate the rest of the population through selection, crossover,\n"
   ]
  },
  {
   "cell_type": "code",
   "execution_count": 8,
   "metadata": {},
   "outputs": [
    {
     "name": "stdout",
     "output_type": "stream",
     "text": [
      "Best solution found:\n",
      "No feasible solution found within the given number of generations.\n"
     ]
    }
   ],
   "source": [
    "population_size = 50\n",
    "tournament_size = 5\n",
    "crossover_rate = 0.8\n",
    "mutation_rate = 0.1\n",
    "num_generations = 100\n",
    "\n",
    "best_solution = genetic_algorithm(population_size, tournament_size, crossover_rate, mutation_rate, num_generations)\n",
    "\n",
    "print(\"Best solution found:\")\n",
    "if best_solution is not None:\n",
    "    print(\"Best solution found:\")\n",
    "    print(best_solution)\n",
    "    print(\"Fitness value:\", fitness_function(best_solution))\n",
    "else:\n",
    "    print(\"No feasible solution found within the given number of generations.\")\n"
   ]
  },
  {
   "cell_type": "code",
   "execution_count": null,
   "metadata": {},
   "outputs": [],
   "source": []
  },
  {
   "cell_type": "code",
   "execution_count": null,
   "metadata": {},
   "outputs": [],
   "source": []
  },
  {
   "cell_type": "code",
   "execution_count": null,
   "metadata": {},
   "outputs": [],
   "source": []
  },
  {
   "cell_type": "code",
   "execution_count": null,
   "metadata": {},
   "outputs": [],
   "source": []
  },
  {
   "cell_type": "markdown",
   "metadata": {},
   "source": [
    "make a genetic algorithm to solve this problem: \n",
    "\n",
    "there are 3 workers and 13 jobs in different places and they have time windows to do the work. The workers earn money if they do the job. We want to maximze their money. Consider that the distance to move from one job to another is an euclidean distance. The travels the workers do have to consider that they are done in the time window, for that suppose that they move at 50km/h. Also each job has a duration. Finally workers start and finish the day at their home."
   ]
  },
  {
   "cell_type": "code",
   "execution_count": null,
   "metadata": {},
   "outputs": [],
   "source": []
  },
  {
   "cell_type": "code",
   "execution_count": null,
   "metadata": {},
   "outputs": [],
   "source": []
  },
  {
   "cell_type": "code",
   "execution_count": 9,
   "metadata": {},
   "outputs": [],
   "source": [
    "import random\n",
    "import math\n",
    "\n",
    "# Define problem parameters\n",
    "NUM_WORKERS = 3\n",
    "NUM_JOBS = 13\n",
    "MAX_DURATION = 8  # in hours\n",
    "MAX_SPEED = 50  # in km/h\n",
    "\n",
    "# Define chromosome\n",
    "chromosome_length = NUM_JOBS * NUM_WORKERS\n",
    "def generate_chromosome():\n",
    "    return [random.randint(0, NUM_JOBS-1) for _ in range(chromosome_length)]\n",
    "\n",
    "# Define fitness function\n",
    "def calculate_fitness(chromosome):\n",
    "    # Convert chromosome to schedule for each worker\n",
    "    schedules = [[] for _ in range(NUM_WORKERS)]\n",
    "    for i in range(chromosome_length):\n",
    "        worker_index = i % NUM_WORKERS\n",
    "        job_index = chromosome[i]\n",
    "        schedules[worker_index].append(job_index)\n",
    "    \n",
    "    # Calculate total earnings for each worker\n",
    "    total_earnings = [0.0 for _ in range(NUM_WORKERS)]\n",
    "    for worker_index in range(NUM_WORKERS):\n",
    "        current_time = 0.0  # start at home\n",
    "        current_x, current_y = jobs[0][:2]  # start at home\n",
    "        for job_index in schedules[worker_index]:\n",
    "            # Calculate travel time to job\n",
    "            job_x, job_y, job_duration, job_window_start, job_window_end, job_pay = jobs[job_index]\n",
    "            travel_time = math.sqrt((job_x - current_x)**2 + (job_y - current_y)**2) / MAX_SPEED\n",
    "            arrival_time = current_time + travel_time\n",
    "            \n",
    "            # Check if job can be done within time window and before end of day\n",
    "            if arrival_time >= job_window_start and arrival_time + job_duration <= job_window_end and current_time + travel_time + job_duration <= MAX_DURATION:\n",
    "                # Add earnings for job\n",
    "                total_earnings[worker_index] += job_pay\n",
    "                \n",
    "                # Update current time and location\n",
    "                current_time = arrival_time + job_duration\n",
    "                current_x = job_x\n",
    "                current_y = job_y\n",
    "        \n",
    "        # Calculate travel time back home\n",
    "        home_x, home_y, _, _, _, _ = jobs[0]\n",
    "        travel_time = math.sqrt((home_x - current_x)**2 + (home_y - current_y)**2) / MAX_SPEED\n",
    "        current_time += travel_time\n",
    "        \n",
    "    # Return total earnings for all workers\n",
    "    return sum(total_earnings)\n"
   ]
  },
  {
   "cell_type": "code",
   "execution_count": 15,
   "metadata": {},
   "outputs": [],
   "source": [
    "jobs = [\n",
    "    (0, 0, 0, 0, 24, 0),  # home\n",
    "    (10, 20, 2, 9, 11, 10),\n",
    "    (20, 30, 3, 10, 14, 15),\n",
    "    (30, 10, 1, 7, 8, 5),\n",
    "    (40, 20, 2, 11, 13, 10),\n",
    "    (50, 30, 3, 9, 14, 15),\n",
    "    (60, 10, 1, 8, 9, 5),\n",
    "    (70, 20, 2, 10, 12, 10),\n",
    "    (80, 30, 3, 12, 15, 15),\n",
    "    (90, 10, 1, 7, 8, 5),\n",
    "    (100, 20, 2, 9, 11, 10),\n",
    "    (110, 30, 3, 8, 12, 15),\n",
    "    (120, 10, 1, 10, 11, 5),\n",
    "]\n"
   ]
  },
  {
   "cell_type": "code",
   "execution_count": 16,
   "metadata": {},
   "outputs": [],
   "source": [
    "cromos = generate_chromosome()"
   ]
  },
  {
   "cell_type": "code",
   "execution_count": 17,
   "metadata": {},
   "outputs": [
    {
     "data": {
      "text/plain": [
       "0.0"
      ]
     },
     "execution_count": 17,
     "metadata": {},
     "output_type": "execute_result"
    }
   ],
   "source": [
    "calculate_fitness(cromos)"
   ]
  },
  {
   "cell_type": "code",
   "execution_count": null,
   "metadata": {},
   "outputs": [],
   "source": []
  }
 ],
 "metadata": {
  "kernelspec": {
   "display_name": "Python 3 (ipykernel)",
   "language": "python",
   "name": "python3"
  },
  "language_info": {
   "codemirror_mode": {
    "name": "ipython",
    "version": 3
   },
   "file_extension": ".py",
   "mimetype": "text/x-python",
   "name": "python",
   "nbconvert_exporter": "python",
   "pygments_lexer": "ipython3",
   "version": "3.11.2"
  }
 },
 "nbformat": 4,
 "nbformat_minor": 4
}
