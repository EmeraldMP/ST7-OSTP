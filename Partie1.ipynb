{
 "cells": [
  {
   "cell_type": "code",
   "execution_count": 144,
   "metadata": {},
   "outputs": [],
   "source": [
    "import folium\n",
    "import matplotlib.pyplot as plt\n",
    "import numpy as np\n",
    "import pandas as pd\n",
    "import random\n",
    "\n",
    "%matplotlib inline\n",
    "\n",
    "from gurobipy import *"
   ]
  },
  {
   "cell_type": "code",
   "execution_count": 2,
   "metadata": {},
   "outputs": [],
   "source": [
    "path = \"instances\\InstanceBordeauxV1.xlsx\"\n",
    "# Employees\n",
    "df_Workers = pd.read_excel(path, sheet_name=0, index_col='EmployeeName')\n",
    "# Employees unvabilites\n",
    "df_Workers_un = pd.read_excel(path, sheet_name=1, index_col='EmployeeName')\n",
    "# Task\n",
    "df_Task = pd.read_excel(path, sheet_name=2, index_col='TaskId')\n",
    "# Task unvabilites\n",
    "df_Task_un = pd.read_excel(path, sheet_name=3, index_col='TaskId')"
   ]
  },
  {
   "cell_type": "code",
   "execution_count": 3,
   "metadata": {},
   "outputs": [],
   "source": [
    "# Employees\n",
    "dict_Workers = df_Workers.to_dict('index')\n",
    "# Employees unvabilites\n",
    "dict_Workers_un = df_Workers_un.to_dict('index')\n",
    "# Task\n",
    "dict_Task = df_Task.to_dict('index')\n",
    "# Task unvabilites\n",
    "dict_Task_un = df_Task_un.to_dict('index')"
   ]
  },
  {
   "cell_type": "code",
   "execution_count": 207,
   "metadata": {},
   "outputs": [
    {
     "data": {
      "text/plain": [
       "{'Valentin': {'Latitude': 45.15121765523164,\n",
       "  'Longitude': -0.822092647754919,\n",
       "  'Skill': 'Oenology',\n",
       "  'Level': 2,\n",
       "  'WorkingStartTime': '7:00am',\n",
       "  'WorkingEndTime': '5:00pm'},\n",
       " 'Ambre': {'Latitude': 45.19957452440505,\n",
       "  'Longitude': -0.822092647754919,\n",
       "  'Skill': 'Oenology',\n",
       "  'Level': 1,\n",
       "  'WorkingStartTime': '8:00am',\n",
       "  'WorkingEndTime': '6:00pm'}}"
      ]
     },
     "execution_count": 207,
     "metadata": {},
     "output_type": "execute_result"
    }
   ],
   "source": [
    "dict_Workers"
   ]
  },
  {
   "cell_type": "code",
   "execution_count": 208,
   "metadata": {},
   "outputs": [
    {
     "data": {
      "text/plain": [
       "{'T1': {'Latitude': 44.55654938342008,\n",
       "  'Longitude': -0.3193922422375719,\n",
       "  'TaskDuration': 60,\n",
       "  'Skill': 'Oenology',\n",
       "  'Level': 1,\n",
       "  'OpeningTime': '8:00am',\n",
       "  'ClosingTime': '6:00pm'},\n",
       " 'T2': {'Latitude': 44.96750095217799,\n",
       "  'Longitude': -0.6086852638150881,\n",
       "  'TaskDuration': 60,\n",
       "  'Skill': 'Oenology',\n",
       "  'Level': 1,\n",
       "  'OpeningTime': '8:00am',\n",
       "  'ClosingTime': '6:00pm'},\n",
       " 'T3': {'Latitude': 45.14421541464031,\n",
       "  'Longitude': -0.7342570469020379,\n",
       "  'TaskDuration': 60,\n",
       "  'Skill': 'Oenology',\n",
       "  'Level': 2,\n",
       "  'OpeningTime': '8:00am',\n",
       "  'ClosingTime': '6:00pm'},\n",
       " 'T4': {'Latitude': 45.264808304867096,\n",
       "  'Longitude': -0.7717887212411139,\n",
       "  'TaskDuration': 60,\n",
       "  'Skill': 'Oenology',\n",
       "  'Level': 1,\n",
       "  'OpeningTime': '12:00am',\n",
       "  'ClosingTime': '6:00pm'},\n",
       " 'T5': {'Latitude': 45.044422793402624,\n",
       "  'Longitude': -0.6687606009488057,\n",
       "  'TaskDuration': 60,\n",
       "  'Skill': 'Oenology',\n",
       "  'Level': 2,\n",
       "  'OpeningTime': '8:00am',\n",
       "  'ClosingTime': '6:00pm'},\n",
       " 'T6': {'Latitude': 45.19957452440505,\n",
       "  'Longitude': -0.7462077931750715,\n",
       "  'TaskDuration': 60,\n",
       "  'Skill': 'Oenology',\n",
       "  'Level': 2,\n",
       "  'OpeningTime': '8:00am',\n",
       "  'ClosingTime': '6:00pm'},\n",
       " 'T7': {'Latitude': 45.397697776585,\n",
       "  'Longitude': -0.9668192708194538,\n",
       "  'TaskDuration': 60,\n",
       "  'Skill': 'Oenology',\n",
       "  'Level': 1,\n",
       "  'OpeningTime': '8:00am',\n",
       "  'ClosingTime': '6:00pm'},\n",
       " 'T8': {'Latitude': 45.02347908679639,\n",
       "  'Longitude': -0.8072126299796225,\n",
       "  'TaskDuration': 60,\n",
       "  'Skill': 'Oenology',\n",
       "  'Level': 1,\n",
       "  'OpeningTime': '8:00am',\n",
       "  'ClosingTime': '6:00pm'},\n",
       " 'T9': {'Latitude': 45.29291368453335,\n",
       "  'Longitude': -0.9365361007032236,\n",
       "  'TaskDuration': 75,\n",
       "  'Skill': 'Oenology',\n",
       "  'Level': 2,\n",
       "  'OpeningTime': '8:00am',\n",
       "  'ClosingTime': '12:00pm'},\n",
       " 'T10': {'Latitude': 45.08146166752168,\n",
       "  'Longitude': -0.8062453230620741,\n",
       "  'TaskDuration': 60,\n",
       "  'Skill': 'Oenology',\n",
       "  'Level': 1,\n",
       "  'OpeningTime': '8:00am',\n",
       "  'ClosingTime': '6:00pm'}}"
      ]
     },
     "execution_count": 208,
     "metadata": {},
     "output_type": "execute_result"
    }
   ],
   "source": [
    "dict_Task"
   ]
  },
  {
   "attachments": {},
   "cell_type": "markdown",
   "metadata": {},
   "source": [
    "#### Sets"
   ]
  },
  {
   "cell_type": "code",
   "execution_count": 4,
   "metadata": {},
   "outputs": [],
   "source": [
    "Workers = list(df_Workers.index)\n",
    "Skills = list(df_Workers[\"Skill\"].unique())\n",
    "Tasks = list(df_Task.index)\n",
    "Houses = {w: \"HouseOf\" + w for w in Workers}"
   ]
  },
  {
   "attachments": {},
   "cell_type": "markdown",
   "metadata": {},
   "source": [
    "#### Parameters"
   ]
  },
  {
   "attachments": {},
   "cell_type": "markdown",
   "metadata": {},
   "source": [
    "level_skill: level of worker (in Workers) in some skill (of Skills)"
   ]
  },
  {
   "cell_type": "code",
   "execution_count": 36,
   "metadata": {},
   "outputs": [],
   "source": [
    "def time_to_minutes(time_str):\n",
    "    str_hour = time_str[:-2]\n",
    "    am_pm = time_str[-2:]\n",
    "    hour_str, minute = str_hour.split(':')\n",
    "    hour = int(hour_str)\n",
    "    if am_pm == 'pm':\n",
    "        hour += 12\n",
    "    return hour * 60 + int(minute)\n",
    "\n",
    "def minutes_to_time(total_min):\n",
    "    hour = int(total_min//60)\n",
    "    min_ = int(total_min%60)\n",
    "    am_pm = 'am'\n",
    "    if hour > 12:\n",
    "        am_pm = 'pm'\n",
    "        hour -= 12\n",
    "    if hour == 12:\n",
    "        am_pm = 'pm'\n",
    "    time = hour\n",
    "    return f\"{hour:02d}:{min_:02d}{am_pm}\""
   ]
  },
  {
   "cell_type": "code",
   "execution_count": 8,
   "metadata": {},
   "outputs": [
    {
     "data": {
      "text/plain": [
       "{'Valentin': {'Oenology': 2}, 'Ambre': {'Oenology': 1}}"
      ]
     },
     "execution_count": 8,
     "metadata": {},
     "output_type": "execute_result"
    }
   ],
   "source": [
    "df_aux = pd.DataFrame()\n",
    "for skill in Skills:\n",
    "    df_aux[skill] = df_Workers.apply(lambda x: x['Level'] if x['Skill'] == skill else 0, axis=1)\n",
    "l = df_aux.to_dict('index')\n",
    "l"
   ]
  },
  {
   "cell_type": "code",
   "execution_count": 9,
   "metadata": {},
   "outputs": [],
   "source": [
    "# Opening time for taks i\n",
    "a = df_Task.apply(lambda x: int(time_to_minutes(x['OpeningTime'])), axis=1).to_dict()\n",
    "# Closing time for taks i\n",
    "b = df_Task.apply(lambda x: int(time_to_minutes(x['ClosingTime'])), axis=1).to_dict()\n",
    "\n",
    "# time worker w start working\n",
    "alpha = df_Workers.apply(lambda x: int(time_to_minutes(x['WorkingStartTime'])), axis=1).to_dict()\n",
    "# time worker w end working\n",
    "beta = df_Workers.apply(lambda x: int(time_to_minutes(x['WorkingEndTime'])), axis=1).to_dict()\n",
    "\n",
    "# Duration of the task i\n",
    "d = df_Task['TaskDuration'].to_dict()\n",
    "# Skill requierd by task i\n",
    "s = df_Task['Skill'].to_dict()"
   ]
  },
  {
   "cell_type": "code",
   "execution_count": 10,
   "metadata": {},
   "outputs": [
    {
     "data": {
      "text/plain": [
       "{'T1': {'Oenology': 1},\n",
       " 'T2': {'Oenology': 1},\n",
       " 'T3': {'Oenology': 2},\n",
       " 'T4': {'Oenology': 1},\n",
       " 'T5': {'Oenology': 2},\n",
       " 'T6': {'Oenology': 2},\n",
       " 'T7': {'Oenology': 1},\n",
       " 'T8': {'Oenology': 1},\n",
       " 'T9': {'Oenology': 2},\n",
       " 'T10': {'Oenology': 1}}"
      ]
     },
     "execution_count": 10,
     "metadata": {},
     "output_type": "execute_result"
    }
   ],
   "source": [
    "# Level requierd by task i on the skill s\n",
    "df_aux = pd.DataFrame()\n",
    "for skill in Skills:\n",
    "    df_aux[(skill)] = df_Task.apply(lambda x: x['Level'] if x['Skill'] == skill else 100, axis=1)\n",
    "r = df_aux.to_dict('index')\n",
    "r"
   ]
  },
  {
   "cell_type": "code",
   "execution_count": 11,
   "metadata": {},
   "outputs": [],
   "source": [
    "def read_lat_log(df, alias = None):\n",
    "    nodes = {}\n",
    "    for name, dic_inf in df.items():\n",
    "        if alias:\n",
    "            name = alias[name]\n",
    "        nodes[name] = (dic_inf[\"Latitude\"], dic_inf[\"Longitude\"])\n",
    "    return nodes\n",
    "\n",
    "def haversine(pt1, pt2):\n",
    "    R = 6371  # radius of the Earth in kilometers\n",
    "    lat1, lon1, lat2, lon2 = map(np.radians, [pt1[0], pt1[1], pt2[0], pt2[1]])\n",
    "    dlat = lat2 - lat1\n",
    "    dlon = lon2 - lon1\n",
    "    a = np.sin(dlat / 2) ** 2 + np.cos(lat1) * np.cos(lat2) * np.sin(dlon / 2) ** 2\n",
    "    c = 2 * np.arcsin(np.sqrt(a))\n",
    "    return R * c\n",
    "\n",
    "def distance_matrix(nodes):\n",
    "    # Create distance matrix with haversine distance\n",
    "    dist_matrix = {}\n",
    "    for node_i in nodes.keys():\n",
    "        dist_matrix[node_i] = {}\n",
    "        for node_j in nodes.keys():\n",
    "            dist = haversine(nodes[node_i], nodes[node_j])\n",
    "            dist_matrix[node_i][node_j] = int(np.ceil((dist / 50) * 60))\n",
    "    return dist_matrix\n"
   ]
  },
  {
   "cell_type": "code",
   "execution_count": 12,
   "metadata": {},
   "outputs": [
    {
     "data": {
      "text/plain": [
       "93"
      ]
     },
     "execution_count": 12,
     "metadata": {},
     "output_type": "execute_result"
    }
   ],
   "source": [
    "# Denfine the nodes\n",
    "nodes = read_lat_log(dict_Workers, Houses) | read_lat_log(dict_Task)\n",
    "\n",
    "## Define the time matrix in minutes round ceil between a node (task or worker) with another (task or worker)\n",
    "t = distance_matrix(nodes)\n",
    "t['HouseOfValentin']['T1']"
   ]
  },
  {
   "cell_type": "code",
   "execution_count": 13,
   "metadata": {},
   "outputs": [
    {
     "name": "stdout",
     "output_type": "stream",
     "text": [
      "['Valentin', 'Ambre']\n",
      "['Oenology']\n",
      "['T1', 'T2', 'T3', 'T4', 'T5', 'T6', 'T7', 'T8', 'T9', 'T10']\n",
      "{'Valentin': 'HouseOfValentin', 'Ambre': 'HouseOfAmbre'}\n",
      "{'Valentin': {'Oenology': 2}, 'Ambre': {'Oenology': 1}}\n",
      "{'T1': 480, 'T2': 480, 'T3': 480, 'T4': 720, 'T5': 480, 'T6': 480, 'T7': 480, 'T8': 480, 'T9': 480, 'T10': 480}\n",
      "{'T1': 1080, 'T2': 1080, 'T3': 1080, 'T4': 1080, 'T5': 1080, 'T6': 1080, 'T7': 1080, 'T8': 1080, 'T9': 1440, 'T10': 1080}\n",
      "{'Valentin': 420, 'Ambre': 480}\n",
      "{'Valentin': 1020, 'Ambre': 1080}\n",
      "{'T1': 60, 'T2': 60, 'T3': 60, 'T4': 60, 'T5': 60, 'T6': 60, 'T7': 60, 'T8': 60, 'T9': 75, 'T10': 60}\n",
      "{'T1': 'Oenology', 'T2': 'Oenology', 'T3': 'Oenology', 'T4': 'Oenology', 'T5': 'Oenology', 'T6': 'Oenology', 'T7': 'Oenology', 'T8': 'Oenology', 'T9': 'Oenology', 'T10': 'Oenology'}\n",
      "{'T1': {'Oenology': 1}, 'T2': {'Oenology': 1}, 'T3': {'Oenology': 2}, 'T4': {'Oenology': 1}, 'T5': {'Oenology': 2}, 'T6': {'Oenology': 2}, 'T7': {'Oenology': 1}, 'T8': {'Oenology': 1}, 'T9': {'Oenology': 2}, 'T10': {'Oenology': 1}}\n",
      "{'HouseOfValentin': {'HouseOfValentin': 0, 'HouseOfAmbre': 7, 'T1': 93, 'T2': 32, 'T3': 9, 'T4': 16, 'T5': 21, 'T6': 10, 'T7': 36, 'T8': 18, 'T9': 22, 'T10': 10}, 'HouseOfAmbre': {'HouseOfValentin': 7, 'HouseOfAmbre': 0, 'T1': 99, 'T2': 37, 'T3': 12, 'T4': 10, 'T5': 26, 'T6': 8, 'T7': 30, 'T8': 24, 'T9': 17, 'T10': 16}, 'T1': {'HouseOfValentin': 93, 'HouseOfAmbre': 99, 'T1': 0, 'T2': 62, 'T3': 88, 'T4': 104, 'T5': 74, 'T6': 95, 'T7': 128, 'T8': 78, 'T9': 115, 'T10': 84}, 'T2': {'HouseOfValentin': 32, 'HouseOfAmbre': 37, 'T1': 62, 'T2': 0, 'T3': 27, 'T4': 43, 'T5': 12, 'T6': 34, 'T7': 67, 'T8': 21, 'T9': 54, 'T10': 25}, 'T3': {'HouseOfValentin': 9, 'HouseOfAmbre': 12, 'T1': 88, 'T2': 27, 'T3': 0, 'T4': 17, 'T5': 15, 'T6': 8, 'T7': 41, 'T8': 18, 'T9': 28, 'T10': 11}, 'T4': {'HouseOfValentin': 16, 'HouseOfAmbre': 10, 'T1': 104, 'T2': 43, 'T3': 17, 'T4': 0, 'T5': 31, 'T6': 10, 'T7': 26, 'T8': 33, 'T9': 16, 'T10': 25}, 'T5': {'HouseOfValentin': 21, 'HouseOfAmbre': 26, 'T1': 74, 'T2': 12, 'T3': 15, 'T4': 31, 'T5': 0, 'T6': 22, 'T7': 55, 'T8': 14, 'T9': 42, 'T10': 14}, 'T6': {'HouseOfValentin': 10, 'HouseOfAmbre': 8, 'T1': 95, 'T2': 34, 'T3': 8, 'T4': 10, 'T5': 22, 'T6': 0, 'T7': 34, 'T8': 25, 'T9': 22, 'T10': 17}, 'T7': {'HouseOfValentin': 36, 'HouseOfAmbre': 30, 'T1': 128, 'T2': 67, 'T3': 41, 'T4': 26, 'T5': 55, 'T6': 34, 'T7': 0, 'T8': 53, 'T9': 15, 'T10': 45}, 'T8': {'HouseOfValentin': 18, 'HouseOfAmbre': 24, 'T1': 78, 'T2': 21, 'T3': 18, 'T4': 33, 'T5': 14, 'T6': 25, 'T7': 53, 'T8': 0, 'T9': 38, 'T10': 8}, 'T9': {'HouseOfValentin': 22, 'HouseOfAmbre': 17, 'T1': 115, 'T2': 54, 'T3': 28, 'T4': 16, 'T5': 42, 'T6': 22, 'T7': 15, 'T8': 38, 'T9': 0, 'T10': 31}, 'T10': {'HouseOfValentin': 10, 'HouseOfAmbre': 16, 'T1': 84, 'T2': 25, 'T3': 11, 'T4': 25, 'T5': 14, 'T6': 17, 'T7': 45, 'T8': 8, 'T9': 31, 'T10': 0}}\n"
     ]
    }
   ],
   "source": [
    "def init_param():\n",
    "    print(Workers)\n",
    "    print(Skills)\n",
    "    print(Tasks)\n",
    "    print(Houses)\n",
    "    print(l)\n",
    "    print(a)\n",
    "    print(b)\n",
    "    print(alpha)\n",
    "    print(beta)\n",
    "    print(d)\n",
    "    print(s)\n",
    "    print(r)\n",
    "    print(t)\n",
    "\n",
    "init_param()"
   ]
  },
  {
   "attachments": {},
   "cell_type": "markdown",
   "metadata": {},
   "source": [
    "### Les variables"
   ]
  },
  {
   "cell_type": "code",
   "execution_count": 147,
   "metadata": {},
   "outputs": [
    {
     "name": "stdout",
     "output_type": "stream",
     "text": [
      "Gurobi Optimizer version 10.0.0 build v10.0.0rc2 (win64)\n",
      "\n",
      "CPU model: 11th Gen Intel(R) Core(TM) i5-1135G7 @ 2.40GHz, instruction set [SSE2|AVX|AVX2|AVX512]\n",
      "Thread count: 4 physical cores, 8 logical processors, using up to 8 threads\n",
      "\n",
      "Optimize a model with 294 rows, 232 columns and 1484 nonzeros\n",
      "Model fingerprint: 0x98bbebe1\n",
      "Variable types: 0 continuous, 232 integer (222 binary)\n",
      "Coefficient statistics:\n",
      "  Matrix range     [1e+00, 1e+03]\n",
      "  Objective range  [8e+00, 1e+02]\n",
      "  Bounds range     [1e+00, 1e+00]\n",
      "  RHS range        [1e+00, 2e+03]\n",
      "Presolve removed 128 rows and 68 columns\n",
      "Presolve time: 0.02s\n",
      "Presolved: 166 rows, 164 columns, 802 nonzeros\n",
      "Variable types: 0 continuous, 164 integer (154 binary)\n",
      "\n",
      "Root relaxation: objective 2.226646e+02, 42 iterations, 0.00 seconds (0.00 work units)\n",
      "\n",
      "    Nodes    |    Current Node    |     Objective Bounds      |     Work\n",
      " Expl Unexpl |  Obj  Depth IntInf | Incumbent    BestBd   Gap | It/Node Time\n",
      "\n",
      "     0     0  222.66460    0   20          -  222.66460      -     -    0s\n",
      "H    0     0                     349.0000000  247.44737  29.1%     -    0s\n",
      "     0     0  247.44737    0   22  349.00000  247.44737  29.1%     -    0s\n",
      "     0     0  249.00000    0   28  349.00000  249.00000  28.7%     -    0s\n",
      "     0     0  249.00000    0   26  349.00000  249.00000  28.7%     -    0s\n",
      "     0     0  251.00000    0   25  349.00000  251.00000  28.1%     -    0s\n",
      "     0     0  251.00000    0   25  349.00000  251.00000  28.1%     -    0s\n",
      "     0     0  251.00000    0   25  349.00000  251.00000  28.1%     -    0s\n",
      "     0     0  251.00000    0   20  349.00000  251.00000  28.1%     -    0s\n",
      "     0     2  256.00000    0   20  349.00000  256.00000  26.6%     -    0s\n",
      "H  243   207                     342.0000000  256.89046  24.9%   6.3    0s\n",
      "*  250   207              25     341.0000000  256.89046  24.7%   6.3    0s\n",
      "H  370   265                     339.0000000  258.81923  23.7%   6.2    0s\n",
      "H  617   394                     338.0000000  262.54510  22.3%   6.1    0s\n",
      "*  817   578              25     335.0000000  264.00000  21.2%   5.8    0s\n",
      "*  844   558              15     318.0000000  264.16404  16.9%   5.8    0s\n",
      "\n",
      "Cutting planes:\n",
      "  Learned: 4\n",
      "  Gomory: 15\n",
      "  Cover: 30\n",
      "  Implied bound: 12\n",
      "  Projected implied bound: 13\n",
      "  Clique: 1\n",
      "  MIR: 18\n",
      "  StrongCG: 2\n",
      "  Flow cover: 10\n",
      "  GUB cover: 2\n",
      "  Inf proof: 1\n",
      "  Zero half: 6\n",
      "  RLT: 20\n",
      "  Relax-and-lift: 5\n",
      "\n",
      "Explored 19334 nodes (151481 simplex iterations) in 2.39 seconds (1.32 work units)\n",
      "Thread count was 8 (of 8 available processors)\n",
      "\n",
      "Solution count 7: 318 335 338 ... 349\n",
      "\n",
      "Optimal solution found (tolerance 1.00e-04)\n",
      "Best objective 3.180000000000e+02, best bound 3.180000000000e+02, gap 0.0000%\n"
     ]
    }
   ],
   "source": [
    "def init_param():\n",
    "    return Workers, Skills, Tasks, l, a, b, alpha, beta, d, s, r, t\n",
    "\n",
    "## initialisation du modèle\n",
    "m = Model(\"Phase 1\")\n",
    "\n",
    "\n",
    "## initialisation des variables \n",
    "X = {(i, j, w): m.addVar(vtype=GRB.BINARY, name=f\"{w}_fait_le_trajet_{i}_à_{j}\") for w in Workers for j in Tasks for i in Tasks if j != i} |\\\n",
    "      {(i, Houses[w], w): m.addVar(vtype=GRB.BINARY, name=f\"{w}_fait_le_trajet_{i}_à_{Houses[w]}\") for w in Workers for i in Tasks} |\\\n",
    "          {(Houses[w], j, w): m.addVar(vtype=GRB.BINARY, name=f\"{w}_fait_le_trajet_{Houses[w]}_à_{j}\") for j in Tasks for w in Workers} |\\\n",
    "              {(Houses[w], Houses[w], w): m.addVar(vtype=GRB.BINARY, name=f\"{w}_fait_le_trajet_{Houses[w]}_à_{Houses[w]}\") for w in Workers}\n",
    "\n",
    "T = {i: m.addVar(vtype=GRB.INTEGER, name=f\"temps_début_tâche_{i}\") for i in Tasks}\n",
    "\n",
    "## Variables additionnelles\n",
    "\n",
    "Y = {(i, w): LinExpr(quicksum([X[(i, j, w)] for j in Tasks + [Houses[w]] if j != i])) for i in Tasks for w in Workers}\n",
    "Y_bis = {(i, w): LinExpr(quicksum([X[(j, i, w)] for j in Tasks + [Houses[w]] if j != i])) for i in Tasks for w in Workers}\n",
    "\n",
    "## initialisation des contraintes\n",
    "\n",
    "## 1- All tasks have to be done once\n",
    "ContrDone = {i: m.addConstr(quicksum([Y[(i, w)] for w in Workers])  == 1) for i in Tasks}\n",
    "\n",
    "## 2 -Workers have to be capable of doing the Tasks\n",
    "MS = 10\n",
    "ContrSkill = {(i, w, s):m.addConstr(r[i][s] <= l[w][s] + MS*(1 - Y[(i, w)])) for i in Tasks for w in Workers for s in Skills}\n",
    "\n",
    "## 3- flow restriction\n",
    "ContrFlow = {(i, w): m.addConstr(Y[(i, w)] == Y_bis[(i, w)]) for i in Tasks for w in Workers}\n",
    "\n",
    "## 4- Border flow conditions\n",
    "ContrBorderL = {w: m.addConstr(quicksum([X[(i, Houses[w], w)] for i in Tasks + [Houses[w]]]) == 1) for w in Workers}\n",
    "ContrBorderR = {w: m.addConstr(quicksum([X[(Houses[w], j, w)] for j in Tasks + [Houses[w]]]) == 1) for w in Workers}\n",
    "\n",
    "## 5- Task disponibility\n",
    "ContrTaskDisp = {i: m.addConstr(a[i] <= T[i]) for i in Tasks}\n",
    "ContrTaskDisp = {i: m.addConstr(T[i] + d[i] <= b[i]) for i in Tasks}\n",
    "\n",
    "## 6- task sequence is possible\n",
    "MT = 24*60\n",
    "ContrSeq = {(i, j, w): m.addConstr(T[i] + d[i] + t[i][j] <= T[j] + MT*(1 - X[(i, j, w)])) for i in Tasks for j in Tasks for w in Workers if i != j}\n",
    "\n",
    "## 7- Border task sequence conditions\n",
    "ContrBorderSeqDeb = {(Houses[w], j, w): m.addConstr(alpha[w] + t[Houses[w]][j] <= T[j] + MT*(1 - X[(Houses[w], j, w)])) for j in Tasks for w in Workers}\n",
    "ContrBorderSeqFin = {(i, Houses[w], w): m.addConstr(T[i] + d[i] + t[i][Houses[w]] <= beta[w] + MT*(1 - X[(i, Houses[w], w)])) for i in Tasks for w in Workers}\n",
    "\n",
    "## 8- Employees have unavailabilities\n",
    "\n",
    "\n",
    "## Initialisation de l'objectif\n",
    "m.setObjective(quicksum([t[i][j]*X[(i, j, w)] for (i, j, w) in X.keys()]), GRB.MINIMIZE)\n",
    "\n",
    "m.update()\n",
    "m.optimize()"
   ]
  },
  {
   "cell_type": "code",
   "execution_count": 148,
   "metadata": {},
   "outputs": [
    {
     "name": "stdout",
     "output_type": "stream",
     "text": [
      "Valentin_fait_le_trajet_T6_à_T3 à 02:18pm\n",
      "Valentin_fait_le_trajet_T7_à_T4 à 12:00pm\n",
      "Valentin_fait_le_trajet_T3_à_T5 à 03:39pm\n",
      "Valentin_fait_le_trajet_T4_à_T6 à 01:10pm\n",
      "Valentin_fait_le_trajet_T9_à_T7 à 10:34am\n",
      "Ambre_fait_le_trajet_T2_à_T1 à 10:39am\n",
      "Ambre_fait_le_trajet_T1_à_T8 à 03:36pm\n",
      "Ambre_fait_le_trajet_T8_à_T10 à 04:44pm\n",
      "Valentin_fait_le_trajet_T5_à_HouseOfValentin\n",
      "Ambre_fait_le_trajet_T10_à_HouseOfAmbre\n",
      "Ambre_fait_le_trajet_HouseOfAmbre_à_T2 à 08:37am\n",
      "Valentin_fait_le_trajet_HouseOfValentin_à_T9 à 09:04am\n"
     ]
    }
   ],
   "source": [
    "for (i, j, w) in X.keys():\n",
    "    if X[(i, j, w)].x:\n",
    "        if j in Tasks:\n",
    "            print(X[(i, j, w)].VarName, \"à\", minutes_to_time(T[j].x))\n",
    "        else:\n",
    "             print(X[(i, j, w)].VarName)"
   ]
  },
  {
   "cell_type": "code",
   "execution_count": 149,
   "metadata": {},
   "outputs": [
    {
     "name": "stdout",
     "output_type": "stream",
     "text": [
      "['taskId', 'performed', 'employeeName', 'startTime']\n",
      "['T1', 1, 'Ambre', 639]\n",
      "['T2', 1, 'Ambre', 517]\n",
      "['T3', 1, 'Valentin', 858]\n",
      "['T4', 1, 'Valentin', 720]\n",
      "['T5', 1, 'Valentin', 939]\n",
      "['T6', 1, 'Valentin', 790]\n",
      "['T7', 1, 'Valentin', 634]\n",
      "['T8', 1, 'Ambre', 936]\n",
      "['T9', 1, 'Valentin', 544]\n",
      "['T10', 1, 'Ambre', 1004]\n"
     ]
    }
   ],
   "source": [
    "print(['taskId', 'performed', 'employeeName', 'startTime'])\n",
    "\n",
    "# all_rutes = {worker:['HouseOf'+str(worker)] for worker in Workers}\n",
    "all_rutes = {worker:[] for worker in Workers}\n",
    "for taks in T.keys():\n",
    "    result = [taks]\n",
    "    if T[taks].x == 0:\n",
    "        result.append(0)\n",
    "        result += ['','']\n",
    "    else:\n",
    "        result.append(1)\n",
    "        for (i, j, w) in X.keys():\n",
    "            if i == taks:\n",
    "                if X[(i, j, w)].x:\n",
    "                    result.append(w)\n",
    "                    all_rutes[w].append(result)\n",
    "        result.append(int(T[taks].x))\n",
    "    print(result)"
   ]
  },
  {
   "cell_type": "code",
   "execution_count": 150,
   "metadata": {},
   "outputs": [],
   "source": [
    "# sort the routes in order of time for each worker\n",
    "for w in all_rutes.keys():\n",
    "    all_rutes[w] = sorted(all_rutes[w], key=lambda x: x[3])\n",
    "    \n",
    "# get the coordinates of the route for each worker\n",
    "routes_lat_log = {worker:[] for worker in Workers}\n",
    "for w in Workers:\n",
    "    routes_lat_log[w].append(nodes['HouseOf'+w])\n",
    "    routes_lat_log[w] += [nodes[task[0]] for task in all_rutes[w]]\n",
    "    routes_lat_log[w].append(nodes['HouseOf'+w])\n"
   ]
  },
  {
   "cell_type": "code",
   "execution_count": 152,
   "metadata": {},
   "outputs": [
    {
     "data": {
      "text/html": [
       "<div style=\"width:100%;\"><div style=\"position:relative;width:100%;height:0;padding-bottom:60%;\"><span style=\"color:#565656\">Make this Notebook Trusted to load map: File -> Trust Notebook</span><iframe srcdoc=\"&lt;!DOCTYPE html&gt;\n",
       "&lt;html&gt;\n",
       "&lt;head&gt;\n",
       "    \n",
       "    &lt;meta http-equiv=&quot;content-type&quot; content=&quot;text/html; charset=UTF-8&quot; /&gt;\n",
       "    \n",
       "        &lt;script&gt;\n",
       "            L_NO_TOUCH = false;\n",
       "            L_DISABLE_3D = false;\n",
       "        &lt;/script&gt;\n",
       "    \n",
       "    &lt;style&gt;html, body {width: 100%;height: 100%;margin: 0;padding: 0;}&lt;/style&gt;\n",
       "    &lt;style&gt;#map {position:absolute;top:0;bottom:0;right:0;left:0;}&lt;/style&gt;\n",
       "    &lt;script src=&quot;https://cdn.jsdelivr.net/npm/leaflet@1.9.3/dist/leaflet.js&quot;&gt;&lt;/script&gt;\n",
       "    &lt;script src=&quot;https://code.jquery.com/jquery-1.12.4.min.js&quot;&gt;&lt;/script&gt;\n",
       "    &lt;script src=&quot;https://cdn.jsdelivr.net/npm/bootstrap@5.2.2/dist/js/bootstrap.bundle.min.js&quot;&gt;&lt;/script&gt;\n",
       "    &lt;script src=&quot;https://cdnjs.cloudflare.com/ajax/libs/Leaflet.awesome-markers/2.0.2/leaflet.awesome-markers.js&quot;&gt;&lt;/script&gt;\n",
       "    &lt;link rel=&quot;stylesheet&quot; href=&quot;https://cdn.jsdelivr.net/npm/leaflet@1.9.3/dist/leaflet.css&quot;/&gt;\n",
       "    &lt;link rel=&quot;stylesheet&quot; href=&quot;https://cdn.jsdelivr.net/npm/bootstrap@5.2.2/dist/css/bootstrap.min.css&quot;/&gt;\n",
       "    &lt;link rel=&quot;stylesheet&quot; href=&quot;https://netdna.bootstrapcdn.com/bootstrap/3.0.0/css/bootstrap.min.css&quot;/&gt;\n",
       "    &lt;link rel=&quot;stylesheet&quot; href=&quot;https://cdn.jsdelivr.net/npm/@fortawesome/fontawesome-free@6.2.0/css/all.min.css&quot;/&gt;\n",
       "    &lt;link rel=&quot;stylesheet&quot; href=&quot;https://cdnjs.cloudflare.com/ajax/libs/Leaflet.awesome-markers/2.0.2/leaflet.awesome-markers.css&quot;/&gt;\n",
       "    &lt;link rel=&quot;stylesheet&quot; href=&quot;https://cdn.jsdelivr.net/gh/python-visualization/folium/folium/templates/leaflet.awesome.rotate.min.css&quot;/&gt;\n",
       "    \n",
       "            &lt;meta name=&quot;viewport&quot; content=&quot;width=device-width,\n",
       "                initial-scale=1.0, maximum-scale=1.0, user-scalable=no&quot; /&gt;\n",
       "            &lt;style&gt;\n",
       "                #map_b9d42a9fd5d9ad9d131476f2b8ebab4a {\n",
       "                    position: relative;\n",
       "                    width: 100.0%;\n",
       "                    height: 100.0%;\n",
       "                    left: 0.0%;\n",
       "                    top: 0.0%;\n",
       "                }\n",
       "                .leaflet-container { font-size: 1rem; }\n",
       "            &lt;/style&gt;\n",
       "        \n",
       "&lt;/head&gt;\n",
       "&lt;body&gt;\n",
       "    \n",
       "    \n",
       "            &lt;div class=&quot;folium-map&quot; id=&quot;map_b9d42a9fd5d9ad9d131476f2b8ebab4a&quot; &gt;&lt;/div&gt;\n",
       "        \n",
       "&lt;/body&gt;\n",
       "&lt;script&gt;\n",
       "    \n",
       "    \n",
       "            var map_b9d42a9fd5d9ad9d131476f2b8ebab4a = L.map(\n",
       "                &quot;map_b9d42a9fd5d9ad9d131476f2b8ebab4a&quot;,\n",
       "                {\n",
       "                    center: [45.15121765523164, -0.822092647754919],\n",
       "                    crs: L.CRS.EPSG3857,\n",
       "                    zoom: 10,\n",
       "                    zoomControl: true,\n",
       "                    preferCanvas: false,\n",
       "                }\n",
       "            );\n",
       "\n",
       "            \n",
       "\n",
       "        \n",
       "    \n",
       "            var tile_layer_14494b265842bb0794ad13c37236d98e = L.tileLayer(\n",
       "                &quot;https://{s}.tile.openstreetmap.org/{z}/{x}/{y}.png&quot;,\n",
       "                {&quot;attribution&quot;: &quot;Data by \\u0026copy; \\u003ca target=\\&quot;_blank\\&quot; href=\\&quot;http://openstreetmap.org\\&quot;\\u003eOpenStreetMap\\u003c/a\\u003e, under \\u003ca target=\\&quot;_blank\\&quot; href=\\&quot;http://www.openstreetmap.org/copyright\\&quot;\\u003eODbL\\u003c/a\\u003e.&quot;, &quot;detectRetina&quot;: false, &quot;maxNativeZoom&quot;: 18, &quot;maxZoom&quot;: 18, &quot;minZoom&quot;: 0, &quot;noWrap&quot;: false, &quot;opacity&quot;: 1, &quot;subdomains&quot;: &quot;abc&quot;, &quot;tms&quot;: false}\n",
       "            ).addTo(map_b9d42a9fd5d9ad9d131476f2b8ebab4a);\n",
       "        \n",
       "    \n",
       "            var marker_a2839fe2f6a467a2edb6ac0ba2e6ce45 = L.marker(\n",
       "                [45.15121765523164, -0.822092647754919],\n",
       "                {}\n",
       "            ).addTo(map_b9d42a9fd5d9ad9d131476f2b8ebab4a);\n",
       "        \n",
       "    \n",
       "            var marker_2c9ac02c40e8be7c4cbe9298f785208b = L.marker(\n",
       "                [45.19957452440505, -0.822092647754919],\n",
       "                {}\n",
       "            ).addTo(map_b9d42a9fd5d9ad9d131476f2b8ebab4a);\n",
       "        \n",
       "    \n",
       "            var marker_f9192465599951b35b1aa0cf13904ad6 = L.marker(\n",
       "                [44.55654938342008, -0.3193922422375719],\n",
       "                {}\n",
       "            ).addTo(map_b9d42a9fd5d9ad9d131476f2b8ebab4a);\n",
       "        \n",
       "    \n",
       "            var marker_3a630bdc118000e84e2c90f3c91a64f7 = L.marker(\n",
       "                [44.96750095217799, -0.6086852638150881],\n",
       "                {}\n",
       "            ).addTo(map_b9d42a9fd5d9ad9d131476f2b8ebab4a);\n",
       "        \n",
       "    \n",
       "            var marker_3da523b261c9137b0d1c12edfc0f1b5e = L.marker(\n",
       "                [45.14421541464031, -0.7342570469020379],\n",
       "                {}\n",
       "            ).addTo(map_b9d42a9fd5d9ad9d131476f2b8ebab4a);\n",
       "        \n",
       "    \n",
       "            var marker_7524696bd07ab09c295b0e499fadc9a4 = L.marker(\n",
       "                [45.264808304867096, -0.7717887212411139],\n",
       "                {}\n",
       "            ).addTo(map_b9d42a9fd5d9ad9d131476f2b8ebab4a);\n",
       "        \n",
       "    \n",
       "            var marker_202852d11c2d96fde903067faaa0a139 = L.marker(\n",
       "                [45.044422793402624, -0.6687606009488057],\n",
       "                {}\n",
       "            ).addTo(map_b9d42a9fd5d9ad9d131476f2b8ebab4a);\n",
       "        \n",
       "    \n",
       "            var marker_f509165b5b946f191a2e5602338310ce = L.marker(\n",
       "                [45.19957452440505, -0.7462077931750715],\n",
       "                {}\n",
       "            ).addTo(map_b9d42a9fd5d9ad9d131476f2b8ebab4a);\n",
       "        \n",
       "    \n",
       "            var marker_a0f77583c2c29e6e9809bff7e687fb4b = L.marker(\n",
       "                [45.397697776585, -0.9668192708194538],\n",
       "                {}\n",
       "            ).addTo(map_b9d42a9fd5d9ad9d131476f2b8ebab4a);\n",
       "        \n",
       "    \n",
       "            var marker_058e99839a25bd5a229e43e8b9f3801b = L.marker(\n",
       "                [45.02347908679639, -0.8072126299796225],\n",
       "                {}\n",
       "            ).addTo(map_b9d42a9fd5d9ad9d131476f2b8ebab4a);\n",
       "        \n",
       "    \n",
       "            var marker_def86082bd9b0345fb862efb7af18eb2 = L.marker(\n",
       "                [45.29291368453335, -0.9365361007032236],\n",
       "                {}\n",
       "            ).addTo(map_b9d42a9fd5d9ad9d131476f2b8ebab4a);\n",
       "        \n",
       "    \n",
       "            var marker_971b1c4df6bceb93a0bc7be03cec823f = L.marker(\n",
       "                [45.08146166752168, -0.8062453230620741],\n",
       "                {}\n",
       "            ).addTo(map_b9d42a9fd5d9ad9d131476f2b8ebab4a);\n",
       "        \n",
       "    \n",
       "            var poly_line_94f9a95f01cbdc5e0c1e314255af245c = L.polyline(\n",
       "                [[45.15121765523164, -0.822092647754919], [45.29291368453335, -0.9365361007032236], [45.397697776585, -0.9668192708194538], [45.264808304867096, -0.7717887212411139], [45.19957452440505, -0.7462077931750715], [45.14421541464031, -0.7342570469020379], [45.044422793402624, -0.6687606009488057], [45.15121765523164, -0.822092647754919]],\n",
       "                {&quot;bubblingMouseEvents&quot;: true, &quot;color&quot;: &quot;#6c5294&quot;, &quot;dashArray&quot;: null, &quot;dashOffset&quot;: null, &quot;fill&quot;: false, &quot;fillColor&quot;: &quot;#6c5294&quot;, &quot;fillOpacity&quot;: 0.2, &quot;fillRule&quot;: &quot;evenodd&quot;, &quot;lineCap&quot;: &quot;round&quot;, &quot;lineJoin&quot;: &quot;round&quot;, &quot;noClip&quot;: false, &quot;opacity&quot;: 1.0, &quot;smoothFactor&quot;: 1.0, &quot;stroke&quot;: true, &quot;weight&quot;: 4}\n",
       "            ).addTo(map_b9d42a9fd5d9ad9d131476f2b8ebab4a);\n",
       "        \n",
       "    \n",
       "            var poly_line_37e0dfc1f64e98d7700ba05c65f0f0f4 = L.polyline(\n",
       "                [[45.19957452440505, -0.822092647754919], [44.96750095217799, -0.6086852638150881], [44.55654938342008, -0.3193922422375719], [45.02347908679639, -0.8072126299796225], [45.08146166752168, -0.8062453230620741], [45.19957452440505, -0.822092647754919]],\n",
       "                {&quot;bubblingMouseEvents&quot;: true, &quot;color&quot;: &quot;#3aad6d&quot;, &quot;dashArray&quot;: null, &quot;dashOffset&quot;: null, &quot;fill&quot;: false, &quot;fillColor&quot;: &quot;#3aad6d&quot;, &quot;fillOpacity&quot;: 0.2, &quot;fillRule&quot;: &quot;evenodd&quot;, &quot;lineCap&quot;: &quot;round&quot;, &quot;lineJoin&quot;: &quot;round&quot;, &quot;noClip&quot;: false, &quot;opacity&quot;: 1.0, &quot;smoothFactor&quot;: 1.0, &quot;stroke&quot;: true, &quot;weight&quot;: 4}\n",
       "            ).addTo(map_b9d42a9fd5d9ad9d131476f2b8ebab4a);\n",
       "        \n",
       "&lt;/script&gt;\n",
       "&lt;/html&gt;\" style=\"position:absolute;width:100%;height:100%;left:0;top:0;border:none !important;\" allowfullscreen webkitallowfullscreen mozallowfullscreen></iframe></div></div>"
      ],
      "text/plain": [
       "<folium.folium.Map at 0x2652ec597f0>"
      ]
     },
     "execution_count": 152,
     "metadata": {},
     "output_type": "execute_result"
    }
   ],
   "source": [
    "# create a map centered on the first point of the first route\n",
    "m = folium.Map(location=nodes['HouseOf'+Workers[0]], zoom_start=10)\n",
    "\n",
    "# add markers for each point in the first route\n",
    "for node in nodes.values():\n",
    "    folium.Marker(location=node).add_to(m)\n",
    "\n",
    "# add a polyline to connect the markers for the second route\n",
    "for route in routes_lat_log.values():\n",
    "    color = '#{:06x}'.format(random.randint(0, 0xFFFFFF))\n",
    "    folium.PolyLine(locations=route, color=color, weight=4).add_to(m)\n",
    "\n",
    "# show the map\n",
    "m\n"
   ]
  }
 ],
 "metadata": {
  "kernelspec": {
   "display_name": "base",
   "language": "python",
   "name": "python3"
  },
  "language_info": {
   "codemirror_mode": {
    "name": "ipython",
    "version": 3
   },
   "file_extension": ".py",
   "mimetype": "text/x-python",
   "name": "python",
   "nbconvert_exporter": "python",
   "pygments_lexer": "ipython3",
   "version": "3.9.7"
  },
  "orig_nbformat": 4,
  "vscode": {
   "interpreter": {
    "hash": "a8ded9b74ccb88e90e398136a6dc66a8e7d6129c1130f692db445cc7468daed1"
   }
  }
 },
 "nbformat": 4,
 "nbformat_minor": 2
}
