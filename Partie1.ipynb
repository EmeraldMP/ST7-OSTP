{
 "cells": [
  {
   "cell_type": "code",
   "execution_count": 1,
   "metadata": {},
   "outputs": [],
   "source": [
    "import matplotlib.pyplot as plt\n",
    "import pandas as pd\n",
    "import numpy as np\n",
    "from haversine import haversine\n",
    "%matplotlib inline\n",
    "\n",
    "# Module relatif à Gurobi\n",
    "from gurobipy import *\n",
    "\n",
    "# Module csv\n",
    "import csv"
   ]
  },
  {
   "cell_type": "code",
   "execution_count": 2,
   "metadata": {},
   "outputs": [],
   "source": [
    "path = \"V1\\instances\\InstanceBordeauxV1.xlsx\"\n",
    "# Employees\n",
    "df_Workers = pd.read_excel(path, sheet_name=0, index_col='EmployeeName')\n",
    "# Employees unvabilites\n",
    "df_Workers_un = pd.read_excel(path, sheet_name=1, index_col='EmployeeName')\n",
    "# Task\n",
    "df_Task = pd.read_excel(path, sheet_name=2, index_col='TaskId')\n",
    "# Task unvabilites\n",
    "df_Task_un = pd.read_excel(path, sheet_name=3, index_col='TaskId')"
   ]
  },
  {
   "cell_type": "code",
   "execution_count": 3,
   "metadata": {},
   "outputs": [],
   "source": [
    "# Employees\n",
    "dict_Workers = df_Workers.to_dict('index')\n",
    "# Employees unvabilites\n",
    "dict_Workers_un = df_Workers_un.to_dict('index')\n",
    "# Task\n",
    "dict_Task = df_Task.to_dict('index')\n",
    "# Task unvabilites\n",
    "dict_Task_un = df_Task_un.to_dict('index')"
   ]
  },
  {
   "cell_type": "code",
   "execution_count": 4,
   "metadata": {},
   "outputs": [
    {
     "data": {
      "text/plain": [
       "{'Valentin': {'Latitude': 45.15121765523164,\n",
       "  'Longitude': -0.822092647754919,\n",
       "  'Skill': 'Oenology',\n",
       "  'Level': 2,\n",
       "  'WorkingStartTime': '8:00am',\n",
       "  'WorkingEndTime': '6:00pm'},\n",
       " 'Ambre': {'Latitude': 45.15121765523164,\n",
       "  'Longitude': -0.822092647754919,\n",
       "  'Skill': 'Oenology',\n",
       "  'Level': 1,\n",
       "  'WorkingStartTime': '8:00am',\n",
       "  'WorkingEndTime': '6:00pm'}}"
      ]
     },
     "execution_count": 4,
     "metadata": {},
     "output_type": "execute_result"
    }
   ],
   "source": [
    "dict_Workers"
   ]
  },
  {
   "cell_type": "code",
   "execution_count": 5,
   "metadata": {},
   "outputs": [
    {
     "data": {
      "text/plain": [
       "{'T1': {'Latitude': 44.55654938342008,\n",
       "  'Longitude': -0.3193922422375719,\n",
       "  'TaskDuration': 60,\n",
       "  'Skill': 'Oenology',\n",
       "  'Level': 1,\n",
       "  'OpeningTime': '8:00am',\n",
       "  'ClosingTime': '6:00pm'},\n",
       " 'T2': {'Latitude': 44.96750095217799,\n",
       "  'Longitude': -0.6086852638150881,\n",
       "  'TaskDuration': 60,\n",
       "  'Skill': 'Oenology',\n",
       "  'Level': 1,\n",
       "  'OpeningTime': '8:00am',\n",
       "  'ClosingTime': '6:00pm'},\n",
       " 'T3': {'Latitude': 45.14421541464031,\n",
       "  'Longitude': -0.7342570469020379,\n",
       "  'TaskDuration': 60,\n",
       "  'Skill': 'Oenology',\n",
       "  'Level': 2,\n",
       "  'OpeningTime': '8:00am',\n",
       "  'ClosingTime': '6:00pm'},\n",
       " 'T4': {'Latitude': 45.264808304867096,\n",
       "  'Longitude': -0.7717887212411139,\n",
       "  'TaskDuration': 60,\n",
       "  'Skill': 'Oenology',\n",
       "  'Level': 1,\n",
       "  'OpeningTime': '8:00am',\n",
       "  'ClosingTime': '6:00pm'},\n",
       " 'T5': {'Latitude': 45.044422793402624,\n",
       "  'Longitude': -0.6687606009488057,\n",
       "  'TaskDuration': 60,\n",
       "  'Skill': 'Oenology',\n",
       "  'Level': 2,\n",
       "  'OpeningTime': '8:00am',\n",
       "  'ClosingTime': '6:00pm'},\n",
       " 'T6': {'Latitude': 45.19957452440505,\n",
       "  'Longitude': -0.7462077931750715,\n",
       "  'TaskDuration': 60,\n",
       "  'Skill': 'Oenology',\n",
       "  'Level': 2,\n",
       "  'OpeningTime': '8:00am',\n",
       "  'ClosingTime': '6:00pm'},\n",
       " 'T7': {'Latitude': 45.397697776585,\n",
       "  'Longitude': -0.9668192708194538,\n",
       "  'TaskDuration': 60,\n",
       "  'Skill': 'Oenology',\n",
       "  'Level': 1,\n",
       "  'OpeningTime': '8:00am',\n",
       "  'ClosingTime': '6:00pm'},\n",
       " 'T8': {'Latitude': 45.02347908679639,\n",
       "  'Longitude': -0.8072126299796225,\n",
       "  'TaskDuration': 60,\n",
       "  'Skill': 'Oenology',\n",
       "  'Level': 1,\n",
       "  'OpeningTime': '8:00am',\n",
       "  'ClosingTime': '6:00pm'},\n",
       " 'T9': {'Latitude': 45.29291368453335,\n",
       "  'Longitude': -0.9365361007032236,\n",
       "  'TaskDuration': 60,\n",
       "  'Skill': 'Oenology',\n",
       "  'Level': 2,\n",
       "  'OpeningTime': '8:00am',\n",
       "  'ClosingTime': '6:00pm'},\n",
       " 'T10': {'Latitude': 45.08146166752168,\n",
       "  'Longitude': -0.8062453230620741,\n",
       "  'TaskDuration': 60,\n",
       "  'Skill': 'Oenology',\n",
       "  'Level': 1,\n",
       "  'OpeningTime': '8:00am',\n",
       "  'ClosingTime': '6:00pm'}}"
      ]
     },
     "execution_count": 5,
     "metadata": {},
     "output_type": "execute_result"
    }
   ],
   "source": [
    "dict_Task"
   ]
  },
  {
   "attachments": {},
   "cell_type": "markdown",
   "metadata": {},
   "source": [
    "#### Sets"
   ]
  },
  {
   "cell_type": "code",
   "execution_count": 6,
   "metadata": {},
   "outputs": [],
   "source": [
    "Workers = list(df_Workers.index)\n",
    "Skills = list(df_Workers[\"Skill\"].unique())\n",
    "Tasks = list(df_Task.index)"
   ]
  },
  {
   "attachments": {},
   "cell_type": "markdown",
   "metadata": {},
   "source": [
    "#### Parameters"
   ]
  },
  {
   "attachments": {},
   "cell_type": "markdown",
   "metadata": {},
   "source": [
    "level_skill: level of worker (in Workers) in some skill (of Skills)"
   ]
  },
  {
   "cell_type": "code",
   "execution_count": 7,
   "metadata": {},
   "outputs": [],
   "source": [
    "def time_to_minutes(time_str):\n",
    "    str_hour = time_str[:-2]\n",
    "    am_pm = time_str[-2:]\n",
    "    hour_str, minute = str_hour.split(':')\n",
    "    hour = int(hour_str)\n",
    "    if am_pm == 'pm':\n",
    "        hour += 12\n",
    "    return hour * 60 + int(minute)"
   ]
  },
  {
   "cell_type": "code",
   "execution_count": 8,
   "metadata": {},
   "outputs": [
    {
     "data": {
      "text/plain": [
       "{'Valentin': {'Oenology': 2}, 'Ambre': {'Oenology': 1}}"
      ]
     },
     "execution_count": 8,
     "metadata": {},
     "output_type": "execute_result"
    }
   ],
   "source": [
    "df_aux = pd.DataFrame()\n",
    "for skill in Skills:\n",
    "    df_aux[skill] = df_Workers.apply(lambda x: x['Level'] if x['Skill'] == skill else 0, axis=1)\n",
    "l = df_aux.to_dict('index')\n",
    "l"
   ]
  },
  {
   "cell_type": "code",
   "execution_count": 9,
   "metadata": {},
   "outputs": [
    {
     "data": {
      "text/plain": [
       "{'T1': 'Oenology',\n",
       " 'T2': 'Oenology',\n",
       " 'T3': 'Oenology',\n",
       " 'T4': 'Oenology',\n",
       " 'T5': 'Oenology',\n",
       " 'T6': 'Oenology',\n",
       " 'T7': 'Oenology',\n",
       " 'T8': 'Oenology',\n",
       " 'T9': 'Oenology',\n",
       " 'T10': 'Oenology'}"
      ]
     },
     "execution_count": 9,
     "metadata": {},
     "output_type": "execute_result"
    }
   ],
   "source": [
    "# Opening time for taks i\n",
    "a = df_Task.apply(lambda x: time_to_minutes(x['OpeningTime']), axis=1).to_dict()\n",
    "# Closing time for taks i\n",
    "b = df_Task.apply(lambda x: time_to_minutes(x['ClosingTime']), axis=1).to_dict()\n",
    "\n",
    "# time worker w start working\n",
    "alpha = df_Workers.apply(lambda x: time_to_minutes(x['WorkingStartTime']), axis=1).to_dict()\n",
    "# time worker w end working\n",
    "beta = df_Workers.apply(lambda x: time_to_minutes(x['WorkingEndTime']), axis=1).to_dict()\n",
    "\n",
    "# Duration of the task i\n",
    "d = df_Task['TaskDuration'].to_dict()\n",
    "# Skill requierd by task i\n",
    "s = df_Task['Skill'].to_dict()"
   ]
  },
  {
   "cell_type": "code",
   "execution_count": 10,
   "metadata": {},
   "outputs": [
    {
     "data": {
      "text/plain": [
       "{'T1': {'Oenology': 1},\n",
       " 'T2': {'Oenology': 1},\n",
       " 'T3': {'Oenology': 2},\n",
       " 'T4': {'Oenology': 1},\n",
       " 'T5': {'Oenology': 2},\n",
       " 'T6': {'Oenology': 2},\n",
       " 'T7': {'Oenology': 1},\n",
       " 'T8': {'Oenology': 1},\n",
       " 'T9': {'Oenology': 2},\n",
       " 'T10': {'Oenology': 1}}"
      ]
     },
     "execution_count": 10,
     "metadata": {},
     "output_type": "execute_result"
    }
   ],
   "source": [
    "# Level requierd by task i on the skill s\n",
    "df_aux = pd.DataFrame()\n",
    "for skill in Skills:\n",
    "    df_aux[skill] = df_Task.apply(lambda x: x['Level'] if x['Skill'] == skill else 100, axis=1)\n",
    "r = df_aux.to_dict('index')\n",
    "r"
   ]
  },
  {
   "cell_type": "code",
   "execution_count": 11,
   "metadata": {},
   "outputs": [],
   "source": [
    "def read_lat_log(df):\n",
    "    nodes = []\n",
    "    for name, dic_inf in df.items():\n",
    "        nodes.append([name,(dic_inf[\"Latitude\"], dic_inf[\"Longitude\"])])\n",
    "    return nodes\n",
    "\n",
    "def haversine(pt1, pt2):\n",
    "    R = 6371  # radius of the Earth in kilometers\n",
    "    lat1, lon1, lat2, lon2 = map(np.radians, [pt1[0], pt1[1], pt2[0], pt2[1]])\n",
    "    dlat = lat2 - lat1\n",
    "    dlon = lon2 - lon1\n",
    "    a = np.sin(dlat / 2) ** 2 + np.cos(lat1) * np.cos(lat2) * np.sin(dlon / 2) ** 2\n",
    "    c = 2 * np.arcsin(np.sqrt(a))\n",
    "    return R * c\n",
    "\n",
    "def distance_matrix(nodes):\n",
    "    # Create distance matrix with haversine distance\n",
    "    n = len(nodes)\n",
    "    dist_matrix = np.zeros((n, n))\n",
    "    for i in range(n):\n",
    "        for j in range(i, n):\n",
    "            dist = haversine(nodes[i], nodes[j])\n",
    "            dist_matrix[i][j] = dist\n",
    "            dist_matrix[j][i] = dist\n",
    "    return dist_matrix\n"
   ]
  },
  {
   "cell_type": "code",
   "execution_count": 12,
   "metadata": {},
   "outputs": [],
   "source": [
    "def read_lat_log(df):\n",
    "    nodes = {}\n",
    "    for name, dic_inf in df.items():\n",
    "        nodes[name] = (dic_inf[\"Latitude\"], dic_inf[\"Longitude\"])\n",
    "    return nodes\n",
    "\n",
    "def haversine(pt1, pt2):\n",
    "    R = 6371  # radius of the Earth in kilometers\n",
    "    lat1, lon1, lat2, lon2 = map(np.radians, [pt1[0], pt1[1], pt2[0], pt2[1]])\n",
    "    dlat = lat2 - lat1\n",
    "    dlon = lon2 - lon1\n",
    "    a = np.sin(dlat / 2) ** 2 + np.cos(lat1) * np.cos(lat2) * np.sin(dlon / 2) ** 2\n",
    "    c = 2 * np.arcsin(np.sqrt(a))\n",
    "    return R * c\n",
    "\n",
    "def distance_matrix(nodes):\n",
    "    # Create distance matrix with haversine distance\n",
    "    dist_matrix = {}\n",
    "    for node_i in nodes.keys():\n",
    "        dist_matrix[node_i] = {}\n",
    "        for node_j in nodes.keys():\n",
    "            dist = haversine(nodes[node_i], nodes[node_j])\n",
    "            dist_matrix[node_i][node_j] = np.ceil(dist / 50 * 60)\n",
    "    return dist_matrix\n"
   ]
  },
  {
   "cell_type": "code",
   "execution_count": null,
   "metadata": {},
   "outputs": [],
   "source": []
  },
  {
   "cell_type": "code",
   "execution_count": 13,
   "metadata": {},
   "outputs": [
    {
     "data": {
      "text/plain": [
       "93.0"
      ]
     },
     "execution_count": 13,
     "metadata": {},
     "output_type": "execute_result"
    }
   ],
   "source": [
    "# Denfine the nodes\n",
    "nodes = read_lat_log(dict_Workers)| read_lat_log(dict_Task)\n",
    "\n",
    "## Define the time matrix in minutes round ceil between a node (task or worker) with another (task or worker)\n",
    "t = distance_matrix(nodes)\n",
    "t['Valentin']['T1']"
   ]
  },
  {
   "attachments": {},
   "cell_type": "markdown",
   "metadata": {},
   "source": [
    "### Les variables"
   ]
  },
  {
   "cell_type": "code",
   "execution_count": 14,
   "metadata": {},
   "outputs": [
    {
     "name": "stdout",
     "output_type": "stream",
     "text": [
      "Set parameter Username\n",
      "Academic license - for non-commercial use only - expires 2024-01-26\n"
     ]
    }
   ],
   "source": [
    "def init_param():\n",
    "    return Workers, Skills, Tasks, l, a, b, alpha, beta, d, s, r, t"
   ]
  }
 ],
 "metadata": {
  "kernelspec": {
   "display_name": "Python 3",
   "language": "python",
   "name": "python3"
  },
  "language_info": {
   "codemirror_mode": {
    "name": "ipython",
    "version": 3
   },
   "file_extension": ".py",
   "mimetype": "text/x-python",
   "name": "python",
   "nbconvert_exporter": "python",
   "pygments_lexer": "ipython3",
   "version": "3.9.7"
  },
  "orig_nbformat": 4,
  "vscode": {
   "interpreter": {
    "hash": "08fa027d4216c289e613a79d04b3ab3c478e521c052ac6036f797fd78ced4960"
   }
  }
 },
 "nbformat": 4,
 "nbformat_minor": 2
}
